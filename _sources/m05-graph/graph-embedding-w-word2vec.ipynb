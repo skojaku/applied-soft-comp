{
 "cells": [
  {
   "cell_type": "markdown",
   "id": "0a354278",
   "metadata": {},
   "source": [
    "# Graph embedding with word2vec\n",
    "\n",
    "How can we apply word2vec to graph data? There is a critical challenge: word2vec takes sequence of words as input, while graph data are discrete and unordered. A solution to fill this gap is *random walk*, which transforms graph data into a sequence of nodes. Once we have a sequence of nodes, we can treat it as a sequence of words and apply word2vec.\n",
    "\n",
    "\n",
    "## DeepWalk\n",
    "\n",
    "![](https://dt5vp8kor0orz.cloudfront.net/7c56c256b9fbf06693da47737ac57fae803a5a4f/1-Figure1-1.png)\n",
    "\n",
    "DeepWalk is one of the pioneering works to apply word2vec to graph data {footcite}`perozzi2014deepwalk`. It views the nodes as words and the nodes random walks on the graph as sentences, and applies word2vec to learn the node embeddings.\n",
    "\n",
    "More specifically, the method contains the following steps:\n",
    "\n",
    "1. Sample multiple random walks from the graph.\n",
    "2. Treat the random walks as sentences and feed them to word2vev to learn the node embeddings.\n",
    "\n",
    "\n",
    "There are some technical details that we need to be aware of, which we will learn by implementing DeepWalk in the following exercise.\n",
    "\n",
    "### Exercise 01: Implement DeepWalk\n",
    "\n",
    "In this exercise, we implement DeepWalk step by step.\n",
    "\n",
    "#### Step 1: Data preparation\n",
    "\n",
    "We will use the karate club network as an example.\n",
    "\n",
    "**Load the data**"
   ]
  },
  {
   "cell_type": "code",
   "execution_count": 1,
   "id": "f6319716",
   "metadata": {
    "tags": [
     "hide-input"
    ]
   },
   "outputs": [
    {
     "ename": "AttributeError",
     "evalue": "Plotting not available; please install pycairo or cairocffi",
     "output_type": "error",
     "traceback": [
      "\u001b[0;31m---------------------------------------------------------------------------\u001b[0m",
      "\u001b[0;31mAttributeError\u001b[0m                            Traceback (most recent call last)",
      "Cell \u001b[0;32mIn[1], line 13\u001b[0m\n\u001b[1;32m     10\u001b[0m g\u001b[38;5;241m.\u001b[39mvs[\u001b[38;5;124m\"\u001b[39m\u001b[38;5;124mlabel\u001b[39m\u001b[38;5;124m\"\u001b[39m] \u001b[38;5;241m=\u001b[39m np\u001b[38;5;241m.\u001b[39munique([d[\u001b[38;5;241m1\u001b[39m][\u001b[38;5;124m'\u001b[39m\u001b[38;5;124mclub\u001b[39m\u001b[38;5;124m'\u001b[39m] \u001b[38;5;28;01mfor\u001b[39;00m d \u001b[38;5;129;01min\u001b[39;00m nx\u001b[38;5;241m.\u001b[39mkarate_club_graph()\u001b[38;5;241m.\u001b[39mnodes(data\u001b[38;5;241m=\u001b[39m\u001b[38;5;28;01mTrue\u001b[39;00m)], return_inverse\u001b[38;5;241m=\u001b[39m\u001b[38;5;28;01mTrue\u001b[39;00m)[\u001b[38;5;241m1\u001b[39m]\n\u001b[1;32m     12\u001b[0m palette \u001b[38;5;241m=\u001b[39m sns\u001b[38;5;241m.\u001b[39mcolor_palette()\u001b[38;5;241m.\u001b[39mas_hex()\n\u001b[0;32m---> 13\u001b[0m \u001b[43migraph\u001b[49m\u001b[38;5;241;43m.\u001b[39;49m\u001b[43mplot\u001b[49m\u001b[43m(\u001b[49m\u001b[43mg\u001b[49m\u001b[43m,\u001b[49m\u001b[43m \u001b[49m\u001b[43mvertex_color\u001b[49m\u001b[38;5;241;43m=\u001b[39;49m\u001b[43m[\u001b[49m\u001b[43mpalette\u001b[49m\u001b[43m[\u001b[49m\u001b[43mlabel\u001b[49m\u001b[43m]\u001b[49m\u001b[43m \u001b[49m\u001b[38;5;28;43;01mfor\u001b[39;49;00m\u001b[43m \u001b[49m\u001b[43mlabel\u001b[49m\u001b[43m \u001b[49m\u001b[38;5;129;43;01min\u001b[39;49;00m\u001b[43m \u001b[49m\u001b[43mg\u001b[49m\u001b[38;5;241;43m.\u001b[39;49m\u001b[43mvs\u001b[49m\u001b[43m[\u001b[49m\u001b[38;5;124;43m\"\u001b[39;49m\u001b[38;5;124;43mlabel\u001b[39;49m\u001b[38;5;124;43m\"\u001b[39;49m\u001b[43m]\u001b[49m\u001b[43m]\u001b[49m\u001b[43m,\u001b[49m\u001b[43m \u001b[49m\u001b[43mbbox\u001b[49m\u001b[38;5;241;43m=\u001b[39;49m\u001b[43m(\u001b[49m\u001b[38;5;241;43m300\u001b[39;49m\u001b[43m,\u001b[49m\u001b[43m \u001b[49m\u001b[38;5;241;43m300\u001b[39;49m\u001b[43m)\u001b[49m\u001b[43m)\u001b[49m\n",
      "File \u001b[0;32m~/miniforge3/envs/applsoftcomp/lib/python3.10/site-packages/igraph/drawing/__init__.py:299\u001b[0m, in \u001b[0;36mplot\u001b[0;34m(obj, target, bbox, *args, **kwds)\u001b[0m\n\u001b[1;32m    297\u001b[0m background \u001b[38;5;241m=\u001b[39m kwds\u001b[38;5;241m.\u001b[39mpop(\u001b[38;5;124m\"\u001b[39m\u001b[38;5;124mbackground\u001b[39m\u001b[38;5;124m\"\u001b[39m, \u001b[38;5;124m\"\u001b[39m\u001b[38;5;124mwhite\u001b[39m\u001b[38;5;124m\"\u001b[39m)\n\u001b[1;32m    298\u001b[0m margin \u001b[38;5;241m=\u001b[39m \u001b[38;5;28mfloat\u001b[39m(kwds\u001b[38;5;241m.\u001b[39mpop(\u001b[38;5;124m\"\u001b[39m\u001b[38;5;124mmargin\u001b[39m\u001b[38;5;124m\"\u001b[39m, \u001b[38;5;241m20\u001b[39m))\n\u001b[0;32m--> 299\u001b[0m result \u001b[38;5;241m=\u001b[39m \u001b[43mCairoPlot\u001b[49m\u001b[43m(\u001b[49m\n\u001b[1;32m    300\u001b[0m \u001b[43m    \u001b[49m\u001b[43mtarget\u001b[49m\u001b[38;5;241;43m=\u001b[39;49m\u001b[43mtarget\u001b[49m\u001b[43m,\u001b[49m\n\u001b[1;32m    301\u001b[0m \u001b[43m    \u001b[49m\u001b[43mbbox\u001b[49m\u001b[38;5;241;43m=\u001b[39;49m\u001b[43mbbox\u001b[49m\u001b[43m,\u001b[49m\n\u001b[1;32m    302\u001b[0m \u001b[43m    \u001b[49m\u001b[43mpalette\u001b[49m\u001b[38;5;241;43m=\u001b[39;49m\u001b[43mpalette\u001b[49m\u001b[43m,\u001b[49m\n\u001b[1;32m    303\u001b[0m \u001b[43m    \u001b[49m\u001b[43mbackground\u001b[49m\u001b[38;5;241;43m=\u001b[39;49m\u001b[43mbackground\u001b[49m\u001b[43m,\u001b[49m\n\u001b[1;32m    304\u001b[0m \u001b[43m\u001b[49m\u001b[43m)\u001b[49m\n\u001b[1;32m    305\u001b[0m item_bbox \u001b[38;5;241m=\u001b[39m result\u001b[38;5;241m.\u001b[39mbbox\u001b[38;5;241m.\u001b[39mcontract(margin)\n\u001b[1;32m    306\u001b[0m result\u001b[38;5;241m.\u001b[39madd(obj, item_bbox, \u001b[38;5;241m*\u001b[39margs, \u001b[38;5;241m*\u001b[39m\u001b[38;5;241m*\u001b[39mkwds)\n",
      "File \u001b[0;32m~/miniforge3/envs/applsoftcomp/lib/python3.10/site-packages/igraph/drawing/cairo/plot.py:148\u001b[0m, in \u001b[0;36mCairoPlot.__init__\u001b[0;34m(self, target, bbox, palette, background)\u001b[0m\n\u001b[1;32m    146\u001b[0m \u001b[38;5;28;01mif\u001b[39;00m target \u001b[38;5;129;01mis\u001b[39;00m \u001b[38;5;28;01mNone\u001b[39;00m:\n\u001b[1;32m    147\u001b[0m     \u001b[38;5;28mself\u001b[39m\u001b[38;5;241m.\u001b[39m_need_tmpfile \u001b[38;5;241m=\u001b[39m \u001b[38;5;28;01mTrue\u001b[39;00m\n\u001b[0;32m--> 148\u001b[0m     \u001b[38;5;28mself\u001b[39m\u001b[38;5;241m.\u001b[39m_surface \u001b[38;5;241m=\u001b[39m \u001b[43mcairo\u001b[49m\u001b[38;5;241;43m.\u001b[39;49m\u001b[43mImageSurface\u001b[49m(\n\u001b[1;32m    149\u001b[0m         cairo\u001b[38;5;241m.\u001b[39mFORMAT_ARGB32, \u001b[38;5;28mint\u001b[39m(\u001b[38;5;28mself\u001b[39m\u001b[38;5;241m.\u001b[39mbbox\u001b[38;5;241m.\u001b[39mwidth), \u001b[38;5;28mint\u001b[39m(\u001b[38;5;28mself\u001b[39m\u001b[38;5;241m.\u001b[39mbbox\u001b[38;5;241m.\u001b[39mheight)\n\u001b[1;32m    150\u001b[0m     )\n\u001b[1;32m    151\u001b[0m \u001b[38;5;28;01melif\u001b[39;00m \u001b[38;5;28misinstance\u001b[39m(target, cairo\u001b[38;5;241m.\u001b[39mSurface):\n\u001b[1;32m    152\u001b[0m     \u001b[38;5;28mself\u001b[39m\u001b[38;5;241m.\u001b[39m_surface \u001b[38;5;241m=\u001b[39m target\n",
      "File \u001b[0;32m~/miniforge3/envs/applsoftcomp/lib/python3.10/site-packages/igraph/drawing/utils.py:428\u001b[0m, in \u001b[0;36mFakeModule.__getattr__\u001b[0;34m(self, _)\u001b[0m\n\u001b[1;32m    427\u001b[0m \u001b[38;5;28;01mdef\u001b[39;00m \u001b[38;5;21m__getattr__\u001b[39m(\u001b[38;5;28mself\u001b[39m, _):\n\u001b[0;32m--> 428\u001b[0m     \u001b[38;5;28;01mraise\u001b[39;00m \u001b[38;5;167;01mAttributeError\u001b[39;00m(\u001b[38;5;28mself\u001b[39m\u001b[38;5;241m.\u001b[39m_message)\n",
      "\u001b[0;31mAttributeError\u001b[0m: Plotting not available; please install pycairo or cairocffi"
     ]
    }
   ],
   "source": [
    "import igraph\n",
    "import networkx as nx\n",
    "import numpy as np\n",
    "import seaborn as sns\n",
    "\n",
    "g = igraph.Graph.Famous(\"Zachary\")\n",
    "A = g.get_adjacency_sparse()\n",
    "\n",
    "# Add the community labels to the nodes for visualization\n",
    "g.vs[\"label\"] = np.unique([d[1]['club'] for d in nx.karate_club_graph().nodes(data=True)], return_inverse=True)[1]\n",
    "\n",
    "palette = sns.color_palette().as_hex()\n",
    "igraph.plot(g, vertex_color=[palette[label] for label in g.vs[\"label\"]], bbox=(300, 300))"
   ]
  },
  {
   "cell_type": "markdown",
   "id": "352ea7bb",
   "metadata": {},
   "source": [
    "#### Step 2: Generate random walks\n",
    "\n",
    "Next, we generate the training data for the word2vec model by generating multiple random walks starting from each node in the network.\n",
    "Let us first implement a function to sample random walks from a given network."
   ]
  },
  {
   "cell_type": "code",
   "execution_count": null,
   "id": "75486320",
   "metadata": {},
   "outputs": [],
   "source": [
    "def random_walk(net, start_node, walk_length):\n",
    "    # Initialize the walk with the starting node\n",
    "    walk = [start_node]\n",
    "\n",
    "    # Continue the walk until the desired length is reached\n",
    "    while len(walk) < walk_length:\n",
    "        # Get the current node (the last node in the walk)\n",
    "        cur = walk[-1]\n",
    "\n",
    "        # Get the neighbors of the current node\n",
    "        cur_nbrs = list(net[cur].indices)\n",
    "\n",
    "        # If the current node has neighbors, randomly choose one and add it to the walk\n",
    "        if len(cur_nbrs) > 0:\n",
    "            walk.append(np.random.choice(cur_nbrs))\n",
    "        else:\n",
    "            # If the current node has no neighbors, terminate the walk\n",
    "            break\n",
    "\n",
    "    # Return the generated walk\n",
    "    return walk"
   ]
  },
  {
   "cell_type": "markdown",
   "id": "b97b0615",
   "metadata": {},
   "source": [
    "Generate 10 random walks of length 50 starting from each node."
   ]
  },
  {
   "cell_type": "code",
   "execution_count": null,
   "id": "366a9e06",
   "metadata": {},
   "outputs": [],
   "source": [
    "n_nodes = g.vcount()\n",
    "n_walkers_per_node = 10\n",
    "walk_length = 50\n",
    "walks = []\n",
    "for i in range(n_nodes):\n",
    "    for _ in range(n_walkers_per_node):\n",
    "        walks.append(random_walk(A, i, walk_length))"
   ]
  },
  {
   "cell_type": "markdown",
   "id": "19aaccc2",
   "metadata": {},
   "source": [
    "#### Step 3: Train the word2vec model\n",
    "Then, we feed the random walks to the word2vec model."
   ]
  },
  {
   "cell_type": "code",
   "execution_count": null,
   "id": "9f11410d",
   "metadata": {},
   "outputs": [],
   "source": [
    "from gensim.models import Word2Vec\n",
    "\n",
    "model = Word2Vec(walks, vector_size=32, window=3, min_count=1, sg=1, hs = 1)"
   ]
  },
  {
   "cell_type": "markdown",
   "id": "af13cf22",
   "metadata": {},
   "source": [
    "Here,\n",
    "\n",
    "- `vector_size` is the dimension of the embedding vectors.\n",
    "- `window` indicates the maximum distance between a word and its context words. For example, in the random walk `[0, 1, 2, 3, 4, 5, 6, 7]`, the context words of node 2 are `[0, 1, 3, 4, 5]` when `window=3`.\n",
    "- `min_count` is the minimum number of times a word must appear in the training data to be included in the vocabulary.\n",
    "\n",
    "Two parameters `sg=1` and `hs=1` indicate that we are using the skip-gram model with negative sampling. Let us understand what they mean in detail as follows.\n",
    "\n",
    "- **Skip-gram model**: it trains word2vec by predicting context words given a target word. For example, given the sentence \"The quick brown fox jumps over the lazy dog\", in the skip-gram model, given the target word \"fox\", the model will try to predict the context words \"quick\", \"brown\", \"jumps\", and \"over\". If `sg=0`, the input and output are swapped: the model will predict the target word from the context words, e.g., given the context words \"quick\", \"brown\", \"jumps\", and \"over\", the model will predict the target word \"fox\".\n",
    "\n",
    "- **Hierarchical softmax**: To understand hierarchical softmax better, let's break down how the word2vec model works. The goal of word2vec is to predict context words given a target word. For example, if our target word is $w_t$ and our context word is $w_c$, we want to find the probability of $w_c$ given $w_t$. This probability is calculated using the softmax function:\n",
    "\n",
    "    $$\n",
    "    P(w_c | w_t) = \\frac{\\exp(\\mathbf{v}_{w_c} \\cdot \\mathbf{v}_{w_t})}{\\sum_{w \\in V} \\exp(\\mathbf{v}_w \\cdot \\mathbf{u}_{w_t})}\n",
    "   $$\n",
    "\n",
    "    Here, $\\mathbf{v}_w$ and $\\mathbf{u}_w$ represent the vector for word $w$ as context and target respectively, and $V$ is the entire vocabulary. The tricky part is the denominator, which requires summing over all words in the vocabulary. If we have a large vocabulary, this can be very computationally expensive. Imagine having to compute 100,000 exponentials and their sum for each training example if our vocabulary size is 100,000!\n",
    "\n",
    "    Hierarchical softmax helps us solve this problem. Instead of calculating the probability directly, it organizes the vocabulary into a binary tree, where each word is a leaf node. To find the probability of a word, we calculate the product of probabilities along the path from the root to the leaf node. This method significantly reduces the computational complexity. Instead of being proportional to the vocabulary size, it becomes proportional to the logarithm of the vocabulary size. This makes it much more efficient, especially for large vocabularies.\n",
    "\n",
    "    ![](https://lh5.googleusercontent.com/proxy/_omrC8G6quTl2SGarwFe57qzbIs-PtGkEA5yODFE5I0Ny2IHGiJwsUhMrcuUqg5o-R2nD9hkgMuZsQJKoCggP29zXtj-Vz-X8BE)\n",
    "\n",
    "\n",
    "By using the skip-gram model with hierarchical softmax, we can efficiently learn high-quality word embeddings even when dealing with large vocabularies.\n",
    "\n",
    "Now, we extract the node embeddings from the word2vec model. In the word2vec model, the embeddings are stored in the `wv` attribute. The embedding of node $i$ is given by `model.wv[i]`."
   ]
  },
  {
   "cell_type": "code",
   "execution_count": null,
   "id": "3237cd99",
   "metadata": {},
   "outputs": [],
   "source": [
    "embedding = []\n",
    "for i in range(n_nodes):\n",
    "    embedding.append(model.wv[i])\n",
    "embedding = np.array(embedding)"
   ]
  },
  {
   "cell_type": "markdown",
   "id": "554eaeae",
   "metadata": {},
   "source": [
    "`embedding` is the matrix of node embeddings. It has the same number of rows as the number of nodes in the network, and the number of columns is the embedding dimension.\n",
    "\n",
    "**Print the first 3 nodes**"
   ]
  },
  {
   "cell_type": "code",
   "execution_count": null,
   "id": "61e68643",
   "metadata": {
    "tags": [
     "hide-input"
    ]
   },
   "outputs": [],
   "source": [
    "embedding[:3]"
   ]
  },
  {
   "cell_type": "markdown",
   "id": "4bda8580",
   "metadata": {},
   "source": [
    "Let's visualize the node embeddings using UMAP."
   ]
  },
  {
   "cell_type": "code",
   "execution_count": null,
   "id": "e7bbeacc",
   "metadata": {
    "tags": [
     "hide-input"
    ]
   },
   "outputs": [],
   "source": [
    "import umap\n",
    "from bokeh.plotting import figure, show\n",
    "from bokeh.io import output_notebook\n",
    "from bokeh.models import ColumnDataSource, HoverTool\n",
    "\n",
    "\n",
    "reducer = umap.UMAP(n_components=2, random_state=42, n_neighbors=15, metric=\"cosine\")\n",
    "xy = reducer.fit_transform(embedding)\n",
    "\n",
    "output_notebook()\n",
    "\n",
    "# Calculate the degree of each node\n",
    "degrees = A.sum(axis=1).A1\n",
    "\n",
    "source = ColumnDataSource(data=dict(\n",
    "    x=xy[:, 0],\n",
    "    y=xy[:, 1],\n",
    "    size=np.sqrt(degrees / np.max(degrees)) * 30,\n",
    "    community=[palette[label] for label in g.vs[\"label\"]]\n",
    "))\n",
    "\n",
    "p = figure(title=\"Node Embeddings from Word2Vec\", x_axis_label=\"X\", y_axis_label=\"Y\")\n",
    "\n",
    "p.scatter('x', 'y', size='size', source=source, line_color=\"black\", color=\"community\")\n",
    "\n",
    "show(p)"
   ]
  },
  {
   "cell_type": "markdown",
   "id": "47e0de97",
   "metadata": {},
   "source": [
    "#### Step 4: Clustering\n",
    "\n",
    "One of the interesting applications with node embeddings is clustering. While we have good community detection methods, like the modularity maximization and stochastic block model, we can use clustering methods from machine learning, such as $K$-means and Gaussian mixture model. Let's see what we can get from the node embeddings."
   ]
  },
  {
   "cell_type": "code",
   "execution_count": null,
   "id": "de75dfcd",
   "metadata": {},
   "outputs": [],
   "source": [
    "from sklearn.cluster import KMeans\n",
    "from sklearn.metrics import silhouette_score\n",
    "\n",
    "# Determine the optimal number of clusters using the silhouette score\n",
    "def Kmeans_with_silhouette(embedding, n_clusters_range=(2, 10)):\n",
    "    silhouette_scores = []\n",
    "\n",
    "    # Iterate over a range of cluster numbers from 2 to 9\n",
    "    for n_clusters in range(*n_clusters_range):\n",
    "        # Create a KMeans object with the current number of clusters\n",
    "        kmeans = KMeans(n_clusters=n_clusters)\n",
    "\n",
    "        # Fit the KMeans model to the embedding data\n",
    "        kmeans.fit(embedding)\n",
    "\n",
    "        # Calculate the silhouette score for the current clustering\n",
    "        score = silhouette_score(embedding, kmeans.labels_)\n",
    "\n",
    "        # Append the number of clusters and its corresponding silhouette score to the list\n",
    "        silhouette_scores.append((n_clusters, score))\n",
    "\n",
    "    # Find the number of clusters that has the highest silhouette score\n",
    "    optimal_n_clusters = max(silhouette_scores, key=lambda x: x[1])[0]\n",
    "\n",
    "    # Create a KMeans object with the optimal number of clusters\n",
    "    kmeans = KMeans(n_clusters=optimal_n_clusters)\n",
    "\n",
    "    # Fit the KMeans model to the embedding data with the optimal number of clusters\n",
    "    kmeans.fit(embedding)\n",
    "\n",
    "    # Return the labels (cluster assignments) for each data point\n",
    "    return kmeans.labels_"
   ]
  },
  {
   "cell_type": "code",
   "execution_count": null,
   "id": "d8ff1b34",
   "metadata": {},
   "outputs": [],
   "source": [
    "import seaborn as sns\n",
    "labels = Kmeans_with_silhouette(embedding)\n",
    "cmap = sns.color_palette().as_hex()\n",
    "igraph.plot(g, vertex_color=[cmap[label] for label in labels], bbox=(500, 500))"
   ]
  },
  {
   "cell_type": "markdown",
   "id": "5719b268",
   "metadata": {},
   "source": [
    "## node2vec\n",
    "\n",
    "node2vec is a sibling of DeepWalk proposed by {footcite}`grover2016node2vec`. Both use word2vec trained on random walks on networks. So, it appears that they are very similar. However, the following two components make them very different.\n",
    "\n",
    "- **Biased random walk**: node2vec uses biased random walks that can move in different directions. The bias walk is parameterized by two parameters, $p$ and $q$:\n",
    "\n",
    "    $$\n",
    "    P(v_{t+1} = x | v_t = v, v_{t-1} = t) \\propto\n",
    "    \\begin{cases}\n",
    "    \\frac{1}{p} & \\text{if } d(v,t) = 0 \\\\\n",
    "    1 & \\text{if } d(v,t) = 1 \\\\\n",
    "    \\frac{1}{q} & \\text{if } d(v,t) = 2 \\\\\n",
    "    \\end{cases}\n",
    "    $$\n",
    "\n",
    "    where $d(v,x)$ is the shortest path distance between node $v$ and $x$. A smaller $p$ leads to more biased towards the previous node, $v_{t-1} = t$. A smaller $q$ leads to more biased towards the nodes that are further away from the previous node, $v_{t-1} = t$.\n",
    "\n",
    "    By adjusting the parameters $p$ and $q$, we can influence the random walk to behave more like either breadth-first sampling (BFS) or depth-first sampling (DFS).\n",
    "\n",
    "    - **Breadth-First Sampling (BFS)**: This type of sampling explores all the neighbors of a node before moving on to the next level of neighbors. It is useful for capturing community structures within the graph. When we set the parameters to favor BFS, the resulting embeddings will reflect these community structures.\n",
    "\n",
    "    - **Depth-First Sampling (DFS)**: This type of sampling goes deep into the graph, exploring as far as possible along each branch before backtracking. It is useful for capturing structural equivalence, where nodes that have similar roles in the graph (even if they are not directly connected) are represented similarly. When we set the parameters to favor DFS, the resulting embeddings will reflect these structural equivalences.\n",
    "\n",
    "    ![](https://www.researchgate.net/publication/354654762/figure/fig3/AS:1069013035655173@1631883977008/A-biased-random-walk-procedure-of-node2vec-B-BFS-and-DFS-search-strategies-from-node-u.png)\n",
    "\n",
    "    The embeddings generated by node2vec can capture different aspects of the graph depending on the sampling strategy used. With BFS, we capture community structures, and with DFS, we capture structural equivalence.\n",
    "\n",
    "    ![](https://miro.medium.com/v2/resize:fit:1138/format:webp/1*nCyF5jFSU5uJVdAPdf-0HA.png)\n",
    "\n",
    "- **Negative sampling**: node2vec uses negative sampling, instead of hierarchical softmax. This difference appears to be minor, but it has significant consequences on the characteristics of the embeddings. This is beyond the scope of this lecture, but you can refer to {footcite}`kojaku2021neurips` and {footcite}`dyer2014notes` for more details.\n",
    "\n",
    "\n",
    "### Exercise 02: Implement node2vec\n",
    "\n",
    "Let's implement the biased random walk for node2vec"
   ]
  },
  {
   "cell_type": "code",
   "execution_count": null,
   "id": "884cc53c",
   "metadata": {},
   "outputs": [],
   "source": [
    "def node2vec_random_walk(net, start_node, walk_length, p, q):\n",
    "    \"\"\"\n",
    "    Sample a random walk starting from start_node.\n",
    "    \"\"\"\n",
    "    # Initialize the walk with the start_node\n",
    "    walk = [start_node]\n",
    "\n",
    "    # Continue the walk until it reaches the desired length\n",
    "    while len(walk) < walk_length:\n",
    "        # Get the current node in the walk\n",
    "        cur = walk[-1]\n",
    "        # Get the neighbors of the current node\n",
    "        cur_nbrs = list(net[cur].indices)\n",
    "        # Check if the current node has any neighbors\n",
    "        if len(cur_nbrs) > 0:\n",
    "            # If the walk has just started, randomly choose the next node from the neighbors\n",
    "            if len(walk) == 1:\n",
    "                walk.append(np.random.choice(cur_nbrs))\n",
    "            else:\n",
    "                # Get the previous node in the walk\n",
    "                prev = walk[-2]\n",
    "                # Use the alias sampling method to choose the next node based on the bias parameters p and q\n",
    "                next_node = alias_sample(net, cur_nbrs, prev, p, q)\n",
    "                # Append the chosen next node to the walk\n",
    "                walk.append(next_node)\n",
    "        else:\n",
    "            # If the current node has no neighbors, terminate the walk\n",
    "            break\n",
    "\n",
    "    return walk\n",
    "\n",
    "def alias_sample(net, neighbors, prev, p, q):\n",
    "    \"\"\"\n",
    "    Helper function to sample the next node in the walk.\n",
    "    \"\"\"\n",
    "    # Implement the logic to sample the next node based on the bias parameters p and q\n",
    "    # You can use the formula provided in the instructions to calculate the probabilities\n",
    "    # and then sample the next node accordingly.\n",
    "    # Initialize an empty list to store the unnormalized probabilities for each neighbor\n",
    "    unnormalized_probs = []\n",
    "\n",
    "    # Iterate over each neighbor of the current node\n",
    "    for neighbor in neighbors:\n",
    "        # If the neighbor is the same as the previous node in the walk\n",
    "        if neighbor == prev:\n",
    "            # Append the probability 1/p to the unnormalized probabilities list\n",
    "            unnormalized_probs.append(1 / p)\n",
    "        # If the neighbor is connected to the previous node in the walk\n",
    "        elif neighbor in net[prev].indices:\n",
    "            # Append the probability 1 to the unnormalized probabilities list\n",
    "            unnormalized_probs.append(1)\n",
    "        # If the neighbor is not connected to the previous node in the walk\n",
    "        else:\n",
    "            # Append the probability 1/q to the unnormalized probabilities list\n",
    "            unnormalized_probs.append(1 / q)\n",
    "\n",
    "    # Calculate the normalization constant by summing all unnormalized probabilities\n",
    "    norm_const = sum(unnormalized_probs)\n",
    "\n",
    "    # Normalize the probabilities by dividing each unnormalized probability by the normalization constant\n",
    "    normalized_probs = [float(prob) / norm_const for prob in unnormalized_probs]\n",
    "\n",
    "    # Randomly choose the next node from the neighbors based on the normalized probabilities\n",
    "    next_node = np.random.choice(neighbors, size=1, p=normalized_probs)[0]\n",
    "\n",
    "    # Return the chosen next node\n",
    "    return next_node"
   ]
  },
  {
   "cell_type": "markdown",
   "id": "84e550ac",
   "metadata": {},
   "source": [
    "Now, let's set up the word2vec model for node2vec."
   ]
  },
  {
   "cell_type": "code",
   "execution_count": null,
   "id": "550ee982",
   "metadata": {},
   "outputs": [],
   "source": [
    "walks = []\n",
    "p = 1\n",
    "q = 0.1\n",
    "for i in range(n_nodes):\n",
    "    for _ in range(n_walkers_per_node):\n",
    "        walks.append(node2vec_random_walk(A, i, walk_length, p, q))\n",
    "model = Word2Vec(walks, vector_size=32, window=3, min_count=1, sg=1, hs = 1)"
   ]
  },
  {
   "cell_type": "markdown",
   "id": "71657953",
   "metadata": {},
   "source": [
    "where `hs=0` indicates that we are using negative sampling.\n",
    "Notice that we set `sg=1` and `hs=1` instead of `sg=1` and `hs=0` in DeepWalk. This is because node2vec uses the skip-gram model with negative sampling.\n",
    "\n",
    "Now, we extract the node embeddings from the word2vec model."
   ]
  },
  {
   "cell_type": "code",
   "execution_count": null,
   "id": "5f9f9037",
   "metadata": {},
   "outputs": [],
   "source": [
    "embedding = []\n",
    "for i in range(n_nodes):\n",
    "    embedding.append(model.wv[i])\n",
    "embedding = np.array(embedding)"
   ]
  },
  {
   "cell_type": "markdown",
   "id": "41eff333",
   "metadata": {},
   "source": [
    "Let's visualize the node embeddings from node2vec."
   ]
  },
  {
   "cell_type": "code",
   "execution_count": null,
   "id": "7c8da3ea",
   "metadata": {
    "tags": [
     "hide-input"
    ]
   },
   "outputs": [],
   "source": [
    "reducer = umap.UMAP(n_components=2, random_state=42, n_neighbors=15, metric=\"cosine\")\n",
    "xy = reducer.fit_transform(embedding)\n",
    "\n",
    "output_notebook()\n",
    "\n",
    "# Calculate the degree of each node\n",
    "degrees = A.sum(axis=1).A1\n",
    "\n",
    "source = ColumnDataSource(data=dict(\n",
    "    x=xy[:, 0],\n",
    "    y=xy[:, 1],\n",
    "    size=np.sqrt(degrees / np.max(degrees)) * 30,\n",
    "    community=[palette[label] for label in g.vs[\"label\"]],\n",
    "    name = [str(i) for i in range(n_nodes)]\n",
    "))\n",
    "\n",
    "p = figure(title=\"Node Embeddings from Word2Vec\", x_axis_label=\"X\", y_axis_label=\"Y\")\n",
    "\n",
    "p.scatter('x', 'y', size='size', source=source, line_color=\"black\", color=\"community\")\n",
    "\n",
    "hover = HoverTool()\n",
    "hover.tooltips = [\n",
    "    (\"Name\", \"@name\"),\n",
    "    (\"Community\", \"@community\")\n",
    "]\n",
    "p.add_tools(hover)\n",
    "\n",
    "show(p)"
   ]
  },
  {
   "cell_type": "markdown",
   "id": "331a3856",
   "metadata": {},
   "source": [
    "The results for clustering are as follows:"
   ]
  },
  {
   "cell_type": "code",
   "execution_count": null,
   "id": "6223d954",
   "metadata": {},
   "outputs": [],
   "source": [
    "import seaborn as sns\n",
    "\n",
    "labels = Kmeans_with_silhouette(embedding)\n",
    "\n",
    "\n",
    "cmap = sns.color_palette().as_hex()\n",
    "igraph.plot(g, vertex_color=[cmap[label] for label in labels], bbox=(500, 500), vertex_label=[\"%d\" %  d for d in  np.arange(n_nodes)])"
   ]
  },
  {
   "cell_type": "markdown",
   "id": "3a0e7124",
   "metadata": {},
   "source": [
    "## LINE\n",
    "\n",
    "LINE {footcite}`tang2015line` is another pioneering work to learn node embeddings by directly optimizing the graph structure.\n",
    "It is equivalent to node2vec with $p=1$, $q=1$, and window size 1.\n",
    "\n",
    "\n",
    "```{footbibliography}\n",
    "\n",
    "```"
   ]
  }
 ],
 "metadata": {
  "jupytext": {
   "formats": "md:myst",
   "text_representation": {
    "extension": ".md",
    "format_name": "myst"
   }
  },
  "kernelspec": {
   "display_name": "Python 3",
   "language": "python",
   "name": "python3"
  },
  "language_info": {
   "codemirror_mode": {
    "name": "ipython",
    "version": 3
   },
   "file_extension": ".py",
   "mimetype": "text/x-python",
   "name": "python",
   "nbconvert_exporter": "python",
   "pygments_lexer": "ipython3",
   "version": "3.10.13"
  }
 },
 "nbformat": 4,
 "nbformat_minor": 5
}