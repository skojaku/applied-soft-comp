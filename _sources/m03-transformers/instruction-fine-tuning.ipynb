{
 "cells": [
  {
   "cell_type": "markdown",
   "id": "3d90635b",
   "metadata": {},
   "source": [
    "# Instruction Fine-Tuning\n",
    "\n",
    "Flan-T5 is a fine-tuned version of T5 that is pre-trained on a large dataset of diverse tasks.\n",
    "\n",
    "\n",
    "https://openreview.net/forum?id=gEZrGCozdqR"
   ]
  }
 ],
 "metadata": {
  "jupytext": {
   "formats": "md:myst",
   "text_representation": {
    "extension": ".md",
    "format_name": "myst"
   }
  },
  "kernelspec": {
   "display_name": "Python 3",
   "language": "python",
   "name": "python3"
  }
 },
 "nbformat": 4,
 "nbformat_minor": 5
}