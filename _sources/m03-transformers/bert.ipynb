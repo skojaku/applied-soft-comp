{
 "cells": [
  {
   "cell_type": "markdown",
   "id": "4b2ad23f",
   "metadata": {},
   "source": [
    "# Bidirectional Encoder Representations from Transformers (BERT)\n",
    "\n",
    "We learned about ELMo's approach to the problem of polysemy using bidirectional LSTMs. BERT builds upon its bidirectional approach by using a self-attention mechanism in transformers.\n",
    "BERT has become the leading transformer model for natural language processing tasks like question answering and text classification. Its effectiveness led Google to incorporate it into their search engine to improve query understanding. In this section, we will explore BERT's architecture and mechanisms.\n",
    "\n",
    "```{figure} https://cdn.botpenguin.com/assets/website/BERT_c35709b509.webp\n",
    ":name: bert_mlm\n",
    ":alt: BERT MLM\n",
    ":width: 50%\n",
    ":align: center\n",
    "\n",
    "```\n",
    "\n",
    "```{admonition} BERT in interactive mode:\n",
    ":class: tip\n",
    "\n",
    "[Here is a demo notebook for BERT](https://static.marimo.app/static/bert-ux7g)\n",
    "\n",
    "To run the notebook, download the notebook as a `.py` file and run it with:\n",
    "\n",
    "> marimo edit --sandbox bert.py\n",
    "\n",
    "You will need to install `marimo` and `uv` to run the notebook. But other packages will be installed automatically in uv's virtual environment.\n",
    "```\n",
    "\n",
    "## Architecture\n",
    "\n",
    "BERT consists of a stack of encoder transformer layers. Each layer is composed of a self-attention mechanism, a feed-forward neural network, and layer normalization, wired together with residual connections.\n",
    "The output of each layer is fed into the next layer, and as we go through the layers, the token embeddings get more and more contextualized, reflecting the context more and more, thanks to the self-attention mechanism.\n",
    "\n",
    "```{figure} https://www.researchgate.net/publication/372906672/figure/fig2/AS:11431281179224913@1691164535766/BERT-model-architecture.ppm\n",
    ":name: bert_architecture\n",
    ":alt: BERT architecture\n",
    ":width: 80%\n",
    ":align: center\n",
    "\n",
    "BERT consists of a stack of encoder transformer layers. The position embeddings are added to the token embeddings to provide the model with information about the position of the tokens in the sequence.\n",
    "```\n",
    "\n",
    "```{admonition} Which layer of BERT should we use?\n",
    ":class: tip\n",
    "\n",
    "BERT internally generates multiple hierarchical representations of the input sentence. The higher layers of the model capture more abstract and context-sensitive information, while the lower layers capture more local and surface-level information. Which layer to use depends on the task. For example, if we want to do text classification, we should use the output of the last layer. If we are interested in word-level representations, we should use the output of the first layer.\n",
    "```\n",
    "\n",
    "\n",
    "## Special tokens\n",
    "\n",
    "BERT uses several special tokens to represent the input sentence.\n",
    "\n",
    "- [CLS] is used to represent the start of the sentence.\n",
    "- [SEP] is used to represent the end of the sentence.\n",
    "- [MASK] is used to represent the masked words.\n",
    "- [UNK] is used to represent the unknown words.\n",
    "\n",
    "For example, the sentence \"The cat sat on the mat. It then went to sleep.\" is represented as \"[CLS] The cat sat on the mat [SEP] It then went to sleep [SEP]\".\n",
    "\n",
    "In BERT, [CLS] token is used to classify the input sentences, as we will see later. As a result, the model learns to encode a summary of the input sentence into the [CLS] token, which is particularly useful when we want the embedding of the whole input text, instead of the token level embeddings. {footcite}`reimers2019sentence`\n",
    "\n",
    "## Position and Segment embeddings\n",
    "\n",
    "BERT uses *position* and *segment* embeddings to provide the model with information about the position of the tokens in the sequence.\n",
    "\n",
    "- Position embeddings are used to provide the model with information about the position of the tokens in the sequence. Unlike the sinusoidal position embedding used in the original transformer paper {footcite}`vaswani2017attention`, BERT uses learnable position embeddings.\n",
    "\n",
    "\n",
    "- The segment embeddings are used to distinguish the sentences in the input. For example, for the sentence \"The cat sat on the mat. It then went to sleep.\", the tokens in the first sentence are added with segment embedding 0, and the tokens in the second sentence are added with segment embedding 1. These segmend embeddings are also learned during the pre-training process.\n",
    "\n",
    "```{figure} https://lh3.googleusercontent.com/stK9CWIWiSuF_aq75q7_6wUqyqfePKzeLxqVet9IVNqrcyJqqg9hXkhuFXBXXbIjaGY15gSF9Yr7kyjceVXs5HbDMpmkhet49fhbtLsm9-4E4iCYckzGTsYSxOqRaVGNTkkhWykg\n",
    ":name: bert_position_segment_embeddings\n",
    ":alt: BERT position and segment embeddings\n",
    ":width: 80%\n",
    ":align: center\n",
    "\n",
    "Position and segment embeddings in BERT. Position embeddings, which are learnable, are added to the token embeddings. Segment embeddings indicate the sentence that the token belongs to (e.g., $E_A$ and $E_B$).\n",
    "```\n",
    "\n",
    "```{tip}\n",
    ":class: tip\n",
    "\n",
    "Position embeddings can be either absolute or relative:\n",
    "\n",
    "Absolute position embeddings (like in BERT) directly encode the position of each token as a fixed index (1st, 2nd, 3rd position etc). Each position gets its own unique embedding vector that is learned during training.\n",
    "\n",
    "Relative position embeddings (like sinusoidal embeddings in the original Transformer) encode the relative distance between tokens rather than their absolute positions. For example, they can encode that token A is 2 positions away from token B, regardless of their absolute positions in the sequence. This makes them more flexible for handling sequences of varying lengths.\n",
    "\n",
    "For interested readers, you can read more about the difference between absolute and relative position embeddings in [The Use Case for Relative Position Embeddings – Ofir Press](https://ofir.io/The-Use-Case-for-Relative-Position-Embeddings/) and [Train Short, Test Long: Attention with Linear Biases Enables Input Length Extrapolation](https://arxiv.org/abs/2108.12409).\n",
    "```\n",
    "\n",
    "### Pre-training\n",
    "\n",
    "A key aspect of BERT is its pre-training process, which involves two main objectives:\n",
    "\n",
    "- Masked Language Modeling (MLM)\n",
    "- Next Sentence Prediction (NSP)\n",
    "\n",
    "Both objectives are designed to learn the language structure, such as the relationship between words and sentences.\n",
    "\n",
    "#### Masked Language Modeling (MLM)\n",
    "\n",
    "In MLM, the model is trained to predict the original words that are masked in the input sentence. The masked words are replaced with a special token, [MASK], and the model is trained to predict the original words. For example, the sentence \"The cat [MASK] on the mat\" is transformed into \"The cat [MASK] on the mat\". The model is trained to predict the original word \"sat\" in the sentence.\n",
    "\n",
    "```{figure} https://raw.githubusercontent.com/UKPLab/sentence-transformers/master/docs/img/MLM.png\n",
    ":name: bert_mlm\n",
    ":alt: BERT MLM\n",
    ":width: 80%\n",
    ":align: center\n",
    "\n",
    "Masked Language Modeling (MLM). A token is randomly masked and the model is trained to predict the original word.\n",
    "```\n",
    "\n",
    "To generate training data for MLM, BERT randomly masks 15% of the tokens in each sequence. However, the masking process is not as straightforward as simply replacing words with [MASK] tokens. For the 15% of tokens chosen for masking:\n",
    "\n",
    "- 80% of the time, replace the word with the [MASK] token\n",
    "  - Example: \"the cat sat on the mat\" → \"the cat [MASK] on the mat\"\n",
    "\n",
    "- 10% of the time, replace the word with a random word\n",
    "  - Example: \"the cat sat on the mat\" → \"the cat dog on the mat\"\n",
    "\n",
    "- 10% of the time, keep the word unchanged\n",
    "  - Example: \"the cat sat on the mat\" → \"the cat sat on the mat\"\n",
    "\n",
    "The model must predict the original token for all selected positions, regardless of whether they were masked, replaced, or left unchanged. This helps prevent the model from simply learning to detect replaced tokens.\n",
    "\n",
    "During training, the model processes the modified input sequence through its transformer layers and predicts the original token at each masked position using the contextual representations.\n",
    "\n",
    "```{tip}\n",
    "While replacing words with random tokens or leaving them unchanged may seem counterintuitive, research has shown this approach is effective {footcite}`raffel2020exploring`. It has become an essential component of BERT's pre-training process.\n",
    "```\n",
    "\n",
    "#### Next Sentence Prediction (NSP)\n",
    "\n",
    "\n",
    "```{figure} https://amitness.com/posts/images/bert-nsp.png\n",
    ":name: bert_nsp\n",
    ":alt: BERT NSP\n",
    ":width: 80%\n",
    ":align: center\n",
    "\n",
    "Next Sentence Prediction (NSP). The model is trained to predict whether two sentences are consecutive or not.\n",
    "```\n",
    "\n",
    "Next Sentence Prediction (NSP) trains BERT to understand relationships between sentences. The model learns to predict whether two sentences naturally follow each other in text. During training, half of the sentence pairs are consecutive sentences from documents (labeled as IsNext), while the other half are random sentence pairs (labeled as NotNext).\n",
    "\n",
    "The input format uses special tokens to structure the sentence pairs: a [CLS] token at the start, the first sentence, a [SEP] token, the second sentence, and a final [SEP] token. For instance:\n",
    "\n",
    "$$\n",
    "\\text{``[CLS] }\\underbrace{\\text{I went to the store}}_{\\text{Sentence 1}}\\text{ [SEP] }\\underbrace{\\text{They were out of milk}}_{\\text{Sentence 2}}\\text{ [SEP]}\".\n",
    "$$\n",
    "\n",
    "BERT uses the final hidden state of the [CLS] token to classify whether the sentences are consecutive or not. This helps the model develop a broader understanding of language context and relationships between sentences.\n",
    "\n",
    "These two objectives help BERT learn the structure of language, such as the relationship between words and sentences.\n",
    "\n",
    "\n",
    "## Fine-tuning\n",
    "\n",
    "A powerful aspect of BERT is its ability to be fine-tuned on a wide range of tasks with minimal changes to the model architecture. This is achieved through transfer learning, where the pre-trained BERT model is used as a starting point for specific tasks.\n",
    "\n",
    "Consider a hospital that wants to classify patient reviews. Due to privacy concerns, collecting enough data to train a deep learning model from scratch would be difficult. This is where BERT shines - since it's already pre-trained on vast amounts of text data and understands language structure, it can be fine-tuned effectively even with a small dataset of patient reviews. The pre-trained BERT model can be adapted to this specific classification task with only minor architectural changes.\n",
    "\n",
    "```{tip}\n",
    ":class: tip\n",
    "\n",
    "You can find many fine-tuned and pre-trained models for various tasks by searching the [Hugging Face model hub](https://huggingface.co/models), with the keyword \"BERT\".\n",
    "```\n",
    "\n",
    "## Variants and improvements\n",
    "\n",
    "**RoBERTa (Robustly Optimized BERT Approach)* {footcite}`liu2019roberta`* improved upon BERT through several optimizations: removing the Next Sentence Prediction task, using dynamic masking that changes the mask patterns across training epochs, training with larger batches, and using a larger dataset. These changes led to significant performance improvements while maintaining BERT's core architecture.\n",
    "\n",
    "**DistilBERT** {footcite}`sanh2019distilbert` focused on making BERT more efficient through knowledge distillation, where a smaller student model learns from the larger BERT teacher model. It achieves 95% of BERT's performance while being 40% smaller and 60% faster, making it more suitable for resource-constrained environments and real-world applications.\n",
    "\n",
    "**ALBERT** {footcite}`lan2019albert` introduced parameter reduction techniques to address BERT's memory limitations. It uses factorized embedding parameterization and cross-layer parameter sharing to dramatically reduce parameters while maintaining performance. ALBERT also replaced Next Sentence Prediction with Sentence Order Prediction, where the model must determine if two consecutive sentences are in the correct order.\n",
    "\n",
    "Domain-specific BERT models have been trained on specialized corpora to better handle specific fields. Examples include **BioBERT** {footcite}`lee2020biobert` for biomedical text, **SciBERT** {footcite}`reimers2019sentence` for scientific papers, and **FinBERT** {footcite}`araci2019finbert` for financial documents. These models demonstrate superior performance in their respective domains compared to the general-purpose BERT.\n",
    "\n",
    "**Multilingual BERT (mBERT)** {footcite}`liu2019roberta` was trained on Wikipedia data from 104 languages, using a shared vocabulary across all languages. Despite not having explicit cross-lingual objectives during training, mBERT shows remarkable zero-shot cross-lingual transfer abilities, allowing it to perform tasks in languages it wasn't explicitly aligned on. This has made it a valuable resource for low-resource languages and cross-lingual applications.\n",
    "\n",
    "\n",
    "## Hands on\n",
    "\n",
    "Let us load a pre-trained BERT model and see how it works using a sense disambiguation task. The sense disambiguation task is a task that involves identifying the correct sense of a word in a sentence. For example, given a sentence with word \"apple\", we need to identify whether it refers to the fruit or the technology company.\n",
    "\n",
    "Let us first load the necessary libraries."
   ]
  },
  {
   "cell_type": "code",
   "execution_count": 1,
   "id": "2be07f1d",
   "metadata": {},
   "outputs": [
    {
     "ename": "ModuleNotFoundError",
     "evalue": "No module named 'transformers'",
     "output_type": "error",
     "traceback": [
      "\u001b[0;31m---------------------------------------------------------------------------\u001b[0m",
      "\u001b[0;31mModuleNotFoundError\u001b[0m                       Traceback (most recent call last)",
      "Cell \u001b[0;32mIn[1], line 5\u001b[0m\n\u001b[1;32m      3\u001b[0m \u001b[38;5;28;01mimport\u001b[39;00m \u001b[38;5;21;01msys\u001b[39;00m\n\u001b[1;32m      4\u001b[0m \u001b[38;5;28;01mimport\u001b[39;00m \u001b[38;5;21;01mtorch\u001b[39;00m\n\u001b[0;32m----> 5\u001b[0m \u001b[38;5;28;01mimport\u001b[39;00m \u001b[38;5;21;01mtransformers\u001b[39;00m\n\u001b[1;32m      6\u001b[0m \u001b[38;5;28;01mimport\u001b[39;00m \u001b[38;5;21;01mmatplotlib\u001b[39;00m\u001b[38;5;21;01m.\u001b[39;00m\u001b[38;5;21;01mpyplot\u001b[39;00m \u001b[38;5;28;01mas\u001b[39;00m \u001b[38;5;21;01mplt\u001b[39;00m\n\u001b[1;32m      7\u001b[0m \u001b[38;5;28;01mfrom\u001b[39;00m \u001b[38;5;21;01mtqdm\u001b[39;00m \u001b[38;5;28;01mimport\u001b[39;00m tqdm\n",
      "\u001b[0;31mModuleNotFoundError\u001b[0m: No module named 'transformers'"
     ]
    }
   ],
   "source": [
    "import pandas as pd\n",
    "import numpy as np\n",
    "import sys\n",
    "import torch\n",
    "import transformers\n",
    "import matplotlib.pyplot as plt\n",
    "from tqdm import tqdm\n",
    "from sklearn.decomposition import PCA\n",
    "from bokeh.plotting import figure, show\n",
    "from bokeh.io import output_notebook\n",
    "from bokeh.models import ColumnDataSource, HoverTool"
   ]
  },
  {
   "cell_type": "markdown",
   "id": "5ba7ebbd",
   "metadata": {},
   "source": [
    "We will use [CoarseWSD-20](https://github.com/danlou/bert-disambiguation/tree/master/data/CoarseWSD-20). The dataset contains sentences with polysemous words and their sense labels. We will see how to use BERT to disambiguate the word senses. Read the [README](https://github.com/danlou/bert-disambiguation/blob/master/data/CoarseWSD-20/README.txt) for more details."
   ]
  },
  {
   "cell_type": "code",
   "execution_count": null,
   "id": "44a29f83",
   "metadata": {},
   "outputs": [],
   "source": [
    "def load_data(focal_word, is_train, n_samples=100):\n",
    "    data_type = \"train\" if is_train else \"test\"\n",
    "    data_file = f\"https://raw.githubusercontent.com/danlou/bert-disambiguation/master/data/CoarseWSD-20/{focal_word}/{data_type}.data.txt\"\n",
    "    label_file = f\"https://raw.githubusercontent.com/danlou/bert-disambiguation/master/data/CoarseWSD-20/{focal_word}/{data_type}.gold.txt\"\n",
    "\n",
    "    data_table = pd.read_csv(\n",
    "        data_file,\n",
    "        sep=\"\\t\",\n",
    "        header=None,\n",
    "        dtype={\"word_pos\": int, \"sentence\": str},\n",
    "        names=[\"word_pos\", \"sentence\"],\n",
    "    )\n",
    "    label_table = pd.read_csv(\n",
    "        label_file,\n",
    "        sep=\"\\t\",\n",
    "        header=None,\n",
    "        dtype={\"label\": int},\n",
    "        names=[\"label\"],\n",
    "    )\n",
    "    combined_table = pd.concat([data_table, label_table], axis=1)\n",
    "    return combined_table.sample(n_samples)\n",
    "\n",
    "\n",
    "focal_word = \"apple\"\n",
    "\n",
    "train_data = load_data(focal_word, is_train=True)\n",
    "\n",
    "train_data.head(10)"
   ]
  },
  {
   "cell_type": "markdown",
   "id": "b01a3721",
   "metadata": {},
   "source": [
    "We will use transformers library developed by Hugging Face to define the BERT model. To use the model, we will need:\n",
    "\n",
    "- BERT tokenizer that converts the text into tokens.\n",
    "- BERT model that computes the embeddings of the tokens.\n",
    "\n",
    "We will use the bert-base-uncased model and tokenizer. Let's define the model and tokenizer."
   ]
  },
  {
   "cell_type": "code",
   "execution_count": null,
   "id": "d71db902",
   "metadata": {},
   "outputs": [],
   "source": [
    "tokenizer = transformers.AutoTokenizer.from_pretrained(\"bert-base-uncased\")\n",
    "model = transformers.AutoModel.from_pretrained(\"bert-base-uncased\")\n",
    "model.eval() # set the model to evaluation mode\n",
    "print(model) # Print the model architecture"
   ]
  },
  {
   "cell_type": "markdown",
   "id": "93a99a3b",
   "metadata": {},
   "source": [
    "This prints the model architecture, which shows:\n",
    "\n",
    "1. BertEmbeddings layer that converts tokens into embeddings using:\n",
    "   - Word embeddings (30522 vocab size, 768 dimensions)\n",
    "   - Position embeddings (512 positions, 768 dimensions)\n",
    "   - Token type embeddings (2 types, 768 dimensions)\n",
    "   - Layer normalization and dropout\n",
    "\n",
    "2. BertEncoder with 12 identical BertLayers, each containing:\n",
    "   - Self-attention mechanism with query/key/value projections\n",
    "   - Intermediate layer with GELU activation\n",
    "   - Output layer with layer normalization\n",
    "\n",
    "3. BertPooler that processes the [CLS] token embedding with:\n",
    "   - Dense layer (768 dimensions)\n",
    "   - Tanh activation\n",
    "\n",
    "All layers maintain the 768-dimensional hidden size, except the intermediate layer which expands to 3072 dimensions.\n",
    "\n",
    "With BERT, we need to prepare text in ways that BERT can understand. Specifically, we prepend it with [CLS] and append [SEP]. We will then convert the text to a tensor of token ids, which is ready to be fed into the model."
   ]
  },
  {
   "cell_type": "code",
   "execution_count": null,
   "id": "44aee028",
   "metadata": {},
   "outputs": [],
   "source": [
    "def prepare_text(text):\n",
    "    text = \"[CLS] \" + text + \" [SEP]\"\n",
    "    tokenized_text = tokenizer.tokenize(text)\n",
    "    indexed_tokens = tokenizer.convert_tokens_to_ids(tokenized_text)\n",
    "\n",
    "    segments_ids = torch.ones((1, len(indexed_tokens)), dtype=torch.long)\n",
    "    tokens_tensor = torch.tensor([indexed_tokens])\n",
    "    segments_tensor = segments_ids.clone()\n",
    "    return tokenized_text, tokens_tensor, segments_tensor"
   ]
  },
  {
   "cell_type": "markdown",
   "id": "d3f071cb",
   "metadata": {},
   "source": [
    "Let's get the BERT embeddings for the sentence \"Bank is located in the city of London\"."
   ]
  },
  {
   "cell_type": "code",
   "execution_count": null,
   "id": "8640a11c",
   "metadata": {},
   "outputs": [],
   "source": [
    "text = \"Bank is located in the city of London\"\n",
    "tokenized_text, tokens_tensor, segments_tensor = prepare_text(text)"
   ]
  },
  {
   "cell_type": "markdown",
   "id": "c9b9dd68",
   "metadata": {},
   "source": [
    "This produces the following output.\n",
    "**Tokenized text**:"
   ]
  },
  {
   "cell_type": "code",
   "execution_count": null,
   "id": "ce1363d0",
   "metadata": {},
   "outputs": [],
   "source": [
    "print(tokenized_text)"
   ]
  },
  {
   "cell_type": "markdown",
   "id": "7fafd1d2",
   "metadata": {},
   "source": [
    "**Token IDs**:"
   ]
  },
  {
   "cell_type": "code",
   "execution_count": null,
   "id": "09049bfc",
   "metadata": {},
   "outputs": [],
   "source": [
    "print(tokens_tensor)"
   ]
  },
  {
   "cell_type": "markdown",
   "id": "af933db5",
   "metadata": {},
   "source": [
    "**Segment IDs**:"
   ]
  },
  {
   "cell_type": "code",
   "execution_count": null,
   "id": "ba77224e",
   "metadata": {},
   "outputs": [],
   "source": [
    "print(segments_tensor)"
   ]
  },
  {
   "cell_type": "markdown",
   "id": "0c90deb9",
   "metadata": {},
   "source": [
    "Then, let's get the BERT embeddings for each token."
   ]
  },
  {
   "cell_type": "code",
   "execution_count": null,
   "id": "45c63b40",
   "metadata": {},
   "outputs": [],
   "source": [
    "# Configure model to return hidden states\n",
    "model.config.output_hidden_states = True\n",
    "\n",
    "outputs = model(tokens_tensor, segments_tensor)"
   ]
  },
  {
   "cell_type": "markdown",
   "id": "c41aeb55",
   "metadata": {},
   "source": [
    "The output includes `loss`, `logits`, and `hidden_states`. We will use `hidden_states`, which contains the embeddings of the tokens."
   ]
  },
  {
   "cell_type": "code",
   "execution_count": null,
   "id": "681d5890",
   "metadata": {},
   "outputs": [],
   "source": [
    "hidden_states = outputs.hidden_states\n",
    "\n",
    "print(\"how many layers? \", len(hidden_states))\n",
    "print(\"Shape? \", hidden_states[0].shape)"
   ]
  },
  {
   "cell_type": "markdown",
   "id": "632f1504",
   "metadata": {},
   "source": [
    "The hidden states are a list of 13 tensors, where each tensor is of shape (batch_size, sequence_length, hidden_size). The first tensor is the input embeddings, and the subsequent tensors are the hidden states of the BERT layers.\n",
    "\n",
    "So, we have 13 choice of hidden states. Deep layers close to the output capture the context of the word from the previous layers.\n",
    "\n",
    "Here we will take the average over the last four hidden states for each token."
   ]
  },
  {
   "cell_type": "code",
   "execution_count": null,
   "id": "b06561b8",
   "metadata": {},
   "outputs": [],
   "source": [
    "last_four_layers = hidden_states[-4:]\n",
    "# Stack the layers and then calculate mean\n",
    "stacked_layers = torch.stack(last_four_layers)\n",
    "emb = torch.mean(stacked_layers, dim=0)\n",
    "\n",
    "print(emb.shape)"
   ]
  },
  {
   "cell_type": "markdown",
   "id": "1aacde91",
   "metadata": {},
   "source": [
    "emb is of shape (sequence_length, hidden_size). Let us summarize the embeddings of the tokens into a function."
   ]
  },
  {
   "cell_type": "code",
   "execution_count": null,
   "id": "e286f5e8",
   "metadata": {},
   "outputs": [],
   "source": [
    "def get_bert_embeddings(text):\n",
    "    tokenized_text, tokens_tensor, segments_tensor = prepare_text(text)\n",
    "    outputs = model(tokens_tensor, segments_tensor)\n",
    "    hidden_states = outputs[2]  # Access hidden states from tuple output\n",
    "    # Stack the last 4 layers then take mean\n",
    "    stacked_layers = torch.stack(hidden_states[-4:])\n",
    "    emb = torch.mean(stacked_layers, dim=0)\n",
    "    return emb, tokenized_text"
   ]
  },
  {
   "cell_type": "markdown",
   "id": "7cc471f7",
   "metadata": {},
   "source": [
    "Now, let us embed text and get the embeddings of the focal token."
   ]
  },
  {
   "cell_type": "code",
   "execution_count": null,
   "id": "ee84e2aa",
   "metadata": {},
   "outputs": [],
   "source": [
    "labels = []  # label\n",
    "emb = []  # embedding\n",
    "sentences = []  # sentence\n",
    "\n",
    "def get_focal_token_embedding(text, focal_word_idx):\n",
    "    emb, tokenized_text = get_bert_embeddings(text)\n",
    "    return emb[0][focal_word_idx]  # Access first batch dimension\n",
    "\n",
    "for index, row in train_data.iterrows():\n",
    "    text = row[\"sentence\"]\n",
    "    focal_word_idx = row[\"word_pos\"]\n",
    "    _emb = get_focal_token_embedding(text, focal_word_idx)\n",
    "    labels.append(row[\"label\"])\n",
    "    emb.append(_emb)\n",
    "    sentences.append(text)"
   ]
  },
  {
   "cell_type": "markdown",
   "id": "417e2b1e",
   "metadata": {},
   "source": [
    "Finally, let us visualize the embeddings using PCA."
   ]
  },
  {
   "cell_type": "code",
   "execution_count": null,
   "id": "c0c63255",
   "metadata": {
    "tags": [
     "hide-input"
    ]
   },
   "outputs": [],
   "source": [
    "# Convert list of tensors to numpy array\n",
    "emb_numpy = torch.stack(emb).detach().numpy()\n",
    "\n",
    "pca = PCA(n_components=2, random_state=42)\n",
    "xy = pca.fit_transform(emb_numpy)\n",
    "\n",
    "output_notebook()\n",
    "\n",
    "# Create data source for Bokeh\n",
    "source = ColumnDataSource(data=dict(\n",
    "    x=xy[:, 0],\n",
    "    y=xy[:, 1],\n",
    "    label=labels,\n",
    "    sentence=sentences\n",
    "))\n",
    "\n",
    "# Create Bokeh figure\n",
    "p = figure(title=\"Word Embeddings Visualization\", x_axis_label=\"PCA 1\", y_axis_label=\"PCA 2\",\n",
    "           width=700, height=500)\n",
    "\n",
    "# Add hover tool\n",
    "hover = HoverTool(tooltips=[\n",
    "    ('Label', '@label'),\n",
    "    ('Sentence', '@sentence')\n",
    "])\n",
    "p.add_tools(hover)\n",
    "\n",
    "# Create color map for labels\n",
    "import seaborn as sns\n",
    "\n",
    "unique_labels = list(set(labels))\n",
    "color_map = sns.color_palette().as_hex()[0:len(unique_labels)]\n",
    "source.data['color'] = [color_map[label] for label in labels]\n",
    "\n",
    "# Add scatter plot\n",
    "p.scatter('x', 'y', size=12, line_color=\"DarkSlateGrey\", line_width=2,\n",
    "         fill_color='color', source=source)\n",
    "\n",
    "show(p)"
   ]
  },
  {
   "cell_type": "markdown",
   "id": "e0187fb0",
   "metadata": {},
   "source": [
    "## Exercise\n",
    "\n",
    "We have used the last 4 layers of BERT to generate the embeddings of the tokens. Now, let's use the last $k = 1, 2, 3$ layers of BERT to generate the embeddings of the tokens. Then plot the embeddings using PCA.\n",
    "\n",
    "## References\n",
    "\n",
    "```{footbibliography}\n",
    ":style: unsrt\n",
    "```"
   ]
  }
 ],
 "metadata": {
  "jupytext": {
   "formats": "md:myst",
   "text_representation": {
    "extension": ".md",
    "format_name": "myst"
   }
  },
  "kernelspec": {
   "display_name": "Python 3",
   "language": "python",
   "name": "python3"
  },
  "language_info": {
   "codemirror_mode": {
    "name": "ipython",
    "version": 3
   },
   "file_extension": ".py",
   "mimetype": "text/x-python",
   "name": "python",
   "nbconvert_exporter": "python",
   "pygments_lexer": "ipython3",
   "version": "3.10.13"
  }
 },
 "nbformat": 4,
 "nbformat_minor": 5
}