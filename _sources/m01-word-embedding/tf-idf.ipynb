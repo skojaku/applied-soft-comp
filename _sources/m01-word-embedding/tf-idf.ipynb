{
 "cells": [
  {
   "cell_type": "markdown",
   "id": "e18112d8",
   "metadata": {},
   "source": [
    "# Teaching computers how to understand words\n",
    "\n",
    "Imagine trying to explain the meaning of words to someone who only understands numbers. This is exactly the challenge we face when teaching computers to process text. Just as we need to translate between languages, we need to translate between the world of human language and the world of computer numbers. This translation process has evolved dramatically over time, becoming increasingly sophisticated in its ability to capture the nuances of meaning.\n",
    "\n",
    "## One-Hot Encoding: The First Step\n",
    "\n",
    "The simplest approach to this translation challenge is one-hot encoding, akin to giving each word its own unique light switch in a vast room of switches. When representing a word, we turn on its switch and leave all others off. For example, in a tiny vocabulary of just three words {cat, dog, fish}:\n",
    "\n",
    "- 'cat' becomes [1, 0, 0]\n",
    "- 'dog' becomes [0, 1, 0]\n",
    "- 'fish' becomes [0, 0, 1]\n",
    "\n",
    "\n",
    "While simple, this approach has a fundamental flaw: it suggests that all words are equally different from each other. In this representation, 'cat' is just as different from 'dog' as it is from 'algorithm' - something we know isn't true in real language use.\n",
    "\n",
    "## Distributional Hypothesis\n",
    "\n",
    "What is missing in one-hot encoding is the notion of *context*.\n",
    "One associates `cat` with `dog` because they have similar context, while `cat` is more different from `fish` than `dog` because they are in different contexts.\n",
    "This is the core idea of the **distributional hypothesis**.\n",
    "\n",
    "In a nutshell, the distributional hypothesis states that:\n",
    "- Words that frequently appear together in text (co-occur) are likely to be semantically related\n",
    "- The meaning of a word can be inferred by examining the distribution of other words around it\n",
    "- Similar words will have similar distributions of surrounding context words\n",
    "\n",
    "This hypothesis forms the theoretical foundation for many modern word embedding techniques.\n",
    "\n",
    "```{note}\n",
    "The idea that words can be understood by their context is captured by the famous linguistic principle: \"You shall know a word by the company it keeps\" {footcite}`firth1957synopsis`. This principle suggests that the meaning of a word is not inherent to the word itself, but rather emerges from how it is used alongside other words.\n",
    "```\n",
    "\n",
    "```{tip}\n",
    "The ancient Buddhist concept of Apoha, developed by Dignāga in the 5th-6th century CE, shares similarities with modern distributional semantics. According to Apoha theory, we understand concepts by distinguishing what they are not - for example, we know what a \"cow\" is by recognizing everything that is not a cow. This mirrors how modern word embeddings define words through their relationships and contrasts with other words, showing how both ancient philosophy and contemporary linguistics recognize that meaning emerges from relationships between concepts.\n",
    "\n",
    "![](https://blogger.googleusercontent.com/img/b/R29vZ2xl/AVvXsEhQbWHl7Npbub7nDC9GvfUneConFZbjoHkPHuMPh3PXpGakxdDrv_0JmWt7Fpg63lo_XhhqZqFzOs6YUsVEbPyHBMVexnaqPLWzDQJ-CXAjFCoe7PzNrKlm474QDo14LiqOjrfr1zMt6As/s1600/cnononcow.jpg)\n",
    "\n",
    "```\n",
    "\n",
    "## TF-IDF: A Simple but Powerful Word Embedding Technique\n",
    "\n",
    "\n",
    "## Distributional Hypothesis\n",
    "\n",
    "What is missing in one-hot encoding is the notion of *context*. One associates `cat` with `dog` because they have similar context, while `cat` is more different from `fish` than `dog` because they are in different contexts. This is the core idea of the **distributional hypothesis**.\n",
    "\n",
    "In a nutshell, the distributional hypothesis states that we can understand the meaning of a word by examining the context in which it appears. Just as you might understand a person by the company they keep, we can understand a word by the words that surround it. This principle suggests that words appearing in similar contexts likely have similar meanings.\n",
    "\n",
    "```{note}\n",
    "The idea that words can be understood by their context is captured by the famous linguistic principle: \"You shall know a word by the company it keeps\" {footcite}`firth1957synopsis`. This principle suggests that the meaning of a word is not inherent to the word itself, but rather emerges from how it is used alongside other words.\n",
    "```\n",
    "\n",
    "## TF-IDF: Words as Patterns of Usage\n",
    "\n",
    "\n",
    "\n",
    "The distributional hypothesis leads us to an important question: How can we capture these contextual patterns mathematically?\n",
    "More specifically, what is a good unit of \"context\"?\n",
    "A natural choice is to let the *document* be the unit of context.\n",
    "The distributional hypothesis suggests that words that frequently appear in the same documents are likely to be semantically related.\n",
    "\n",
    "### First Attempt: Word-Document Count Matrix\n",
    "\n",
    "Let's try to organize this information systematically. Imagine creating a giant table where:\n",
    "- Each row represents a word\n",
    "- Each column represents a document\n",
    "- Each cell contains the count of how often that word appears in that document"
   ]
  },
  {
   "cell_type": "code",
   "execution_count": 1,
   "id": "adc3bab3",
   "metadata": {},
   "outputs": [
    {
     "data": {
      "text/html": [
       "<style type=\"text/css\">\n",
       "#T_b51f0_row0_col0, #T_b51f0_row0_col2, #T_b51f0_row0_col4, #T_b51f0_row0_col5, #T_b51f0_row0_col6, #T_b51f0_row0_col8, #T_b51f0_row0_col11, #T_b51f0_row0_col12, #T_b51f0_row1_col0, #T_b51f0_row1_col1, #T_b51f0_row1_col4, #T_b51f0_row1_col6, #T_b51f0_row1_col7, #T_b51f0_row1_col8, #T_b51f0_row1_col10, #T_b51f0_row1_col12, #T_b51f0_row2_col0, #T_b51f0_row2_col1, #T_b51f0_row2_col2, #T_b51f0_row2_col3, #T_b51f0_row2_col5, #T_b51f0_row2_col7, #T_b51f0_row2_col11, #T_b51f0_row2_col12, #T_b51f0_row3_col2, #T_b51f0_row3_col3, #T_b51f0_row3_col4, #T_b51f0_row3_col6, #T_b51f0_row3_col8, #T_b51f0_row3_col10, #T_b51f0_row3_col11 {\n",
       "  background-color: #00224e;\n",
       "  color: #f1f1f1;\n",
       "}\n",
       "#T_b51f0_row0_col1, #T_b51f0_row0_col3, #T_b51f0_row0_col7, #T_b51f0_row0_col9, #T_b51f0_row0_col10, #T_b51f0_row1_col2, #T_b51f0_row1_col3, #T_b51f0_row1_col5, #T_b51f0_row1_col9, #T_b51f0_row1_col11, #T_b51f0_row2_col4, #T_b51f0_row2_col6, #T_b51f0_row2_col8, #T_b51f0_row2_col9, #T_b51f0_row2_col10, #T_b51f0_row2_col13, #T_b51f0_row3_col0, #T_b51f0_row3_col1, #T_b51f0_row3_col5, #T_b51f0_row3_col7, #T_b51f0_row3_col9, #T_b51f0_row3_col12 {\n",
       "  background-color: #7d7c78;\n",
       "  color: #f1f1f1;\n",
       "}\n",
       "#T_b51f0_row0_col13, #T_b51f0_row1_col13, #T_b51f0_row3_col13 {\n",
       "  background-color: #fee838;\n",
       "  color: #000000;\n",
       "}\n",
       "</style>\n",
       "<table id=\"T_b51f0\">\n",
       "  <caption>Word-Document Count Matrix</caption>\n",
       "  <thead>\n",
       "    <tr>\n",
       "      <th class=\"blank level0\" >&nbsp;</th>\n",
       "      <th id=\"T_b51f0_level0_col0\" class=\"col_heading level0 col0\" >and</th>\n",
       "      <th id=\"T_b51f0_level0_col1\" class=\"col_heading level0 col1\" >cat</th>\n",
       "      <th id=\"T_b51f0_level0_col2\" class=\"col_heading level0 col2\" >cats</th>\n",
       "      <th id=\"T_b51f0_level0_col3\" class=\"col_heading level0 col3\" >chases</th>\n",
       "      <th id=\"T_b51f0_level0_col4\" class=\"col_heading level0 col4\" >cheese</th>\n",
       "      <th id=\"T_b51f0_level0_col5\" class=\"col_heading level0 col5\" >dog</th>\n",
       "      <th id=\"T_b51f0_level0_col6\" class=\"col_heading level0 col6\" >eat</th>\n",
       "      <th id=\"T_b51f0_level0_col7\" class=\"col_heading level0 col7\" >garden</th>\n",
       "      <th id=\"T_b51f0_level0_col8\" class=\"col_heading level0 col8\" >house</th>\n",
       "      <th id=\"T_b51f0_level0_col9\" class=\"col_heading level0 col9\" >in</th>\n",
       "      <th id=\"T_b51f0_level0_col10\" class=\"col_heading level0 col10\" >mice</th>\n",
       "      <th id=\"T_b51f0_level0_col11\" class=\"col_heading level0 col11\" >park</th>\n",
       "      <th id=\"T_b51f0_level0_col12\" class=\"col_heading level0 col12\" >play</th>\n",
       "      <th id=\"T_b51f0_level0_col13\" class=\"col_heading level0 col13\" >the</th>\n",
       "    </tr>\n",
       "  </thead>\n",
       "  <tbody>\n",
       "    <tr>\n",
       "      <th id=\"T_b51f0_level0_row0\" class=\"row_heading level0 row0\" >0</th>\n",
       "      <td id=\"T_b51f0_row0_col0\" class=\"data row0 col0\" >0</td>\n",
       "      <td id=\"T_b51f0_row0_col1\" class=\"data row0 col1\" >1</td>\n",
       "      <td id=\"T_b51f0_row0_col2\" class=\"data row0 col2\" >0</td>\n",
       "      <td id=\"T_b51f0_row0_col3\" class=\"data row0 col3\" >1</td>\n",
       "      <td id=\"T_b51f0_row0_col4\" class=\"data row0 col4\" >0</td>\n",
       "      <td id=\"T_b51f0_row0_col5\" class=\"data row0 col5\" >0</td>\n",
       "      <td id=\"T_b51f0_row0_col6\" class=\"data row0 col6\" >0</td>\n",
       "      <td id=\"T_b51f0_row0_col7\" class=\"data row0 col7\" >1</td>\n",
       "      <td id=\"T_b51f0_row0_col8\" class=\"data row0 col8\" >0</td>\n",
       "      <td id=\"T_b51f0_row0_col9\" class=\"data row0 col9\" >1</td>\n",
       "      <td id=\"T_b51f0_row0_col10\" class=\"data row0 col10\" >1</td>\n",
       "      <td id=\"T_b51f0_row0_col11\" class=\"data row0 col11\" >0</td>\n",
       "      <td id=\"T_b51f0_row0_col12\" class=\"data row0 col12\" >0</td>\n",
       "      <td id=\"T_b51f0_row0_col13\" class=\"data row0 col13\" >2</td>\n",
       "    </tr>\n",
       "    <tr>\n",
       "      <th id=\"T_b51f0_level0_row1\" class=\"row_heading level0 row1\" >1</th>\n",
       "      <td id=\"T_b51f0_row1_col0\" class=\"data row1 col0\" >0</td>\n",
       "      <td id=\"T_b51f0_row1_col1\" class=\"data row1 col1\" >0</td>\n",
       "      <td id=\"T_b51f0_row1_col2\" class=\"data row1 col2\" >1</td>\n",
       "      <td id=\"T_b51f0_row1_col3\" class=\"data row1 col3\" >1</td>\n",
       "      <td id=\"T_b51f0_row1_col4\" class=\"data row1 col4\" >0</td>\n",
       "      <td id=\"T_b51f0_row1_col5\" class=\"data row1 col5\" >1</td>\n",
       "      <td id=\"T_b51f0_row1_col6\" class=\"data row1 col6\" >0</td>\n",
       "      <td id=\"T_b51f0_row1_col7\" class=\"data row1 col7\" >0</td>\n",
       "      <td id=\"T_b51f0_row1_col8\" class=\"data row1 col8\" >0</td>\n",
       "      <td id=\"T_b51f0_row1_col9\" class=\"data row1 col9\" >1</td>\n",
       "      <td id=\"T_b51f0_row1_col10\" class=\"data row1 col10\" >0</td>\n",
       "      <td id=\"T_b51f0_row1_col11\" class=\"data row1 col11\" >1</td>\n",
       "      <td id=\"T_b51f0_row1_col12\" class=\"data row1 col12\" >0</td>\n",
       "      <td id=\"T_b51f0_row1_col13\" class=\"data row1 col13\" >2</td>\n",
       "    </tr>\n",
       "    <tr>\n",
       "      <th id=\"T_b51f0_level0_row2\" class=\"row_heading level0 row2\" >2</th>\n",
       "      <td id=\"T_b51f0_row2_col0\" class=\"data row2 col0\" >0</td>\n",
       "      <td id=\"T_b51f0_row2_col1\" class=\"data row2 col1\" >0</td>\n",
       "      <td id=\"T_b51f0_row2_col2\" class=\"data row2 col2\" >0</td>\n",
       "      <td id=\"T_b51f0_row2_col3\" class=\"data row2 col3\" >0</td>\n",
       "      <td id=\"T_b51f0_row2_col4\" class=\"data row2 col4\" >1</td>\n",
       "      <td id=\"T_b51f0_row2_col5\" class=\"data row2 col5\" >0</td>\n",
       "      <td id=\"T_b51f0_row2_col6\" class=\"data row2 col6\" >1</td>\n",
       "      <td id=\"T_b51f0_row2_col7\" class=\"data row2 col7\" >0</td>\n",
       "      <td id=\"T_b51f0_row2_col8\" class=\"data row2 col8\" >1</td>\n",
       "      <td id=\"T_b51f0_row2_col9\" class=\"data row2 col9\" >1</td>\n",
       "      <td id=\"T_b51f0_row2_col10\" class=\"data row2 col10\" >1</td>\n",
       "      <td id=\"T_b51f0_row2_col11\" class=\"data row2 col11\" >0</td>\n",
       "      <td id=\"T_b51f0_row2_col12\" class=\"data row2 col12\" >0</td>\n",
       "      <td id=\"T_b51f0_row2_col13\" class=\"data row2 col13\" >1</td>\n",
       "    </tr>\n",
       "    <tr>\n",
       "      <th id=\"T_b51f0_level0_row3\" class=\"row_heading level0 row3\" >3</th>\n",
       "      <td id=\"T_b51f0_row3_col0\" class=\"data row3 col0\" >1</td>\n",
       "      <td id=\"T_b51f0_row3_col1\" class=\"data row3 col1\" >1</td>\n",
       "      <td id=\"T_b51f0_row3_col2\" class=\"data row3 col2\" >0</td>\n",
       "      <td id=\"T_b51f0_row3_col3\" class=\"data row3 col3\" >0</td>\n",
       "      <td id=\"T_b51f0_row3_col4\" class=\"data row3 col4\" >0</td>\n",
       "      <td id=\"T_b51f0_row3_col5\" class=\"data row3 col5\" >1</td>\n",
       "      <td id=\"T_b51f0_row3_col6\" class=\"data row3 col6\" >0</td>\n",
       "      <td id=\"T_b51f0_row3_col7\" class=\"data row3 col7\" >1</td>\n",
       "      <td id=\"T_b51f0_row3_col8\" class=\"data row3 col8\" >0</td>\n",
       "      <td id=\"T_b51f0_row3_col9\" class=\"data row3 col9\" >1</td>\n",
       "      <td id=\"T_b51f0_row3_col10\" class=\"data row3 col10\" >0</td>\n",
       "      <td id=\"T_b51f0_row3_col11\" class=\"data row3 col11\" >0</td>\n",
       "      <td id=\"T_b51f0_row3_col12\" class=\"data row3 col12\" >1</td>\n",
       "      <td id=\"T_b51f0_row3_col13\" class=\"data row3 col13\" >2</td>\n",
       "    </tr>\n",
       "  </tbody>\n",
       "</table>\n"
      ],
      "text/plain": [
       "<pandas.io.formats.style.Styler at 0x10903b730>"
      ]
     },
     "execution_count": 1,
     "metadata": {},
     "output_type": "execute_result"
    }
   ],
   "source": [
    "from sklearn.feature_extraction.text import CountVectorizer\n",
    "import numpy as np\n",
    "import pandas as pd\n",
    "\n",
    "# Sample documents\n",
    "documents = [\n",
    "    \"The cat chases mice in the garden\",\n",
    "    \"The dog chases cats in the park\",\n",
    "    \"Mice eat cheese in the house\",\n",
    "    \"The cat and dog play in the garden\"\n",
    "]\n",
    "\n",
    "# Create word count matrix\n",
    "vectorizer = CountVectorizer()\n",
    "count_matrix = vectorizer.fit_transform(documents)\n",
    "words = vectorizer.get_feature_names_out()\n",
    "\n",
    "# Display as a table\n",
    "df = pd.DataFrame(count_matrix.toarray(), columns=words)\n",
    "df.style.background_gradient(cmap='cividis', axis = None).set_caption(\"Word-Document Count Matrix\")"
   ]
  },
  {
   "cell_type": "markdown",
   "id": "018b6599",
   "metadata": {},
   "source": [
    "```{note}\n",
    "This matrix is our first attempt at a distributed representation - each word is represented not by a single number, but by its pattern of appearances across all documents.\n",
    "```\n",
    "\n",
    "### The Problem with Raw Counts\n",
    "\n",
    "Looking at our word-document matrix, something seems off. Words like \"the\" and \"in\" appear frequently in almost every document. Are these words really the most important for understanding document meaning? Let's see what happens if we count how often each word appears across all documents:"
   ]
  },
  {
   "cell_type": "code",
   "execution_count": 2,
   "id": "e3acb520",
   "metadata": {},
   "outputs": [
    {
     "data": {
      "text/html": [
       "<style type=\"text/css\">\n",
       "#T_0cc0c_row0_col0, #T_0cc0c_row0_col2, #T_0cc0c_row0_col4, #T_0cc0c_row0_col6, #T_0cc0c_row0_col8, #T_0cc0c_row0_col11, #T_0cc0c_row0_col12 {\n",
       "  background-color: #00224e;\n",
       "  color: #f1f1f1;\n",
       "}\n",
       "#T_0cc0c_row0_col1, #T_0cc0c_row0_col3, #T_0cc0c_row0_col5, #T_0cc0c_row0_col7, #T_0cc0c_row0_col10 {\n",
       "  background-color: #2a3f6d;\n",
       "  color: #f1f1f1;\n",
       "}\n",
       "#T_0cc0c_row0_col9 {\n",
       "  background-color: #7d7c78;\n",
       "  color: #f1f1f1;\n",
       "}\n",
       "#T_0cc0c_row0_col13 {\n",
       "  background-color: #fee838;\n",
       "  color: #000000;\n",
       "}\n",
       "</style>\n",
       "<table id=\"T_0cc0c\">\n",
       "  <caption>Total appearances of each word</caption>\n",
       "  <thead>\n",
       "    <tr>\n",
       "      <th class=\"blank level0\" >&nbsp;</th>\n",
       "      <th id=\"T_0cc0c_level0_col0\" class=\"col_heading level0 col0\" >and</th>\n",
       "      <th id=\"T_0cc0c_level0_col1\" class=\"col_heading level0 col1\" >cat</th>\n",
       "      <th id=\"T_0cc0c_level0_col2\" class=\"col_heading level0 col2\" >cats</th>\n",
       "      <th id=\"T_0cc0c_level0_col3\" class=\"col_heading level0 col3\" >chases</th>\n",
       "      <th id=\"T_0cc0c_level0_col4\" class=\"col_heading level0 col4\" >cheese</th>\n",
       "      <th id=\"T_0cc0c_level0_col5\" class=\"col_heading level0 col5\" >dog</th>\n",
       "      <th id=\"T_0cc0c_level0_col6\" class=\"col_heading level0 col6\" >eat</th>\n",
       "      <th id=\"T_0cc0c_level0_col7\" class=\"col_heading level0 col7\" >garden</th>\n",
       "      <th id=\"T_0cc0c_level0_col8\" class=\"col_heading level0 col8\" >house</th>\n",
       "      <th id=\"T_0cc0c_level0_col9\" class=\"col_heading level0 col9\" >in</th>\n",
       "      <th id=\"T_0cc0c_level0_col10\" class=\"col_heading level0 col10\" >mice</th>\n",
       "      <th id=\"T_0cc0c_level0_col11\" class=\"col_heading level0 col11\" >park</th>\n",
       "      <th id=\"T_0cc0c_level0_col12\" class=\"col_heading level0 col12\" >play</th>\n",
       "      <th id=\"T_0cc0c_level0_col13\" class=\"col_heading level0 col13\" >the</th>\n",
       "    </tr>\n",
       "  </thead>\n",
       "  <tbody>\n",
       "    <tr>\n",
       "      <th id=\"T_0cc0c_level0_row0\" class=\"row_heading level0 row0\" >count</th>\n",
       "      <td id=\"T_0cc0c_row0_col0\" class=\"data row0 col0\" >1</td>\n",
       "      <td id=\"T_0cc0c_row0_col1\" class=\"data row0 col1\" >2</td>\n",
       "      <td id=\"T_0cc0c_row0_col2\" class=\"data row0 col2\" >1</td>\n",
       "      <td id=\"T_0cc0c_row0_col3\" class=\"data row0 col3\" >2</td>\n",
       "      <td id=\"T_0cc0c_row0_col4\" class=\"data row0 col4\" >1</td>\n",
       "      <td id=\"T_0cc0c_row0_col5\" class=\"data row0 col5\" >2</td>\n",
       "      <td id=\"T_0cc0c_row0_col6\" class=\"data row0 col6\" >1</td>\n",
       "      <td id=\"T_0cc0c_row0_col7\" class=\"data row0 col7\" >2</td>\n",
       "      <td id=\"T_0cc0c_row0_col8\" class=\"data row0 col8\" >1</td>\n",
       "      <td id=\"T_0cc0c_row0_col9\" class=\"data row0 col9\" >4</td>\n",
       "      <td id=\"T_0cc0c_row0_col10\" class=\"data row0 col10\" >2</td>\n",
       "      <td id=\"T_0cc0c_row0_col11\" class=\"data row0 col11\" >1</td>\n",
       "      <td id=\"T_0cc0c_row0_col12\" class=\"data row0 col12\" >1</td>\n",
       "      <td id=\"T_0cc0c_row0_col13\" class=\"data row0 col13\" >7</td>\n",
       "    </tr>\n",
       "  </tbody>\n",
       "</table>\n"
      ],
      "text/plain": [
       "<pandas.io.formats.style.Styler at 0x10903b910>"
      ]
     },
     "execution_count": 2,
     "metadata": {},
     "output_type": "execute_result"
    }
   ],
   "source": [
    "word_counts = df.sum(axis=0)\n",
    "word_counts_df = pd.DataFrame(word_counts, columns=[\"count\"]).T\n",
    "word_counts_df.style.background_gradient(cmap='cividis', axis = None).set_caption(\"Total appearances of each word\")"
   ]
  },
  {
   "cell_type": "markdown",
   "id": "4e6aa3d3",
   "metadata": {},
   "source": [
    "```{note}\n",
    "This pattern, where a few words appear very frequently while most words appear rarely, is known as Zipf's Law. It's a fundamental property of natural language.\n",
    "![](https://miro.medium.com/v2/resize:fit:1400/1*GTpckiHyFLe04pUMeYDYOg.png)\n",
    "```\n",
    "\n",
    "\n",
    "We've discovered two problems with raw word counts:\n",
    "1. Common words like \"the\" and \"in\" dominate the counts, but they tell us little about document content\n",
    "2. Raw frequencies don't tell us how unique or informative a word is across documents\n",
    "\n",
    "Think about it: if a word appears frequently in one document but rarely in others (like \"cheese\" in our example), it's probably more informative about that document's content than a word that appears equally frequently in all documents (like \"the\").\n",
    "\n",
    "This realization leads us to two important questions:\n",
    "1. How can we normalize word frequencies within each document to account for document length?\n",
    "2. How can we adjust these frequencies to give more weight to words that are unique to specific documents?\n",
    "\n",
    "**TF-IDF (Term Frequency-Inverse Document Frequency)** provides elegant solutions to both questions. Let's see how it works in the next section.\n",
    "\n",
    "## The Need for Normalization\n",
    "\n",
    "TF-IDF (Term Frequency-Inverse Document Frequency) offers our first practical glimpse into representing words as distributed patterns rather than isolated units.\n",
    "\n",
    "The TF-IDF score for a word $t$ in document $d$ combines two components:\n",
    "\n",
    "$\\text{TF-IDF}(t,d) = \\text{TF}(t,d) \\times \\text{IDF}(t)$\n",
    "\n",
    "where:\n",
    "\n",
    "$\\text{TF}(t,d) = \\dfrac{\\text{count of term }t\\text{ in document }d}{\\text{total number of terms in document }d}$\n",
    "\n",
    "$\\text{IDF}(t) = \\log\\left(\\dfrac{\\text{total number of documents}}{\\text{number of documents containing term }t}\\right)$\n",
    "\n",
    "```{note}\n",
    "Unlike one-hot encoding where each word is represented by a single position, TF-IDF represents each word through its pattern of occurrence across all documents. This distributed nature allows TF-IDF to capture semantic relationships: words that appear in similar documents will have similar patterns of TF-IDF scores.\n",
    "```\n",
    "\n",
    "Let's see this distributed representation in action:\n",
    "First, let us consider a simple example with 5 documents about animals."
   ]
  },
  {
   "cell_type": "code",
   "execution_count": 3,
   "id": "4ab99ce7",
   "metadata": {},
   "outputs": [],
   "source": [
    "from sklearn.decomposition import PCA\n",
    "import matplotlib.pyplot as plt\n",
    "import numpy as np\n",
    "\n",
    "# Sample documents about animals\n",
    "documents = [\n",
    "    \"Cats chase mice in the garden\",\n",
    "    \"Dogs chase cats in the park\",\n",
    "    \"Mice eat cheese in the house\",\n",
    "    \"Pets like dogs and cats need care\",\n",
    "    \"Wild animals hunt in nature\"\n",
    "]"
   ]
  },
  {
   "cell_type": "markdown",
   "id": "604c7671",
   "metadata": {},
   "source": [
    "Second, we will split each document into words and create a vocabulary.\n",
    "This process is called **tokenization**."
   ]
  },
  {
   "cell_type": "code",
   "execution_count": 4,
   "id": "679b39d3",
   "metadata": {},
   "outputs": [],
   "source": [
    "tokens = []\n",
    "vocab = set()\n",
    "for doc in documents:\n",
    "    tokens_in_doc = doc.lower().split()\n",
    "    tokens.append(tokens_in_doc)\n",
    "    vocab.update(tokens_in_doc)\n",
    "\n",
    "# create a dictionary that maps each word to a unique index\n",
    "word_to_idx = {word: i for i, word in enumerate(vocab)}"
   ]
  },
  {
   "cell_type": "markdown",
   "id": "079f72e9",
   "metadata": {},
   "source": [
    "Third, we will count how many times each word appears in each document. We begin by creating a placeholder matrix `tf_matrix` to store the counts."
   ]
  },
  {
   "cell_type": "code",
   "execution_count": 5,
   "id": "cdd11b4c",
   "metadata": {},
   "outputs": [
    {
     "name": "stdout",
     "output_type": "stream",
     "text": [
      "[[0. 0. 0. 0. 0.]\n",
      " [0. 0. 0. 0. 0.]\n",
      " [0. 0. 0. 0. 0.]\n",
      " [0. 0. 0. 0. 0.]\n",
      " [0. 0. 0. 0. 0.]\n",
      " [0. 0. 0. 0. 0.]\n",
      " [0. 0. 0. 0. 0.]\n",
      " [0. 0. 0. 0. 0.]\n",
      " [0. 0. 0. 0. 0.]\n",
      " [0. 0. 0. 0. 0.]\n",
      " [0. 0. 0. 0. 0.]\n",
      " [0. 0. 0. 0. 0.]\n",
      " [0. 0. 0. 0. 0.]\n",
      " [0. 0. 0. 0. 0.]\n",
      " [0. 0. 0. 0. 0.]\n",
      " [0. 0. 0. 0. 0.]\n",
      " [0. 0. 0. 0. 0.]\n",
      " [0. 0. 0. 0. 0.]\n",
      " [0. 0. 0. 0. 0.]\n",
      " [0. 0. 0. 0. 0.]]\n"
     ]
    }
   ],
   "source": [
    "# Calculate term frequencies for each document\n",
    "n_docs = len(documents) # number of documents\n",
    "n_terms = len(vocab) # number of words\n",
    "\n",
    "# This is a matrix of zeros\n",
    "# with the number of rows equal to the number of words\n",
    "# and the number of columns equal to the number of documents\n",
    "tf_matrix = np.zeros((n_terms, n_docs))\n",
    "\n",
    "print(tf_matrix)"
   ]
  },
  {
   "cell_type": "markdown",
   "id": "84d7ccd7",
   "metadata": {},
   "source": [
    "And then we count how many times each word appears in each document."
   ]
  },
  {
   "cell_type": "code",
   "execution_count": 6,
   "id": "8182c7f0",
   "metadata": {},
   "outputs": [
    {
     "name": "stdout",
     "output_type": "stream",
     "text": [
      "[[1. 1. 1. 0. 1.]\n",
      " [0. 1. 0. 1. 0.]\n",
      " [0. 0. 0. 0. 1.]\n",
      " [0. 0. 0. 0. 1.]\n",
      " [0. 0. 1. 0. 0.]\n",
      " [0. 0. 0. 1. 0.]\n",
      " [1. 0. 1. 0. 0.]\n",
      " [0. 1. 0. 0. 0.]\n",
      " [0. 0. 0. 1. 0.]\n",
      " [0. 0. 0. 0. 1.]\n",
      " [0. 0. 1. 0. 0.]\n",
      " [1. 1. 0. 0. 0.]\n",
      " [1. 1. 0. 1. 0.]\n",
      " [1. 1. 1. 0. 0.]\n",
      " [0. 0. 0. 1. 0.]\n",
      " [0. 0. 0. 1. 0.]\n",
      " [0. 0. 1. 0. 0.]\n",
      " [0. 0. 0. 0. 1.]\n",
      " [0. 0. 0. 1. 0.]\n",
      " [1. 0. 0. 0. 0.]]\n"
     ]
    }
   ],
   "source": [
    "for doc_idx, tokens_in_doc in enumerate(tokens):\n",
    "    for word in tokens_in_doc:\n",
    "        term_idx = word_to_idx[word]\n",
    "        tf_matrix[term_idx, doc_idx] += 1\n",
    "\n",
    "print(tf_matrix)"
   ]
  },
  {
   "cell_type": "markdown",
   "id": "f2feb52c",
   "metadata": {},
   "source": [
    "Fourth, we calculate the IDF for each word.\n",
    "IDF is defined as the logarithm of the inverse document frequency.\n",
    "Document frequency is the number of documents that contain the word.\n",
    "Note that, if a word appears multiple times in the same document, it should only be counted once!"
   ]
  },
  {
   "cell_type": "code",
   "execution_count": 7,
   "id": "bf8ba8aa",
   "metadata": {},
   "outputs": [],
   "source": [
    "# Calculate IDF for each term\n",
    "# let's use tf_matrix to calculate the document frequency\n",
    "doc_freq = np.zeros(n_terms)\n",
    "\n",
    "# Go through each word\n",
    "for term_idx in range(n_terms):\n",
    "\n",
    "    # For each word, go through each document\n",
    "    for doc_idx in range(n_docs):\n",
    "        # If the word appears in the document, increment the document frequency\n",
    "        if tf_matrix[term_idx, doc_idx] > 0:\n",
    "            doc_freq[term_idx] += 1\n",
    "\n",
    "idf = np.log(n_docs / doc_freq)"
   ]
  },
  {
   "cell_type": "markdown",
   "id": "bcb52c51",
   "metadata": {},
   "source": [
    "Next, we calculate the TF-IDF matrix. `tf_matrix` is a matrix of `n_terms` by `n_docs`, and `idf` is a vector of length `n_terms`. Remind that the tf-idf is given by\n",
    "\n",
    "$\n",
    "\\text{TF-IDF}(t,d) = \\text{TF}(t,d) \\times \\text{IDF}(t)\n",
    "$\n",
    "\n",
    "A naive way to do this (albeit not efficient) is to perform this using for loops"
   ]
  },
  {
   "cell_type": "code",
   "execution_count": 8,
   "id": "7429abb2",
   "metadata": {},
   "outputs": [],
   "source": [
    "# Calculate TF-IDF matrix\n",
    "\n",
    "tfidf_matrix = np.zeros((n_terms, n_docs))\n",
    "for term_idx in range(n_terms):\n",
    "    for doc_idx in range(n_docs):\n",
    "        tfidf_matrix[term_idx, doc_idx] = tf_matrix[term_idx, doc_idx] * idf[term_idx]"
   ]
  },
  {
   "cell_type": "markdown",
   "id": "86285be3",
   "metadata": {},
   "source": [
    "A more efficient way is to use matrix multiplication."
   ]
  },
  {
   "cell_type": "code",
   "execution_count": 9,
   "id": "9af77f7e",
   "metadata": {},
   "outputs": [],
   "source": [
    "tfidf_matrix = np.diag(idf) @ tf_matrix"
   ]
  },
  {
   "cell_type": "markdown",
   "id": "869ec380",
   "metadata": {},
   "source": [
    "where `np.diag(idf)` creates a diagonal matrix with `idf` on the diagonal.\n",
    "\n",
    "```{tip}\n",
    "Consider a diagonal matrix as a tool to scale the rows/columns of a matrix.\n",
    "If we multiple a diagonal matrix from the left, we scale the rows of the matrix.\n",
    "If we multiple a diagonal matrix from the right, we scale the columns of the matrix.\n",
    "\n",
    "![](https://allisonhorst.github.io/EDS_212_essential-math/slides/slide_images/diagonal_matrix_scaling.png)\n",
    "```\n",
    "\n",
    "A more efficient way is to use einsum, which is a powerful function for performing Einstein summation convention on arrays."
   ]
  },
  {
   "cell_type": "code",
   "execution_count": 10,
   "id": "0c7cdb5b",
   "metadata": {},
   "outputs": [],
   "source": [
    "tfidf_matrix = np.einsum('ij,i->ij', tf_matrix, idf)"
   ]
  },
  {
   "cell_type": "markdown",
   "id": "8ed63b75",
   "metadata": {},
   "source": [
    "```{tip}\n",
    "`einsum` provides a concise way to express complex array manipulations and can often lead to more efficient computations. Here is a concise description of how `einsum` works [A basic introduction to NumPy's einsum](https://ajcr.net/Basic-guide-to-einsum/)\n",
    "\n",
    "The general form of `einsum` is `np.einsum(subscripts, *operands)`, where:\n",
    "\n",
    "- `subscripts` is a string specifying the subscripts for summation as comma-separated list of subscript labels\n",
    "- `operands` are the input arrays\n",
    "\n",
    "In our case, `'ij,i->ij'` means:\n",
    "1. Take the first array `tf_matrix` with dimensions `i,j`\n",
    "2. Take the second array `idf` with dimension `i`\n",
    "3. Multiply each row `j` of `tf_matrix` by the corresponding element `i` of `idf`\n",
    "4. Output has same dimensions `i,j` as input\n",
    "```\n",
    "\n",
    "Now, we have the TF-IDF matrix as follows:"
   ]
  },
  {
   "cell_type": "code",
   "execution_count": 11,
   "id": "c6675f67",
   "metadata": {},
   "outputs": [
    {
     "name": "stdout",
     "output_type": "stream",
     "text": [
      "[[0.22314355 0.22314355 0.22314355 0.         0.22314355]\n",
      " [0.         0.91629073 0.         0.91629073 0.        ]\n",
      " [0.         0.         0.         0.         1.60943791]\n",
      " [0.         0.         0.         0.         1.60943791]\n",
      " [0.         0.         1.60943791 0.         0.        ]\n",
      " [0.         0.         0.         1.60943791 0.        ]\n",
      " [0.91629073 0.         0.91629073 0.         0.        ]\n",
      " [0.         1.60943791 0.         0.         0.        ]\n",
      " [0.         0.         0.         1.60943791 0.        ]\n",
      " [0.         0.         0.         0.         1.60943791]\n",
      " [0.         0.         1.60943791 0.         0.        ]\n",
      " [0.91629073 0.91629073 0.         0.         0.        ]\n",
      " [0.51082562 0.51082562 0.         0.51082562 0.        ]\n",
      " [0.51082562 0.51082562 0.51082562 0.         0.        ]\n",
      " [0.         0.         0.         1.60943791 0.        ]\n",
      " [0.         0.         0.         1.60943791 0.        ]\n",
      " [0.         0.         1.60943791 0.         0.        ]\n",
      " [0.         0.         0.         0.         1.60943791]\n",
      " [0.         0.         0.         1.60943791 0.        ]\n",
      " [1.60943791 0.         0.         0.         0.        ]]\n"
     ]
    }
   ],
   "source": [
    "print(tfidf_matrix)"
   ]
  },
  {
   "cell_type": "markdown",
   "id": "0ee8c315",
   "metadata": {},
   "source": [
    "Each row of the TF-IDF matrix is our first attempt at a distributed representation of a word.\n",
    "Words that appear together in the same documents frequently will have similar rows.\n",
    "\n",
    "Just like one-hot encoding, this representation can be high-dimensional, e.g., if we have 10000 documents, each word is represented by a vector of length 10000.\n",
    "One can reduce the dimensionality of the representation using dimensionality reduction techniques (e.g., PCA, SVD) while maintaining the structure of the data.\n",
    "This is possible because tf-idf matrix is often low-rank in practice.\n",
    "\n",
    "```{note}\n",
    "TF-IDF matrices are often low-rank because documents naturally group into clusters based on topics or themes. This clustering creates redundancy in the term-document matrix, as many terms are specific to certain clusters and rare in others. Consequently, the TF-IDF matrix can be approximated by a lower-rank matrix. This low-rank nature is useful for applications like dimensionality reduction and topic modeling, as it simplifies data visualization and analysis.\n",
    "```\n",
    "\n",
    "Let us apply PCA to reduce the dimensionality of the tf-idf matrix."
   ]
  },
  {
   "cell_type": "code",
   "execution_count": 12,
   "id": "7a962ca1",
   "metadata": {},
   "outputs": [],
   "source": [
    "reducer = PCA(n_components=2)\n",
    "xy = reducer.fit_transform(tfidf_matrix)"
   ]
  },
  {
   "cell_type": "markdown",
   "id": "d25f1ce8",
   "metadata": {},
   "source": [
    "Let's visualize the result using Bokeh."
   ]
  },
  {
   "cell_type": "code",
   "execution_count": 13,
   "id": "e2bdec36",
   "metadata": {},
   "outputs": [
    {
     "ename": "ModuleNotFoundError",
     "evalue": "No module named 'bokeh'",
     "output_type": "error",
     "traceback": [
      "\u001b[0;31m---------------------------------------------------------------------------\u001b[0m",
      "\u001b[0;31mModuleNotFoundError\u001b[0m                       Traceback (most recent call last)",
      "Cell \u001b[0;32mIn[13], line 1\u001b[0m\n\u001b[0;32m----> 1\u001b[0m \u001b[38;5;28;01mfrom\u001b[39;00m \u001b[38;5;21;01mbokeh\u001b[39;00m\u001b[38;5;21;01m.\u001b[39;00m\u001b[38;5;21;01mplotting\u001b[39;00m \u001b[38;5;28;01mimport\u001b[39;00m figure, show, output_notebook\n\u001b[1;32m      2\u001b[0m \u001b[38;5;28;01mfrom\u001b[39;00m \u001b[38;5;21;01mbokeh\u001b[39;00m\u001b[38;5;21;01m.\u001b[39;00m\u001b[38;5;21;01mmodels\u001b[39;00m \u001b[38;5;28;01mimport\u001b[39;00m ColumnDataSource\n\u001b[1;32m      3\u001b[0m \u001b[38;5;28;01mfrom\u001b[39;00m \u001b[38;5;21;01mbokeh\u001b[39;00m\u001b[38;5;21;01m.\u001b[39;00m\u001b[38;5;21;01mio\u001b[39;00m \u001b[38;5;28;01mimport\u001b[39;00m push_notebook\n",
      "\u001b[0;31mModuleNotFoundError\u001b[0m: No module named 'bokeh'"
     ]
    }
   ],
   "source": [
    "from bokeh.plotting import figure, show, output_notebook\n",
    "from bokeh.models import ColumnDataSource\n",
    "from bokeh.io import push_notebook\n",
    "from bokeh.plotting import figure, show\n",
    "from bokeh.io import output_notebook\n",
    "from bokeh.models import ColumnDataSource, HoverTool\n",
    "\n",
    "output_notebook()\n",
    "\n",
    "# Prepare data for Bokeh\n",
    "source = ColumnDataSource(data=dict(\n",
    "    x=xy[:, 0],\n",
    "    y=xy[:, 1],\n",
    "    text_x=xy[:, 0] + np.random.randn(n_terms) * 0.02,\n",
    "    text_y=xy[:, 1] + np.random.randn(n_terms) * 0.02,\n",
    "    term=list(word_to_idx.keys())\n",
    "))\n",
    "\n",
    "p = figure(title=\"Node Embeddings from Word2Vec\", x_axis_label=\"X\", y_axis_label=\"Y\")\n",
    "\n",
    "p.scatter('x', 'y', source=source, line_color=\"black\", size = 30)\n",
    "\n",
    "# Add labels to the points\n",
    "p.text(x='text_x', y='text_y', text='term', source=source, text_font_size=\"10pt\", text_baseline=\"middle\", text_align=\"center\")\n",
    "\n",
    "show(p)"
   ]
  },
  {
   "cell_type": "markdown",
   "id": "5190acba",
   "metadata": {},
   "source": [
    "The power of TF-IDF lies in its ability to transform the distributional hypothesis into a practical mathematical framework. By representing words through their patterns of usage across documents, TF-IDF creates a distributed representation where semantic relationships emerge naturally from the data.\n",
    "\n",
    "However, TF-IDF has its limitations. It only captures word-document relationships, missing out on the rich word-word relationships that occur within documents. This limitation led researchers to develop more sophisticated techniques like word2vec, which we'll explore in the next section.\n",
    "\n",
    "```{footbibliography}\n",
    "```"
   ]
  }
 ],
 "metadata": {
  "jupytext": {
   "formats": "md:myst",
   "text_representation": {
    "extension": ".md",
    "format_name": "myst"
   }
  },
  "kernelspec": {
   "display_name": "Python 3",
   "language": "python",
   "name": "python3"
  },
  "language_info": {
   "codemirror_mode": {
    "name": "ipython",
    "version": 3
   },
   "file_extension": ".py",
   "mimetype": "text/x-python",
   "name": "python",
   "nbconvert_exporter": "python",
   "pygments_lexer": "ipython3",
   "version": "3.10.13"
  }
 },
 "nbformat": 4,
 "nbformat_minor": 5
}