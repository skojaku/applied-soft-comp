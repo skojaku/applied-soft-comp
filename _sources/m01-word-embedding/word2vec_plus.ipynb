{
 "cells": [
  {
   "cell_type": "markdown",
   "id": "669b9427",
   "metadata": {},
   "source": [
    "# GloVe and FastText: Building on Word2Vec's Foundation\n",
    "\n",
    "word2vec inspires a lot of follow-up work. Here we will introduce two notable ones: **GloVe** and **FastText**.\n",
    "\n",
    "\n",
    "## GloVe: Looking at the Big Picture\n",
    "\n",
    "GloVe approaches word embeddings from a fundamentally different perspective than Word2Vec. While Word2Vec learns incrementally by scanning through text with small context windows, predicting words from their neighbors, GloVe takes a more global approach by analyzing the entire corpus's word co-occurrence patterns at once.\n",
    "\n",
    "### Key Differences from Word2Vec\n",
    "\n",
    "While Word2Vec learns incrementally by predicting context words through a neural network architecture, GloVe takes a more direct approach through matrix factorization. It explicitly models relationships between all word pairs at once, allowing it to capture global patterns that Word2Vec's local window approach might miss. GloVe's mathematical foundation as a matrix factorization model, similar to LSA but with improved weighting, makes its training objective more interpretable and connects it naturally to classical statistical methods.\n",
    "\n",
    "The key insight behind GloVe is that the ratio of co-occurrence probabilities carries meaningful information. Let's look at a concrete example:"
   ]
  },
  {
   "cell_type": "code",
   "execution_count": 1,
   "id": "2da88400",
   "metadata": {},
   "outputs": [
    {
     "ename": "ImportError",
     "evalue": "cannot import name 'triu' from 'scipy.linalg' (/Users/skojaku-admin/miniforge3/envs/applsoftcomp/lib/python3.10/site-packages/scipy/linalg/__init__.py)",
     "output_type": "error",
     "traceback": [
      "\u001b[0;31m---------------------------------------------------------------------------\u001b[0m",
      "\u001b[0;31mImportError\u001b[0m                               Traceback (most recent call last)",
      "Cell \u001b[0;32mIn[1], line 1\u001b[0m\n\u001b[0;32m----> 1\u001b[0m \u001b[38;5;28;01mimport\u001b[39;00m \u001b[38;5;21;01mgensim\u001b[39;00m\u001b[38;5;21;01m.\u001b[39;00m\u001b[38;5;21;01mdownloader\u001b[39;00m \u001b[38;5;28;01mas\u001b[39;00m \u001b[38;5;21;01mapi\u001b[39;00m\n\u001b[1;32m      2\u001b[0m \u001b[38;5;28;01mimport\u001b[39;00m \u001b[38;5;21;01mnumpy\u001b[39;00m \u001b[38;5;28;01mas\u001b[39;00m \u001b[38;5;21;01mnp\u001b[39;00m\n\u001b[1;32m      3\u001b[0m \u001b[38;5;28;01mfrom\u001b[39;00m \u001b[38;5;21;01mtabulate\u001b[39;00m \u001b[38;5;28;01mimport\u001b[39;00m tabulate\n",
      "File \u001b[0;32m~/miniforge3/envs/applsoftcomp/lib/python3.10/site-packages/gensim/__init__.py:11\u001b[0m\n\u001b[1;32m      7\u001b[0m __version__ \u001b[38;5;241m=\u001b[39m \u001b[38;5;124m'\u001b[39m\u001b[38;5;124m4.3.2\u001b[39m\u001b[38;5;124m'\u001b[39m\n\u001b[1;32m      9\u001b[0m \u001b[38;5;28;01mimport\u001b[39;00m \u001b[38;5;21;01mlogging\u001b[39;00m\n\u001b[0;32m---> 11\u001b[0m \u001b[38;5;28;01mfrom\u001b[39;00m \u001b[38;5;21;01mgensim\u001b[39;00m \u001b[38;5;28;01mimport\u001b[39;00m parsing, corpora, matutils, interfaces, models, similarities, utils  \u001b[38;5;66;03m# noqa:F401\u001b[39;00m\n\u001b[1;32m     14\u001b[0m logger \u001b[38;5;241m=\u001b[39m logging\u001b[38;5;241m.\u001b[39mgetLogger(\u001b[38;5;124m'\u001b[39m\u001b[38;5;124mgensim\u001b[39m\u001b[38;5;124m'\u001b[39m)\n\u001b[1;32m     15\u001b[0m \u001b[38;5;28;01mif\u001b[39;00m \u001b[38;5;129;01mnot\u001b[39;00m logger\u001b[38;5;241m.\u001b[39mhandlers:  \u001b[38;5;66;03m# To ensure reload() doesn't add another one\u001b[39;00m\n",
      "File \u001b[0;32m~/miniforge3/envs/applsoftcomp/lib/python3.10/site-packages/gensim/corpora/__init__.py:6\u001b[0m\n\u001b[1;32m      1\u001b[0m \u001b[38;5;124;03m\"\"\"\u001b[39;00m\n\u001b[1;32m      2\u001b[0m \u001b[38;5;124;03mThis package contains implementations of various streaming corpus I/O format.\u001b[39;00m\n\u001b[1;32m      3\u001b[0m \u001b[38;5;124;03m\"\"\"\u001b[39;00m\n\u001b[1;32m      5\u001b[0m \u001b[38;5;66;03m# bring corpus classes directly into package namespace, to save some typing\u001b[39;00m\n\u001b[0;32m----> 6\u001b[0m \u001b[38;5;28;01mfrom\u001b[39;00m \u001b[38;5;21;01m.\u001b[39;00m\u001b[38;5;21;01mindexedcorpus\u001b[39;00m \u001b[38;5;28;01mimport\u001b[39;00m IndexedCorpus  \u001b[38;5;66;03m# noqa:F401 must appear before the other classes\u001b[39;00m\n\u001b[1;32m      8\u001b[0m \u001b[38;5;28;01mfrom\u001b[39;00m \u001b[38;5;21;01m.\u001b[39;00m\u001b[38;5;21;01mmmcorpus\u001b[39;00m \u001b[38;5;28;01mimport\u001b[39;00m MmCorpus  \u001b[38;5;66;03m# noqa:F401\u001b[39;00m\n\u001b[1;32m      9\u001b[0m \u001b[38;5;28;01mfrom\u001b[39;00m \u001b[38;5;21;01m.\u001b[39;00m\u001b[38;5;21;01mbleicorpus\u001b[39;00m \u001b[38;5;28;01mimport\u001b[39;00m BleiCorpus  \u001b[38;5;66;03m# noqa:F401\u001b[39;00m\n",
      "File \u001b[0;32m~/miniforge3/envs/applsoftcomp/lib/python3.10/site-packages/gensim/corpora/indexedcorpus.py:14\u001b[0m\n\u001b[1;32m     10\u001b[0m \u001b[38;5;28;01mimport\u001b[39;00m \u001b[38;5;21;01mlogging\u001b[39;00m\n\u001b[1;32m     12\u001b[0m \u001b[38;5;28;01mimport\u001b[39;00m \u001b[38;5;21;01mnumpy\u001b[39;00m\n\u001b[0;32m---> 14\u001b[0m \u001b[38;5;28;01mfrom\u001b[39;00m \u001b[38;5;21;01mgensim\u001b[39;00m \u001b[38;5;28;01mimport\u001b[39;00m interfaces, utils\n\u001b[1;32m     16\u001b[0m logger \u001b[38;5;241m=\u001b[39m logging\u001b[38;5;241m.\u001b[39mgetLogger(\u001b[38;5;18m__name__\u001b[39m)\n\u001b[1;32m     19\u001b[0m \u001b[38;5;28;01mclass\u001b[39;00m \u001b[38;5;21;01mIndexedCorpus\u001b[39;00m(interfaces\u001b[38;5;241m.\u001b[39mCorpusABC):\n",
      "File \u001b[0;32m~/miniforge3/envs/applsoftcomp/lib/python3.10/site-packages/gensim/interfaces.py:19\u001b[0m\n\u001b[1;32m      7\u001b[0m \u001b[38;5;124;03m\"\"\"Basic interfaces used across the whole Gensim package.\u001b[39;00m\n\u001b[1;32m      8\u001b[0m \n\u001b[1;32m      9\u001b[0m \u001b[38;5;124;03mThese interfaces are used for building corpora, model transformation and similarity queries.\u001b[39;00m\n\u001b[0;32m   (...)\u001b[0m\n\u001b[1;32m     14\u001b[0m \n\u001b[1;32m     15\u001b[0m \u001b[38;5;124;03m\"\"\"\u001b[39;00m\n\u001b[1;32m     17\u001b[0m \u001b[38;5;28;01mimport\u001b[39;00m \u001b[38;5;21;01mlogging\u001b[39;00m\n\u001b[0;32m---> 19\u001b[0m \u001b[38;5;28;01mfrom\u001b[39;00m \u001b[38;5;21;01mgensim\u001b[39;00m \u001b[38;5;28;01mimport\u001b[39;00m utils, matutils\n\u001b[1;32m     22\u001b[0m logger \u001b[38;5;241m=\u001b[39m logging\u001b[38;5;241m.\u001b[39mgetLogger(\u001b[38;5;18m__name__\u001b[39m)\n\u001b[1;32m     25\u001b[0m \u001b[38;5;28;01mclass\u001b[39;00m \u001b[38;5;21;01mCorpusABC\u001b[39;00m(utils\u001b[38;5;241m.\u001b[39mSaveLoad):\n",
      "File \u001b[0;32m~/miniforge3/envs/applsoftcomp/lib/python3.10/site-packages/gensim/matutils.py:20\u001b[0m\n\u001b[1;32m     18\u001b[0m \u001b[38;5;28;01mimport\u001b[39;00m \u001b[38;5;21;01mscipy\u001b[39;00m\u001b[38;5;21;01m.\u001b[39;00m\u001b[38;5;21;01msparse\u001b[39;00m\n\u001b[1;32m     19\u001b[0m \u001b[38;5;28;01mfrom\u001b[39;00m \u001b[38;5;21;01mscipy\u001b[39;00m\u001b[38;5;21;01m.\u001b[39;00m\u001b[38;5;21;01mstats\u001b[39;00m \u001b[38;5;28;01mimport\u001b[39;00m entropy\n\u001b[0;32m---> 20\u001b[0m \u001b[38;5;28;01mfrom\u001b[39;00m \u001b[38;5;21;01mscipy\u001b[39;00m\u001b[38;5;21;01m.\u001b[39;00m\u001b[38;5;21;01mlinalg\u001b[39;00m \u001b[38;5;28;01mimport\u001b[39;00m get_blas_funcs, triu\n\u001b[1;32m     21\u001b[0m \u001b[38;5;28;01mfrom\u001b[39;00m \u001b[38;5;21;01mscipy\u001b[39;00m\u001b[38;5;21;01m.\u001b[39;00m\u001b[38;5;21;01mlinalg\u001b[39;00m\u001b[38;5;21;01m.\u001b[39;00m\u001b[38;5;21;01mlapack\u001b[39;00m \u001b[38;5;28;01mimport\u001b[39;00m get_lapack_funcs\n\u001b[1;32m     22\u001b[0m \u001b[38;5;28;01mfrom\u001b[39;00m \u001b[38;5;21;01mscipy\u001b[39;00m\u001b[38;5;21;01m.\u001b[39;00m\u001b[38;5;21;01mspecial\u001b[39;00m \u001b[38;5;28;01mimport\u001b[39;00m psi  \u001b[38;5;66;03m# gamma function utils\u001b[39;00m\n",
      "\u001b[0;31mImportError\u001b[0m: cannot import name 'triu' from 'scipy.linalg' (/Users/skojaku-admin/miniforge3/envs/applsoftcomp/lib/python3.10/site-packages/scipy/linalg/__init__.py)"
     ]
    }
   ],
   "source": [
    "import gensim.downloader as api\n",
    "import numpy as np\n",
    "from tabulate import tabulate\n",
    "\n",
    "# Load pre-trained GloVe vectors\n",
    "glove = api.load('glove-wiki-gigaword-100')\n",
    "\n",
    "# Demonstrate word relationships\n",
    "word_pairs = [\n",
    "    ('ice', 'water', 'steam'),\n",
    "    ('king', 'queen', 'man'),\n",
    "    ('computer', 'keyboard', 'screen')\n",
    "]\n",
    "\n",
    "def analyze_relationships(model, word_pairs):\n",
    "    results = []\n",
    "    for w1, w2, w3 in word_pairs:\n",
    "        # Calculate cosine similarities\n",
    "        sim12 = model.similarity(w1, w2)\n",
    "        sim23 = model.similarity(w2, w3)\n",
    "        sim13 = model.similarity(w1, w3)\n",
    "        results.append([f\"{w1}-{w2}\", sim12])\n",
    "        results.append([f\"{w2}-{w3}\", sim23])\n",
    "        results.append([f\"{w1}-{w3}\", sim13])\n",
    "        results.append(['---', '---'])\n",
    "\n",
    "    print(tabulate(results, headers=['Word Pair', 'Similarity'],\n",
    "                  floatfmt=\".3f\"))\n",
    "\n",
    "print(\"Analyzing word relationships in GloVe:\")\n",
    "analyze_relationships(glove, word_pairs)"
   ]
  },
  {
   "cell_type": "markdown",
   "id": "08c23f4c",
   "metadata": {},
   "source": [
    "These similarities demonstrate how GloVe captures semantic relationships. Notice how related word pairs (like 'ice-water' and 'water-steam') have higher similarities than less related pairs (like 'ice-steam').\n",
    "\n",
    "Let's also look at how GloVe handles analogies:"
   ]
  },
  {
   "cell_type": "code",
   "execution_count": null,
   "id": "9ebfdd73",
   "metadata": {},
   "outputs": [],
   "source": [
    "# Demonstrate analogies\n",
    "analogies = [\n",
    "    ('king', 'man', 'queen', 'woman'),  # gender relationship\n",
    "    ('paris', 'france', 'london', 'england'),  # capital-country\n",
    "    ('walk', 'walked', 'run', 'ran')  # verb tense\n",
    "]\n",
    "\n",
    "def test_analogy(model, word1, word2, word3, expected):\n",
    "    result = model.most_similar(\n",
    "        positive=[word3, word2],\n",
    "        negative=[word1],\n",
    "        topn=1\n",
    "    )[0]\n",
    "    print(f\"{word1} : {word2} :: {word3} : {result[0]}\")\n",
    "    print(f\"Expected: {expected}, Confidence: {result[1]:.3f}\\n\")\n",
    "\n",
    "print(\"Testing analogies in GloVe:\")\n",
    "for w1, w2, w3, w4 in analogies:\n",
    "    test_analogy(glove, w1, w2, w3, w4)"
   ]
  },
  {
   "cell_type": "markdown",
   "id": "09bbf491",
   "metadata": {},
   "source": [
    "GloVe's global co-occurrence statistics allow it to perform well on analogy tasks because it captures the overall structure of the language, not just local patterns. This is particularly evident in:\n",
    "\n",
    "1. **Semantic Relationships**: GloVe can identify pairs of words that appear in similar contexts across the entire corpus\n",
    "2. **Syntactic Patterns**: It captures grammatical relationships by learning from how words are used globally\n",
    "3. **Proportional Analogies**: The famous \"king - man + woman = queen\" type relationships emerge naturally from the co-occurrence patterns\n",
    "\n",
    "The success of GloVe in these tasks demonstrates the value of its matrix factorization approach and global statistics, complementing the incremental learning strategy of Word2Vec. Both approaches have their strengths, and understanding their differences helps in choosing the right tool for specific NLP tasks.\n",
    "\n",
    "```{note}\n",
    "The ability to capture global statistics makes GloVe particularly good at analogies, but it requires more memory during training than Word2Vec because it needs to store the entire co-occurrence matrix.\n",
    "```\n",
    "\n",
    "\n",
    "\n",
    "## FastText: Understanding Parts of Words\n",
    "\n",
    "FastText took a different approach to improving word embeddings. Its key insight was that words themselves have internal structure that carries meaning. Consider how you understand a word you've never seen before, like \"unhelpfulness.\" Even if you've never encountered this exact word, you can understand it by recognizing its parts: \"un-\" (meaning not), \"help\" (the root word), and \"-fulness\" (meaning the quality of).\n",
    "\n",
    "FastText implements this insight through several key mechanisms:\n",
    "\n",
    "1. **Subword Generation**: Break words into character n-grams\n",
    "   - Example: \"where\" → \"<wh\", \"whe\", \"her\", \"ere\", \"re>\"\n",
    "   - The < and > marks show word boundaries\n",
    "\n",
    "2. **Vector Creation**:\n",
    "   - Each subword gets its own vector\n",
    "   - A word's final vector is the sum of its subword vectors\n",
    "   - This allows handling of new words!\n",
    "\n",
    "Let's see FastText in action:"
   ]
  },
  {
   "cell_type": "code",
   "execution_count": null,
   "id": "75894866",
   "metadata": {},
   "outputs": [],
   "source": [
    "from gensim.models import FastText\n",
    "\n",
    "# Train a simple FastText model\n",
    "sentences = [\n",
    "    [\"the\", \"quick\", \"brown\", \"fox\", \"jumps\"],\n",
    "    [\"jumping\", \"is\", \"an\", \"action\"],\n",
    "    [\"quick\", \"movement\", \"requires\", \"energy\"]\n",
    "]\n",
    "\n",
    "model = FastText(sentences, vector_size=100, window=3, min_count=1)\n",
    "\n",
    "# FastText can handle words not in training\n",
    "print(\"Similar words to 'jumped' (not in training):\")\n",
    "print(model.wv.most_similar('jumped'))"
   ]
  },
  {
   "cell_type": "markdown",
   "id": "8642e36f",
   "metadata": {},
   "source": [
    "## When to Use Each Approach\n",
    "\n",
    "The choice between these models often depends on your specific needs:\n",
    "\n",
    "### GloVe is Better For:\n",
    "- Capturing broad thematic relationships\n",
    "- Working with a fixed vocabulary\n",
    "- Tasks involving analogies and word relationships\n",
    "\n",
    "### FastText Excels When:\n",
    "- You expect new or misspelled words\n",
    "- Working with morphologically rich languages\n",
    "- Handling rare words is important\n",
    "\n",
    "## Modern Impact\n",
    "\n",
    "The innovations from GloVe and FastText haven't been forgotten in modern NLP. Today's large language models like BERT and GPT incorporate insights from both approaches:\n",
    "- They use subword tokenization (like FastText)\n",
    "- Their attention mechanisms capture both local and global patterns\n",
    "- They can generate context-dependent representations\n",
    "\n",
    "The evolution from Word2Vec to GloVe to FastText shows how different perspectives on word representation have contributed to our understanding of language. Each model made unique contributions while building on previous insights, laying the groundwork for today's more sophisticated approaches.\n",
    "\n",
    "```{note}\n",
    "Think of these models as different ways of looking at the same problem:\n",
    "- Word2Vec is like learning from conversations\n",
    "- GloVe is like analyzing entire books at once\n",
    "- FastText is like understanding word roots and affixes\n",
    "```"
   ]
  }
 ],
 "metadata": {
  "jupytext": {
   "formats": "md:myst",
   "text_representation": {
    "extension": ".md",
    "format_name": "myst"
   }
  },
  "kernelspec": {
   "display_name": "Python 3",
   "language": "python",
   "name": "python3"
  },
  "language_info": {
   "codemirror_mode": {
    "name": "ipython",
    "version": 3
   },
   "file_extension": ".py",
   "mimetype": "text/x-python",
   "name": "python",
   "nbconvert_exporter": "python",
   "pygments_lexer": "ipython3",
   "version": "3.10.9"
  }
 },
 "nbformat": 4,
 "nbformat_minor": 5
}