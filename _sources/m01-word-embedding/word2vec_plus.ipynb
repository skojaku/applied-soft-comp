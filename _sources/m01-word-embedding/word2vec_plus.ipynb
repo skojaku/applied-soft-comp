{
 "cells": [
  {
   "cell_type": "markdown",
   "id": "37731412",
   "metadata": {},
   "source": [
    "# GloVe and FastText: Building on Word2Vec's Foundation\n",
    "\n",
    "word2vec inspires a lot of follow-up work. Here we will introduce two notable ones: **GloVe** and **FastText**.\n",
    "\n",
    "\n",
    "## GloVe: Looking at the Big Picture\n",
    "\n",
    "GloVe approaches word embeddings from a fundamentally different perspective than Word2Vec. While Word2Vec learns incrementally by scanning through text with small context windows, predicting words from their neighbors, GloVe takes a more global approach by analyzing the entire corpus's word co-occurrence patterns at once.\n",
    "\n",
    "### Key Differences from Word2Vec\n",
    "\n",
    "While Word2Vec learns incrementally by predicting context words through a neural network architecture, GloVe takes a more direct approach through matrix factorization. It explicitly models relationships between all word pairs at once, allowing it to capture global patterns that Word2Vec's local window approach might miss. GloVe's mathematical foundation as a matrix factorization model, similar to LSA but with improved weighting, makes its training objective more interpretable and connects it naturally to classical statistical methods.\n",
    "\n",
    "The key insight behind GloVe is that the ratio of co-occurrence probabilities carries meaningful information. Let's look at a concrete example:"
   ]
  },
  {
   "cell_type": "code",
   "execution_count": 1,
   "id": "d08229e0",
   "metadata": {},
   "outputs": [
    {
     "name": "stdout",
     "output_type": "stream",
     "text": [
      "Analyzing word relationships in GloVe:\n",
      "Word Pair          Similarity\n",
      "-----------------  -------------------\n",
      "ice-water          0.6125518679618835\n",
      "water-steam        0.5409033894538879\n",
      "ice-steam          0.33461955189704895\n",
      "---                ---\n",
      "king-queen         0.7507690787315369\n",
      "queen-man          0.47403234243392944\n",
      "king-man           0.5118682384490967\n",
      "---                ---\n",
      "computer-keyboard  0.5418189764022827\n",
      "keyboard-screen    0.5422782897949219\n",
      "computer-screen    0.5927576422691345\n",
      "---                ---\n"
     ]
    }
   ],
   "source": [
    "import gensim.downloader as api\n",
    "import numpy as np\n",
    "from tabulate import tabulate\n",
    "\n",
    "# Load pre-trained GloVe vectors\n",
    "glove = api.load('glove-wiki-gigaword-100')\n",
    "\n",
    "# Demonstrate word relationships\n",
    "word_pairs = [\n",
    "    ('ice', 'water', 'steam'),\n",
    "    ('king', 'queen', 'man'),\n",
    "    ('computer', 'keyboard', 'screen')\n",
    "]\n",
    "\n",
    "def analyze_relationships(model, word_pairs):\n",
    "    results = []\n",
    "    for w1, w2, w3 in word_pairs:\n",
    "        # Calculate cosine similarities\n",
    "        sim12 = model.similarity(w1, w2)\n",
    "        sim23 = model.similarity(w2, w3)\n",
    "        sim13 = model.similarity(w1, w3)\n",
    "        results.append([f\"{w1}-{w2}\", sim12])\n",
    "        results.append([f\"{w2}-{w3}\", sim23])\n",
    "        results.append([f\"{w1}-{w3}\", sim13])\n",
    "        results.append(['---', '---'])\n",
    "\n",
    "    print(tabulate(results, headers=['Word Pair', 'Similarity'],\n",
    "                  floatfmt=\".3f\"))\n",
    "\n",
    "print(\"Analyzing word relationships in GloVe:\")\n",
    "analyze_relationships(glove, word_pairs)"
   ]
  },
  {
   "cell_type": "markdown",
   "id": "d318d742",
   "metadata": {},
   "source": [
    "These similarities demonstrate how GloVe captures semantic relationships. Notice how related word pairs (like 'ice-water' and 'water-steam') have higher similarities than less related pairs (like 'ice-steam').\n",
    "\n",
    "Let's also look at how GloVe handles analogies:"
   ]
  },
  {
   "cell_type": "code",
   "execution_count": 2,
   "id": "d5b2b566",
   "metadata": {},
   "outputs": [
    {
     "name": "stdout",
     "output_type": "stream",
     "text": [
      "Testing analogies in GloVe:\n",
      "king : man :: queen : woman\n",
      "Expected: woman, Confidence: 0.818\n",
      "\n",
      "paris : france :: london : britain\n",
      "Expected: england, Confidence: 0.892\n",
      "\n",
      "walk : walked :: run : went\n",
      "Expected: ran, Confidence: 0.714\n",
      "\n"
     ]
    }
   ],
   "source": [
    "# Demonstrate analogies\n",
    "analogies = [\n",
    "    ('king', 'man', 'queen', 'woman'),  # gender relationship\n",
    "    ('paris', 'france', 'london', 'england'),  # capital-country\n",
    "    ('walk', 'walked', 'run', 'ran')  # verb tense\n",
    "]\n",
    "\n",
    "def test_analogy(model, word1, word2, word3, expected):\n",
    "    result = model.most_similar(\n",
    "        positive=[word3, word2],\n",
    "        negative=[word1],\n",
    "        topn=1\n",
    "    )[0]\n",
    "    print(f\"{word1} : {word2} :: {word3} : {result[0]}\")\n",
    "    print(f\"Expected: {expected}, Confidence: {result[1]:.3f}\\n\")\n",
    "\n",
    "print(\"Testing analogies in GloVe:\")\n",
    "for w1, w2, w3, w4 in analogies:\n",
    "    test_analogy(glove, w1, w2, w3, w4)"
   ]
  },
  {
   "cell_type": "markdown",
   "id": "2ea1d3b6",
   "metadata": {},
   "source": [
    "GloVe's global co-occurrence statistics allow it to perform well on analogy tasks because it captures the overall structure of the language, not just local patterns. This is particularly evident in:\n",
    "\n",
    "1. **Semantic Relationships**: GloVe can identify pairs of words that appear in similar contexts across the entire corpus\n",
    "2. **Syntactic Patterns**: It captures grammatical relationships by learning from how words are used globally\n",
    "3. **Proportional Analogies**: The famous \"king - man + woman = queen\" type relationships emerge naturally from the co-occurrence patterns\n",
    "\n",
    "The success of GloVe in these tasks demonstrates the value of its matrix factorization approach and global statistics, complementing the incremental learning strategy of Word2Vec. Both approaches have their strengths, and understanding their differences helps in choosing the right tool for specific NLP tasks.\n",
    "\n",
    "```{note}\n",
    "The ability to capture global statistics makes GloVe particularly good at analogies, but it requires more memory during training than Word2Vec because it needs to store the entire co-occurrence matrix.\n",
    "```\n",
    "\n",
    "\n",
    "\n",
    "## FastText: Understanding Parts of Words\n",
    "\n",
    "FastText took a different approach to improving word embeddings. Its key insight was that words themselves have internal structure that carries meaning. Consider how you understand a word you've never seen before, like \"unhelpfulness.\" Even if you've never encountered this exact word, you can understand it by recognizing its parts: \"un-\" (meaning not), \"help\" (the root word), and \"-fulness\" (meaning the quality of).\n",
    "\n",
    "FastText implements this insight through several key mechanisms:\n",
    "\n",
    "1. **Subword Generation**: Break words into character n-grams\n",
    "   - Example: \"where\" → \"<wh\", \"whe\", \"her\", \"ere\", \"re>\"\n",
    "   - The < and > marks show word boundaries\n",
    "\n",
    "2. **Vector Creation**:\n",
    "   - Each subword gets its own vector\n",
    "   - A word's final vector is the sum of its subword vectors\n",
    "   - This allows handling of new words!\n",
    "\n",
    "Let's see FastText in action:"
   ]
  },
  {
   "cell_type": "code",
   "execution_count": 3,
   "id": "e99739ae",
   "metadata": {},
   "outputs": [
    {
     "name": "stdout",
     "output_type": "stream",
     "text": [
      "Similar words to 'jumped' (not in training):\n",
      "[('jumping', 0.31221437454223633), ('jumps', 0.2832246422767639), ('movement', 0.1872715950012207), ('energy', 0.1629287451505661), ('is', 0.03056161105632782), ('an', 0.015581225045025349), ('the', -0.003968046512454748), ('brown', -0.0089254816994071), ('action', -0.037876226007938385), ('fox', -0.04602474719285965)]\n"
     ]
    }
   ],
   "source": [
    "from gensim.models import FastText\n",
    "\n",
    "# Train a simple FastText model\n",
    "sentences = [\n",
    "    [\"the\", \"quick\", \"brown\", \"fox\", \"jumps\"],\n",
    "    [\"jumping\", \"is\", \"an\", \"action\"],\n",
    "    [\"quick\", \"movement\", \"requires\", \"energy\"]\n",
    "]\n",
    "\n",
    "model = FastText(sentences, vector_size=100, window=3, min_count=1)\n",
    "\n",
    "# FastText can handle words not in training\n",
    "print(\"Similar words to 'jumped' (not in training):\")\n",
    "print(model.wv.most_similar('jumped'))"
   ]
  },
  {
   "cell_type": "markdown",
   "id": "6b6ac343",
   "metadata": {},
   "source": [
    "## When to Use Each Approach\n",
    "\n",
    "The choice between these models often depends on your specific needs:\n",
    "\n",
    "### GloVe is Better For:\n",
    "- Capturing broad thematic relationships\n",
    "- Working with a fixed vocabulary\n",
    "- Tasks involving analogies and word relationships\n",
    "\n",
    "### FastText Excels When:\n",
    "- You expect new or misspelled words\n",
    "- Working with morphologically rich languages\n",
    "- Handling rare words is important\n",
    "\n",
    "## Modern Impact\n",
    "\n",
    "The innovations from GloVe and FastText haven't been forgotten in modern NLP. Today's large language models like BERT and GPT incorporate insights from both approaches:\n",
    "- They use subword tokenization (like FastText)\n",
    "- Their attention mechanisms capture both local and global patterns\n",
    "- They can generate context-dependent representations\n",
    "\n",
    "The evolution from Word2Vec to GloVe to FastText shows how different perspectives on word representation have contributed to our understanding of language. Each model made unique contributions while building on previous insights, laying the groundwork for today's more sophisticated approaches.\n",
    "\n",
    "```{note}\n",
    "Think of these models as different ways of looking at the same problem:\n",
    "- Word2Vec is like learning from conversations\n",
    "- GloVe is like analyzing entire books at once\n",
    "- FastText is like understanding word roots and affixes\n",
    "```"
   ]
  }
 ],
 "metadata": {
  "jupytext": {
   "formats": "md:myst",
   "text_representation": {
    "extension": ".md",
    "format_name": "myst"
   }
  },
  "kernelspec": {
   "display_name": "Python 3",
   "language": "python",
   "name": "python3"
  },
  "language_info": {
   "codemirror_mode": {
    "name": "ipython",
    "version": 3
   },
   "file_extension": ".py",
   "mimetype": "text/x-python",
   "name": "python",
   "nbconvert_exporter": "python",
   "pygments_lexer": "ipython3",
   "version": "3.11.0"
  }
 },
 "nbformat": 4,
 "nbformat_minor": 5
}