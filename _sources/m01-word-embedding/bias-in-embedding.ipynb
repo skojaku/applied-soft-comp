{
 "cells": [
  {
   "cell_type": "markdown",
   "id": "b3c300fd",
   "metadata": {},
   "source": [
    "# Bias in Word Embeddings\n",
    "\n",
    "Word embeddings can capture and reinforce societal biases from their training data through the geometric relationships between word vectors. These relationships often reflect stereotypes about gender, race, age and other social factors. We'll examine how semantic axes help analyze gender bias in job-related terms, showing both the benefits and risks of word embeddings capturing these real-world associations {footcite}`bolukbasi2016debiasing`.\n",
    "\n",
    "SemAxis is a powerful tool to analyze gender bias in word embeddings by measuring word alignments along semantic axes {footcite}`kwak2021frameaxis`. Using antonym pairs like \"she-he\" as poles, it quantifies gender associations in words on a scale from -1 to 1, where positive values indicate feminine associations and negative values indicate masculine as ones.\n",
    "\n",
    "Let's start with a simple example of analyzing gender bias in occupations."
   ]
  },
  {
   "cell_type": "code",
   "execution_count": 1,
   "id": "5f3e0eda",
   "metadata": {},
   "outputs": [
    {
     "ename": "ImportError",
     "evalue": "cannot import name 'triu' from 'scipy.linalg' (/Users/skojaku-admin/miniforge3/envs/applsoftcomp/lib/python3.10/site-packages/scipy/linalg/__init__.py)",
     "output_type": "error",
     "traceback": [
      "\u001b[0;31m---------------------------------------------------------------------------\u001b[0m",
      "\u001b[0;31mImportError\u001b[0m                               Traceback (most recent call last)",
      "Cell \u001b[0;32mIn[1], line 2\u001b[0m\n\u001b[1;32m      1\u001b[0m \u001b[38;5;28;01mimport\u001b[39;00m \u001b[38;5;21;01mnumpy\u001b[39;00m \u001b[38;5;28;01mas\u001b[39;00m \u001b[38;5;21;01mnp\u001b[39;00m\n\u001b[0;32m----> 2\u001b[0m \u001b[38;5;28;01mfrom\u001b[39;00m \u001b[38;5;21;01mgensim\u001b[39;00m\u001b[38;5;21;01m.\u001b[39;00m\u001b[38;5;21;01mdownloader\u001b[39;00m \u001b[38;5;28;01mimport\u001b[39;00m load\n\u001b[1;32m      4\u001b[0m \u001b[38;5;66;03m# Load word vectors\u001b[39;00m\n\u001b[1;32m      5\u001b[0m vectors \u001b[38;5;241m=\u001b[39m load(\u001b[38;5;124m'\u001b[39m\u001b[38;5;124mword2vec-google-news-300\u001b[39m\u001b[38;5;124m'\u001b[39m)\n",
      "File \u001b[0;32m~/miniforge3/envs/applsoftcomp/lib/python3.10/site-packages/gensim/__init__.py:11\u001b[0m\n\u001b[1;32m      7\u001b[0m __version__ \u001b[38;5;241m=\u001b[39m \u001b[38;5;124m'\u001b[39m\u001b[38;5;124m4.3.2\u001b[39m\u001b[38;5;124m'\u001b[39m\n\u001b[1;32m      9\u001b[0m \u001b[38;5;28;01mimport\u001b[39;00m \u001b[38;5;21;01mlogging\u001b[39;00m\n\u001b[0;32m---> 11\u001b[0m \u001b[38;5;28;01mfrom\u001b[39;00m \u001b[38;5;21;01mgensim\u001b[39;00m \u001b[38;5;28;01mimport\u001b[39;00m parsing, corpora, matutils, interfaces, models, similarities, utils  \u001b[38;5;66;03m# noqa:F401\u001b[39;00m\n\u001b[1;32m     14\u001b[0m logger \u001b[38;5;241m=\u001b[39m logging\u001b[38;5;241m.\u001b[39mgetLogger(\u001b[38;5;124m'\u001b[39m\u001b[38;5;124mgensim\u001b[39m\u001b[38;5;124m'\u001b[39m)\n\u001b[1;32m     15\u001b[0m \u001b[38;5;28;01mif\u001b[39;00m \u001b[38;5;129;01mnot\u001b[39;00m logger\u001b[38;5;241m.\u001b[39mhandlers:  \u001b[38;5;66;03m# To ensure reload() doesn't add another one\u001b[39;00m\n",
      "File \u001b[0;32m~/miniforge3/envs/applsoftcomp/lib/python3.10/site-packages/gensim/corpora/__init__.py:6\u001b[0m\n\u001b[1;32m      1\u001b[0m \u001b[38;5;124;03m\"\"\"\u001b[39;00m\n\u001b[1;32m      2\u001b[0m \u001b[38;5;124;03mThis package contains implementations of various streaming corpus I/O format.\u001b[39;00m\n\u001b[1;32m      3\u001b[0m \u001b[38;5;124;03m\"\"\"\u001b[39;00m\n\u001b[1;32m      5\u001b[0m \u001b[38;5;66;03m# bring corpus classes directly into package namespace, to save some typing\u001b[39;00m\n\u001b[0;32m----> 6\u001b[0m \u001b[38;5;28;01mfrom\u001b[39;00m \u001b[38;5;21;01m.\u001b[39;00m\u001b[38;5;21;01mindexedcorpus\u001b[39;00m \u001b[38;5;28;01mimport\u001b[39;00m IndexedCorpus  \u001b[38;5;66;03m# noqa:F401 must appear before the other classes\u001b[39;00m\n\u001b[1;32m      8\u001b[0m \u001b[38;5;28;01mfrom\u001b[39;00m \u001b[38;5;21;01m.\u001b[39;00m\u001b[38;5;21;01mmmcorpus\u001b[39;00m \u001b[38;5;28;01mimport\u001b[39;00m MmCorpus  \u001b[38;5;66;03m# noqa:F401\u001b[39;00m\n\u001b[1;32m      9\u001b[0m \u001b[38;5;28;01mfrom\u001b[39;00m \u001b[38;5;21;01m.\u001b[39;00m\u001b[38;5;21;01mbleicorpus\u001b[39;00m \u001b[38;5;28;01mimport\u001b[39;00m BleiCorpus  \u001b[38;5;66;03m# noqa:F401\u001b[39;00m\n",
      "File \u001b[0;32m~/miniforge3/envs/applsoftcomp/lib/python3.10/site-packages/gensim/corpora/indexedcorpus.py:14\u001b[0m\n\u001b[1;32m     10\u001b[0m \u001b[38;5;28;01mimport\u001b[39;00m \u001b[38;5;21;01mlogging\u001b[39;00m\n\u001b[1;32m     12\u001b[0m \u001b[38;5;28;01mimport\u001b[39;00m \u001b[38;5;21;01mnumpy\u001b[39;00m\n\u001b[0;32m---> 14\u001b[0m \u001b[38;5;28;01mfrom\u001b[39;00m \u001b[38;5;21;01mgensim\u001b[39;00m \u001b[38;5;28;01mimport\u001b[39;00m interfaces, utils\n\u001b[1;32m     16\u001b[0m logger \u001b[38;5;241m=\u001b[39m logging\u001b[38;5;241m.\u001b[39mgetLogger(\u001b[38;5;18m__name__\u001b[39m)\n\u001b[1;32m     19\u001b[0m \u001b[38;5;28;01mclass\u001b[39;00m \u001b[38;5;21;01mIndexedCorpus\u001b[39;00m(interfaces\u001b[38;5;241m.\u001b[39mCorpusABC):\n",
      "File \u001b[0;32m~/miniforge3/envs/applsoftcomp/lib/python3.10/site-packages/gensim/interfaces.py:19\u001b[0m\n\u001b[1;32m      7\u001b[0m \u001b[38;5;124;03m\"\"\"Basic interfaces used across the whole Gensim package.\u001b[39;00m\n\u001b[1;32m      8\u001b[0m \n\u001b[1;32m      9\u001b[0m \u001b[38;5;124;03mThese interfaces are used for building corpora, model transformation and similarity queries.\u001b[39;00m\n\u001b[0;32m   (...)\u001b[0m\n\u001b[1;32m     14\u001b[0m \n\u001b[1;32m     15\u001b[0m \u001b[38;5;124;03m\"\"\"\u001b[39;00m\n\u001b[1;32m     17\u001b[0m \u001b[38;5;28;01mimport\u001b[39;00m \u001b[38;5;21;01mlogging\u001b[39;00m\n\u001b[0;32m---> 19\u001b[0m \u001b[38;5;28;01mfrom\u001b[39;00m \u001b[38;5;21;01mgensim\u001b[39;00m \u001b[38;5;28;01mimport\u001b[39;00m utils, matutils\n\u001b[1;32m     22\u001b[0m logger \u001b[38;5;241m=\u001b[39m logging\u001b[38;5;241m.\u001b[39mgetLogger(\u001b[38;5;18m__name__\u001b[39m)\n\u001b[1;32m     25\u001b[0m \u001b[38;5;28;01mclass\u001b[39;00m \u001b[38;5;21;01mCorpusABC\u001b[39;00m(utils\u001b[38;5;241m.\u001b[39mSaveLoad):\n",
      "File \u001b[0;32m~/miniforge3/envs/applsoftcomp/lib/python3.10/site-packages/gensim/matutils.py:20\u001b[0m\n\u001b[1;32m     18\u001b[0m \u001b[38;5;28;01mimport\u001b[39;00m \u001b[38;5;21;01mscipy\u001b[39;00m\u001b[38;5;21;01m.\u001b[39;00m\u001b[38;5;21;01msparse\u001b[39;00m\n\u001b[1;32m     19\u001b[0m \u001b[38;5;28;01mfrom\u001b[39;00m \u001b[38;5;21;01mscipy\u001b[39;00m\u001b[38;5;21;01m.\u001b[39;00m\u001b[38;5;21;01mstats\u001b[39;00m \u001b[38;5;28;01mimport\u001b[39;00m entropy\n\u001b[0;32m---> 20\u001b[0m \u001b[38;5;28;01mfrom\u001b[39;00m \u001b[38;5;21;01mscipy\u001b[39;00m\u001b[38;5;21;01m.\u001b[39;00m\u001b[38;5;21;01mlinalg\u001b[39;00m \u001b[38;5;28;01mimport\u001b[39;00m get_blas_funcs, triu\n\u001b[1;32m     21\u001b[0m \u001b[38;5;28;01mfrom\u001b[39;00m \u001b[38;5;21;01mscipy\u001b[39;00m\u001b[38;5;21;01m.\u001b[39;00m\u001b[38;5;21;01mlinalg\u001b[39;00m\u001b[38;5;21;01m.\u001b[39;00m\u001b[38;5;21;01mlapack\u001b[39;00m \u001b[38;5;28;01mimport\u001b[39;00m get_lapack_funcs\n\u001b[1;32m     22\u001b[0m \u001b[38;5;28;01mfrom\u001b[39;00m \u001b[38;5;21;01mscipy\u001b[39;00m\u001b[38;5;21;01m.\u001b[39;00m\u001b[38;5;21;01mspecial\u001b[39;00m \u001b[38;5;28;01mimport\u001b[39;00m psi  \u001b[38;5;66;03m# gamma function utils\u001b[39;00m\n",
      "\u001b[0;31mImportError\u001b[0m: cannot import name 'triu' from 'scipy.linalg' (/Users/skojaku-admin/miniforge3/envs/applsoftcomp/lib/python3.10/site-packages/scipy/linalg/__init__.py)"
     ]
    }
   ],
   "source": [
    "import numpy as np\n",
    "from gensim.downloader import load\n",
    "\n",
    "# Load word vectors\n",
    "vectors = load('word2vec-google-news-300')\n",
    "\n",
    "def compute_bias(word, microframe):\n",
    "    word_vector = vectors[word]\n",
    "    return np.dot(word_vector, microframe) / (\n",
    "        np.linalg.norm(word_vector) * np.linalg.norm(microframe)\n",
    "    )\n",
    "\n",
    "def analyze(word, pos_word, neg_word):\n",
    "    if word not in vectors:\n",
    "        return 0.0\n",
    "    microframe = vectors[pos_word] - vectors[neg_word]\n",
    "    bias = compute_bias(word, microframe)\n",
    "    return bias"
   ]
  },
  {
   "cell_type": "markdown",
   "id": "972b26f6",
   "metadata": {},
   "source": [
    "We will use the following occupations:"
   ]
  },
  {
   "cell_type": "code",
   "execution_count": null,
   "id": "9b49756b",
   "metadata": {},
   "outputs": [],
   "source": [
    "# Occupations from the paper\n",
    "she_occupations = [\n",
    "    \"homemaker\", \"nurse\", \"receptionist\", \"librarian\", \"socialite\",\n",
    "    \"hairdresser\", \"nanny\", \"bookkeeper\", \"stylist\", \"housekeeper\",\n",
    "]\n",
    "\n",
    "he_occupations = [\n",
    "    \"maestro\", \"skipper\", \"protege\", \"philosopher\", \"captain\",\n",
    "    \"architect\", \"financier\", \"warrior\", \"broadcaster\", \"magician\",\n",
    "    \"boss\"\n",
    "]"
   ]
  },
  {
   "cell_type": "markdown",
   "id": "ecdc1e04",
   "metadata": {},
   "source": [
    "We measure the gender bias in these occupations by measuring how they align with the \"she-he\" axis."
   ]
  },
  {
   "cell_type": "code",
   "execution_count": null,
   "id": "20da0e86",
   "metadata": {},
   "outputs": [],
   "source": [
    "# Analyze gender bias in occupations\n",
    "print(\"Gender Bias in Occupations (she-he axis):\")\n",
    "print(\"\\nShe-associated occupations:\")\n",
    "for occupation in she_occupations:\n",
    "    bias = analyze(occupation, \"she\", \"he\")\n",
    "    print(f\"{occupation}: {bias:.3f}\")\n",
    "\n",
    "print(\"\\nHe-associated occupations:\")\n",
    "for occupation in he_occupations:\n",
    "    bias = analyze(occupation, \"she\", \"he\")\n",
    "    print(f\"{occupation}: {bias:.3f}\")"
   ]
  },
  {
   "cell_type": "markdown",
   "id": "12f4ee50",
   "metadata": {},
   "source": [
    "## Stereotype Analogies\n",
    "\n",
    "Since word embeddings capture semantic relationships learned from large text corpora, they inevitably encode societal biases and stereotypes present in that training data. We can leverage this property to identify pairs of words that exhibit stereotypical gender associations. By measuring how different words align with the gender axis (she-he), we can find pairs where one word shows a strong feminine bias while its counterpart shows a masculine bias, revealing ingrained stereotypes in language use."
   ]
  },
  {
   "cell_type": "code",
   "execution_count": null,
   "id": "6f7073db",
   "metadata": {},
   "outputs": [],
   "source": [
    "# Stereotype analogies from the paper\n",
    "stereotype_pairs = [\n",
    "    (\"sewing\", \"carpentry\"),\n",
    "    (\"nurse\", \"surgeon\"),\n",
    "    (\"softball\", \"baseball\"),\n",
    "    (\"cosmetics\", \"pharmaceuticals\"),\n",
    "    (\"vocalist\", \"guitarist\")\n",
    "]\n",
    "\n",
    "print(\"\\nAnalyzing Gender Stereotype Pairs:\")\n",
    "for word1, word2 in stereotype_pairs:\n",
    "    bias1 = analyze(word1, \"she\", \"he\")\n",
    "    bias2 = analyze(word2, \"she\", \"he\")\n",
    "    print(f\"\\n{word1} vs {word2}\")\n",
    "    print(f\"{word1}: {bias1:.3f}\")\n",
    "    print(f\"{word2}: {bias2:.3f}\")"
   ]
  },
  {
   "cell_type": "markdown",
   "id": "49d67ab0",
   "metadata": {},
   "source": [
    "## Indirect Bias Analysis\n",
    "\n",
    "Indirect bias occurs when seemingly neutral words or concepts become associated with gender through their relationships with other words. For example, while \"softball\" and \"football\" are not inherently gendered terms, they may show gender associations in word embeddings due to how they're used in language and society.\n",
    "\n",
    "We can detect indirect bias by:\n",
    "1. Identifying word pairs that form a semantic axis (e.g., softball-football)\n",
    "2. Measuring how other words align with this axis\n",
    "3. Examining if alignment with this axis correlates with gender bias\n",
    "\n",
    "This reveals how gender stereotypes can be encoded indirectly through word associations, even when the words themselves don't explicitly reference gender.\n",
    "\n",
    "Let's see how this works in practice. We first measure the gender bias of the following words:"
   ]
  },
  {
   "cell_type": "code",
   "execution_count": null,
   "id": "093e2008",
   "metadata": {},
   "outputs": [],
   "source": [
    "# Words associated with softball-football axis\n",
    "softball_associations = [\n",
    "    \"pitcher\", \"bookkeeper\", \"receptionist\",\n",
    "    \"nurse\", \"waitress\"\n",
    "]\n",
    "\n",
    "football_associations = [\n",
    "    \"footballer\", \"businessman\", \"pundit\",\n",
    "    \"maestro\", \"cleric\"\n",
    "]\n",
    "\n",
    "# Analyze bias along both gender and sports axes\n",
    "import matplotlib.pyplot as plt\n",
    "\n",
    "# Calculate biases for all words\n",
    "gender_biases = []\n",
    "sports_biases = []\n",
    "words = softball_associations + football_associations\n",
    "\n",
    "for word in words:\n",
    "    gender_bias = analyze(word, \"she\", \"he\")\n",
    "    sports_bias = analyze(word, \"softball\", \"football\")\n",
    "    gender_biases.append(gender_bias)\n",
    "    sports_biases.append(sports_bias)"
   ]
  },
  {
   "cell_type": "markdown",
   "id": "82693dee",
   "metadata": {},
   "source": [
    "Let's plot the results:"
   ]
  },
  {
   "cell_type": "code",
   "execution_count": null,
   "id": "bc37329a",
   "metadata": {},
   "outputs": [],
   "source": [
    "# Create scatter plot\n",
    "plt.figure(figsize=(10, 6))\n",
    "plt.scatter(gender_biases, sports_biases)\n",
    "\n",
    "# Add labels for each point\n",
    "for i, word in enumerate(words):\n",
    "    plt.annotate(word, (gender_biases[i], sports_biases[i]))\n",
    "\n",
    "plt.axhline(y=0, color='k', linestyle='-', alpha=0.3)\n",
    "plt.axvline(x=0, color='k', linestyle='-', alpha=0.3)\n",
    "\n",
    "plt.xlabel('Gender Bias (she-he)')\n",
    "plt.ylabel('Sports Bias (softball-football)')\n",
    "plt.title('Indirect Bias Analysis: Gender vs Sports')\n",
    "\n",
    "# Add grid for better readability\n",
    "plt.grid(True, alpha=0.3)\n",
    "plt.show()\n",
    "\n",
    "# Print numerical results\n",
    "print(\"\\nIndirect Bias Analysis (Numerical Results):\")\n",
    "for i, word in enumerate(words):\n",
    "    print(f\"\\n{word}:\")\n",
    "    print(f\"Gender bias: {gender_biases[i]:.3f}\")\n",
    "    print(f\"Sports bias: {sports_biases[i]:.3f}\")\n"
   ]
  },
  {
   "cell_type": "markdown",
   "id": "0732b031",
   "metadata": {},
   "source": [
    "### Exercise\n",
    "\n",
    "1. **Stereotype Analysis**\n",
    "   - Question: Which analogies reveal societal stereotypes?\n",
    "   - Task: Create new analogy pairs and validate them against human judgments\n",
    "   - Analysis: Compare stereotypical vs. definitional gender associations\n",
    "\n",
    "2. **Indirect Bias Discovery**\n",
    "   - Question: How do seemingly neutral word pairs encode gender bias?\n",
    "   - Task: Find new word pairs like softball-football that show indirect bias\n",
    "   - Analysis: Measure correlation between direct and indirect bias\n",
    "\n",
    "```{footbibliography}\n",
    "```"
   ]
  }
 ],
 "metadata": {
  "jupytext": {
   "formats": "md:myst",
   "text_representation": {
    "extension": ".md",
    "format_name": "myst"
   }
  },
  "kernelspec": {
   "display_name": "Python 3",
   "language": "python",
   "name": "python3"
  },
  "language_info": {
   "codemirror_mode": {
    "name": "ipython",
    "version": 3
   },
   "file_extension": ".py",
   "mimetype": "text/x-python",
   "name": "python",
   "nbconvert_exporter": "python",
   "pygments_lexer": "ipython3",
   "version": "3.10.9"
  }
 },
 "nbformat": 4,
 "nbformat_minor": 5
}