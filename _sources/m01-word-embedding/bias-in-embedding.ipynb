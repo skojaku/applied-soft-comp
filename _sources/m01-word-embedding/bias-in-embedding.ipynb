{
 "cells": [
  {
   "cell_type": "markdown",
   "id": "bd565b1a",
   "metadata": {},
   "source": [
    "# Bias in Word Embeddings\n",
    "\n",
    "Word embeddings can capture and reinforce societal biases from their training data through the geometric relationships between word vectors. These relationships often reflect stereotypes about gender, race, age and other social factors. We'll examine how semantic axes help analyze gender bias in job-related terms, showing both the benefits and risks of word embeddings capturing these real-world associations {footcite}`bolukbasi2016debiasing`.\n",
    "\n",
    "SemAxis is a powerful tool to analyze gender bias in word embeddings by measuring word alignments along semantic axes {footcite}`kwak2021frameaxis`. Using antonym pairs like \"she-he\" as poles, it quantifies gender associations in words on a scale from -1 to 1, where positive values indicate feminine associations and negative values indicate masculine as ones.\n",
    "\n",
    "Let's start with a simple example of analyzing gender bias in occupations."
   ]
  },
  {
   "cell_type": "code",
   "execution_count": 1,
   "id": "17d54ce2",
   "metadata": {},
   "outputs": [],
   "source": [
    "import numpy as np\n",
    "from gensim.downloader import load\n",
    "\n",
    "# Load word vectors\n",
    "vectors = load('word2vec-google-news-300')\n",
    "\n",
    "def compute_bias(word, microframe):\n",
    "    word_vector = vectors[word]\n",
    "    return np.dot(word_vector, microframe) / (\n",
    "        np.linalg.norm(word_vector) * np.linalg.norm(microframe)\n",
    "    )\n",
    "\n",
    "def analyze(word, pos_word, neg_word):\n",
    "    if word not in vectors:\n",
    "        return 0.0\n",
    "    microframe = vectors[pos_word] - vectors[neg_word]\n",
    "    bias = compute_bias(word, microframe)\n",
    "    return bias"
   ]
  },
  {
   "cell_type": "markdown",
   "id": "e4c34a0d",
   "metadata": {},
   "source": [
    "We will use the following occupations:"
   ]
  },
  {
   "cell_type": "code",
   "execution_count": 2,
   "id": "9eb2ebea",
   "metadata": {},
   "outputs": [],
   "source": [
    "# Occupations from the paper\n",
    "she_occupations = [\n",
    "    \"homemaker\", \"nurse\", \"receptionist\", \"librarian\", \"socialite\",\n",
    "    \"hairdresser\", \"nanny\", \"bookkeeper\", \"stylist\", \"housekeeper\",\n",
    "]\n",
    "\n",
    "he_occupations = [\n",
    "    \"maestro\", \"skipper\", \"protege\", \"philosopher\", \"captain\",\n",
    "    \"architect\", \"financier\", \"warrior\", \"broadcaster\", \"magician\",\n",
    "    \"boss\"\n",
    "]"
   ]
  },
  {
   "cell_type": "markdown",
   "id": "9c24d44e",
   "metadata": {},
   "source": [
    "We measure the gender bias in these occupations by measuring how they align with the \"she-he\" axis."
   ]
  },
  {
   "cell_type": "code",
   "execution_count": 3,
   "id": "74e9f1c6",
   "metadata": {},
   "outputs": [
    {
     "name": "stdout",
     "output_type": "stream",
     "text": [
      "Gender Bias in Occupations (she-he axis):\n",
      "\n",
      "She-associated occupations:\n",
      "homemaker: 0.360\n",
      "nurse: 0.333\n",
      "receptionist: 0.329\n",
      "librarian: 0.300\n",
      "socialite: 0.310\n",
      "hairdresser: 0.307\n",
      "nanny: 0.287\n",
      "bookkeeper: 0.264\n",
      "stylist: 0.252\n",
      "housekeeper: 0.260\n",
      "\n",
      "He-associated occupations:\n",
      "maestro: -0.203\n",
      "skipper: -0.177\n",
      "protege: -0.148\n",
      "philosopher: -0.155\n",
      "captain: -0.130\n",
      "architect: -0.151\n",
      "financier: -0.145\n",
      "warrior: -0.120\n",
      "broadcaster: -0.124\n",
      "magician: -0.110\n",
      "boss: -0.090\n"
     ]
    }
   ],
   "source": [
    "# Analyze gender bias in occupations\n",
    "print(\"Gender Bias in Occupations (she-he axis):\")\n",
    "print(\"\\nShe-associated occupations:\")\n",
    "for occupation in she_occupations:\n",
    "    bias = analyze(occupation, \"she\", \"he\")\n",
    "    print(f\"{occupation}: {bias:.3f}\")\n",
    "\n",
    "print(\"\\nHe-associated occupations:\")\n",
    "for occupation in he_occupations:\n",
    "    bias = analyze(occupation, \"she\", \"he\")\n",
    "    print(f\"{occupation}: {bias:.3f}\")"
   ]
  },
  {
   "cell_type": "markdown",
   "id": "a2aa6e2f",
   "metadata": {},
   "source": [
    "## Stereotype Analogies\n",
    "\n",
    "Since word embeddings capture semantic relationships learned from large text corpora, they inevitably encode societal biases and stereotypes present in that training data. We can leverage this property to identify pairs of words that exhibit stereotypical gender associations. By measuring how different words align with the gender axis (she-he), we can find pairs where one word shows a strong feminine bias while its counterpart shows a masculine bias, revealing ingrained stereotypes in language use."
   ]
  },
  {
   "cell_type": "code",
   "execution_count": 4,
   "id": "8da9e12c",
   "metadata": {},
   "outputs": [
    {
     "name": "stdout",
     "output_type": "stream",
     "text": [
      "\n",
      "Analyzing Gender Stereotype Pairs:\n",
      "\n",
      "sewing vs carpentry\n",
      "sewing: 0.302\n",
      "carpentry: -0.028\n",
      "\n",
      "nurse vs surgeon\n",
      "nurse: 0.333\n",
      "surgeon: -0.048\n",
      "\n",
      "softball vs baseball\n",
      "softball: 0.260\n",
      "baseball: -0.066\n",
      "\n",
      "cosmetics vs pharmaceuticals\n",
      "cosmetics: 0.331\n",
      "pharmaceuticals: -0.011\n",
      "\n",
      "vocalist vs guitarist\n",
      "vocalist: 0.140\n",
      "guitarist: -0.041\n"
     ]
    }
   ],
   "source": [
    "# Stereotype analogies from the paper\n",
    "stereotype_pairs = [\n",
    "    (\"sewing\", \"carpentry\"),\n",
    "    (\"nurse\", \"surgeon\"),\n",
    "    (\"softball\", \"baseball\"),\n",
    "    (\"cosmetics\", \"pharmaceuticals\"),\n",
    "    (\"vocalist\", \"guitarist\")\n",
    "]\n",
    "\n",
    "print(\"\\nAnalyzing Gender Stereotype Pairs:\")\n",
    "for word1, word2 in stereotype_pairs:\n",
    "    bias1 = analyze(word1, \"she\", \"he\")\n",
    "    bias2 = analyze(word2, \"she\", \"he\")\n",
    "    print(f\"\\n{word1} vs {word2}\")\n",
    "    print(f\"{word1}: {bias1:.3f}\")\n",
    "    print(f\"{word2}: {bias2:.3f}\")"
   ]
  },
  {
   "cell_type": "markdown",
   "id": "f56015da",
   "metadata": {},
   "source": [
    "## Indirect Bias Analysis\n",
    "\n",
    "Indirect bias occurs when seemingly neutral words or concepts become associated with gender through their relationships with other words. For example, while \"softball\" and \"football\" are not inherently gendered terms, they may show gender associations in word embeddings due to how they're used in language and society.\n",
    "\n",
    "We can detect indirect bias by:\n",
    "1. Identifying word pairs that form a semantic axis (e.g., softball-football)\n",
    "2. Measuring how other words align with this axis\n",
    "3. Examining if alignment with this axis correlates with gender bias\n",
    "\n",
    "This reveals how gender stereotypes can be encoded indirectly through word associations, even when the words themselves don't explicitly reference gender.\n",
    "\n",
    "Let's see how this works in practice. We first measure the gender bias of the following words:"
   ]
  },
  {
   "cell_type": "code",
   "execution_count": 5,
   "id": "4608d61b",
   "metadata": {},
   "outputs": [],
   "source": [
    "# Words associated with softball-football axis\n",
    "softball_associations = [\n",
    "    \"pitcher\", \"bookkeeper\", \"receptionist\",\n",
    "    \"nurse\", \"waitress\"\n",
    "]\n",
    "\n",
    "football_associations = [\n",
    "    \"footballer\", \"businessman\", \"pundit\",\n",
    "    \"maestro\", \"cleric\"\n",
    "]\n",
    "\n",
    "# Analyze bias along both gender and sports axes\n",
    "import matplotlib.pyplot as plt\n",
    "\n",
    "# Calculate biases for all words\n",
    "gender_biases = []\n",
    "sports_biases = []\n",
    "words = softball_associations + football_associations\n",
    "\n",
    "for word in words:\n",
    "    gender_bias = analyze(word, \"she\", \"he\")\n",
    "    sports_bias = analyze(word, \"softball\", \"football\")\n",
    "    gender_biases.append(gender_bias)\n",
    "    sports_biases.append(sports_bias)"
   ]
  },
  {
   "cell_type": "markdown",
   "id": "b4bb3e32",
   "metadata": {},
   "source": [
    "Let's plot the results:"
   ]
  },
  {
   "cell_type": "code",
   "execution_count": 6,
   "id": "bd7b7e43",
   "metadata": {},
   "outputs": [
    {
     "data": {
      "image/png": "[encoded data removed]",
      "text/plain": [
       "<Figure size 1000x600 with 1 Axes>"
      ]
     },
     "metadata": {},
     "output_type": "display_data"
    },
    {
     "name": "stdout",
     "output_type": "stream",
     "text": [
      "\n",
      "Indirect Bias Analysis (Numerical Results):\n",
      "\n",
      "pitcher:\n",
      "Gender bias: 0.075\n",
      "Sports bias: 0.270\n",
      "\n",
      "bookkeeper:\n",
      "Gender bias: 0.264\n",
      "Sports bias: 0.195\n",
      "\n",
      "receptionist:\n",
      "Gender bias: 0.329\n",
      "Sports bias: 0.159\n",
      "\n",
      "nurse:\n",
      "Gender bias: 0.333\n",
      "Sports bias: 0.079\n",
      "\n",
      "waitress:\n",
      "Gender bias: 0.342\n",
      "Sports bias: 0.163\n",
      "\n",
      "footballer:\n",
      "Gender bias: -0.049\n",
      "Sports bias: -0.275\n",
      "\n",
      "businessman:\n",
      "Gender bias: -0.166\n",
      "Sports bias: -0.174\n",
      "\n",
      "pundit:\n",
      "Gender bias: -0.097\n",
      "Sports bias: -0.170\n",
      "\n",
      "maestro:\n",
      "Gender bias: -0.203\n",
      "Sports bias: -0.175\n",
      "\n",
      "cleric:\n",
      "Gender bias: -0.016\n",
      "Sports bias: -0.147\n"
     ]
    }
   ],
   "source": [
    "# Create scatter plot\n",
    "plt.figure(figsize=(10, 6))\n",
    "plt.scatter(gender_biases, sports_biases)\n",
    "\n",
    "# Add labels for each point\n",
    "for i, word in enumerate(words):\n",
    "    plt.annotate(word, (gender_biases[i], sports_biases[i]))\n",
    "\n",
    "plt.axhline(y=0, color='k', linestyle='-', alpha=0.3)\n",
    "plt.axvline(x=0, color='k', linestyle='-', alpha=0.3)\n",
    "\n",
    "plt.xlabel('Gender Bias (she-he)')\n",
    "plt.ylabel('Sports Bias (softball-football)')\n",
    "plt.title('Indirect Bias Analysis: Gender vs Sports')\n",
    "\n",
    "# Add grid for better readability\n",
    "plt.grid(True, alpha=0.3)\n",
    "plt.show()\n",
    "\n",
    "# Print numerical results\n",
    "print(\"\\nIndirect Bias Analysis (Numerical Results):\")\n",
    "for i, word in enumerate(words):\n",
    "    print(f\"\\n{word}:\")\n",
    "    print(f\"Gender bias: {gender_biases[i]:.3f}\")\n",
    "    print(f\"Sports bias: {sports_biases[i]:.3f}\")\n"
   ]
  },
  {
   "cell_type": "markdown",
   "id": "21335564",
   "metadata": {},
   "source": [
    "### Exercise\n",
    "\n",
    "1. **Stereotype Analysis**\n",
    "   - Question: Which analogies reveal societal stereotypes?\n",
    "   - Task: Create new analogy pairs and validate them against human judgments\n",
    "   - Analysis: Compare stereotypical vs. definitional gender associations\n",
    "\n",
    "2. **Indirect Bias Discovery**\n",
    "   - Question: How do seemingly neutral word pairs encode gender bias?\n",
    "   - Task: Find new word pairs like softball-football that show indirect bias\n",
    "   - Analysis: Measure correlation between direct and indirect bias\n",
    "\n",
    "```{footbibliography}\n",
    "```"
   ]
  }
 ],
 "metadata": {
  "jupytext": {
   "formats": "md:myst",
   "text_representation": {
    "extension": ".md",
    "format_name": "myst"
   }
  },
  "kernelspec": {
   "display_name": "Python 3",
   "language": "python",
   "name": "python3"
  },
  "language_info": {
   "codemirror_mode": {
    "name": "ipython",
    "version": 3
   },
   "file_extension": ".py",
   "mimetype": "text/x-python",
   "name": "python",
   "nbconvert_exporter": "python",
   "pygments_lexer": "ipython3",
   "version": "3.11.0"
  }
 },
 "nbformat": 4,
 "nbformat_minor": 5
}