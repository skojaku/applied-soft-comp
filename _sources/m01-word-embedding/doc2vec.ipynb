{
 "cells": [
  {
   "cell_type": "markdown",
   "id": "819aa191",
   "metadata": {},
   "source": [
    "# Doc2Vec: From Words to Documents\n",
    "\n",
    "## Doc2Vec Model\n",
    "\n",
    "\n",
    "Doc2Vec {footcite}`le2014distributed` extends word2vec by learning document vectors alongside word vectors. For a document $d$ with words $w_1, w_2, ..., w_n$, it learns:\n",
    "- Document vector $v_d \\in \\mathbb{R}^m$\n",
    "- Word vectors $v_w \\in \\mathbb{R}^m$\n",
    "\n",
    "There are two types of Doc2Vec:\n",
    "- Distributed Memory (PV-DM)\n",
    "- Distributed Bag of Words (PV-DBOW)\n",
    "\n",
    "where PV-DM corresponds to the CBOW model, and PV-DBOW corresponds to the Skip-Gram model of word2vec.\n",
    "\n",
    "```{note}\n",
    "See [the lecture note of word2vec](../m01-word-embedding/word2vec.md) for more details on CBOW and Skip-Gram.\n",
    "```\n",
    "\n",
    "### Distributed Memory (PV-DM)\n",
    "\n",
    "```{figure} https://miro.medium.com/v2/resize:fit:1400/format:webp/1*JPetbQHmG0NAbdQ08JSiMQ.png\n",
    ":name: pv-dm\n",
    ":alt: PV-DM\n",
    ":width: 500px\n",
    ":align: center\n",
    "\n",
    "PV-DM predicts the center word based on the *average* or *concatenated* vector of the context words. Image taken from https://heartbeat.comet.ml/getting-started-with-doc2vec-2645e3e9f137\n",
    "```\n",
    "\n",
    "CBOW word2vec predicts the center word based on the *average* or *concatenated* vector of the context words.\n",
    "In PV-DM, the document vector is added to the average or concatenation.\n",
    "More specifically, the probability of a word $w_i$ given the document $d$ and the context $w_{i-k},...,w_{i-1}$ is given by:\n",
    "\n",
    "$$P(w_i|w_{i-k},...,w_{i-1},d) = \\frac{\\exp(u_{w_i}^T h)}{\\sum_{w \\in V} \\exp(u_w^T h)}$$\n",
    "\n",
    "where $h$ is the context vector, which is either the average:\n",
    "\n",
    "$$\n",
    "h = \\frac{1}{k\\textcolor{red}{+1}}\\left(\\textcolor{red}{v_d} + \\sum_{j=i-k}^{i-1}v_{w_j}\\right)\n",
    "$$\n",
    "\n",
    "or the concatenation:\n",
    "\n",
    "$$\n",
    "h = \\left(v_d, \\sum_{j=i-k}^{i-1}v_{w_j}\\right) U, \\quad U \\in \\mathbb{R}^{(d+kd) \\times d}\n",
    "$$\n",
    "\n",
    "where $U$ is a matrix that maps the concatenated vector (of dimension $d+kd$) back to dimension $d$ to match the word vector space. Here, $d$ is the embedding dimension and $k$ is the context window size.\n",
    "\n",
    "```{note}\n",
    "The choice between concatenation and average affects how the document and context vectors are combined:\n",
    "- **Average**: Treats document vector and context word vectors equally by taking their mean. This is simpler but may neglect the influence of individual context words. No additional parameters needed, making it computationally efficient.\n",
    "- **Concatenation**: Keeps document and context information separate before combining through the U matrix. This preserves more distinct information but requires learning additional parameters (the U matrix). Though more computationally intensive, it allows the model to learn different weights for document and word contexts.\n",
    "The original paper used concatenation, arguing it allows the model to treat document and word vectors differently.\n",
    "\n",
    "```\n",
    "\n",
    "```{warning}\n",
    "The softmax computation over the entire vocabulary V can be computationally expensive for large vocabularies. In practice, optimization techniques like negative sampling or hierarchical softmax are commonly used to approximate this computation more efficiently.\n",
    "```\n",
    "\n",
    "### Distributed Bag of Words (PV-DBOW)\n",
    "\n",
    "```{figure} https://miro.medium.com/v2/resize:fit:1400/1*ALpuAo7uv0V8PlrVgSzMsg.png\n",
    ":name: pv-dbow\n",
    ":alt: PV-DBOW\n",
    ":width: 500px\n",
    ":align: center\n",
    "\n",
    "PV-DBOW predicts context words using only the document vector, similar to Skip-Gram predicting context words from a center word. Image taken from https://heartbeat.comet.ml/getting-started-with-doc2vec-2645e3e9f137\n",
    "\n",
    "```\n",
    "\n",
    "PV-DBOW is similar to Skip-Gram. The probability of a word $w_i$ given the document $d$ is given by:\n",
    "\n",
    "$$P(w_i|d) = \\frac{\\exp(u_{w_i}^T v_d)}{\\sum_{w \\in V} \\exp(u_w^T v_d)}$$\n",
    "\n",
    "This is analogous to the skip-gram model, where the document vector $v_d$ is used to predict the context words.\n",
    "\n",
    "\n",
    "```{note}\n",
    "Which mode, PV-DM or PV-DBOW, is better? The original paper {footcite}`le2014distributed` suggests that PV-DM is better, since it can distinguish the order of words within a document.\n",
    "Yet, {footcite}`le2016empirical` found that PV-DBOW, despite being more simple, is better overall for document similarity tasks, when properly tuned. This highlights the importance of hyperparameter optimization in practice.\n",
    "\n",
    "Key considerations for choosing between PV-DM and PV-DBOW:\n",
    "- PV-DM: Better for tasks requiring word order sensitivity\n",
    "- PV-DBOW: More efficient training, often better for similarity tasks\n",
    "- Hybrid approach: Some implementations combine both methods\n",
    "```\n",
    "\n",
    "## Hands-on Implementation\n",
    "\n",
    "Let us have a hands-on implementation of Doc2Vec using the `gensim` library.\n",
    "Our sample documents are:"
   ]
  },
  {
   "cell_type": "code",
   "execution_count": 1,
   "id": "88fad7c3",
   "metadata": {},
   "outputs": [],
   "source": [
    "# Sample documents\n",
    "documents = [\n",
    "    \"Machine learning is a subset of artificial intelligence\",\n",
    "    \"Deep learning uses neural networks with multiple layers\",\n",
    "    \"Natural language processing deals with text and speech\",\n",
    "    \"Computer vision focuses on image and video analysis\",\n",
    "    \"Reinforcement learning involves agents making decisions\"\n",
    "]"
   ]
  },
  {
   "cell_type": "markdown",
   "id": "6e492e93",
   "metadata": {},
   "source": [
    "We will first import the necessary libraries."
   ]
  },
  {
   "cell_type": "code",
   "execution_count": 2,
   "id": "89206ee4",
   "metadata": {},
   "outputs": [],
   "source": [
    "from gensim.models.doc2vec import Doc2Vec, TaggedDocument\n",
    "from nltk.tokenize import word_tokenize"
   ]
  },
  {
   "cell_type": "markdown",
   "id": "791556b1",
   "metadata": {},
   "source": [
    "In gensim doc2vec, we need to prepare the documents in the form of `TaggedDocument`."
   ]
  },
  {
   "cell_type": "code",
   "execution_count": 3,
   "id": "7ad9c71b",
   "metadata": {},
   "outputs": [],
   "source": [
    "# Prepare documents\n",
    "tagged_docs = []\n",
    "for i, doc in enumerate(documents):\n",
    "    tagged_doc = TaggedDocument(\n",
    "        words=word_tokenize(doc.lower()), # tokenize the document\n",
    "        tags=[str(i)] # tag the document with its index\n",
    "    )\n",
    "    tagged_docs.append(tagged_doc)"
   ]
  },
  {
   "cell_type": "markdown",
   "id": "bdff272a",
   "metadata": {},
   "source": [
    "We added \"tags\" along with the words. The \"tag\" is used to identify the document.\n",
    "\n",
    "```{tip}\n",
    "`word_tokenize` is a function from the `nltk` library that tokenizes the document into words.\n",
    "For example, \"Machine learning is a subset of artificial intelligence\" is tokenized into `['machine', 'learning', 'is', 'a', 'subset', 'of', 'artificial', 'intelligence']`.\n",
    "```\n",
    "\n",
    "Second, we need to train the Doc2Vec model."
   ]
  },
  {
   "cell_type": "code",
   "execution_count": 4,
   "id": "cef3adad",
   "metadata": {},
   "outputs": [],
   "source": [
    "# Train Doc2Vec model\n",
    "model = Doc2Vec(tagged_docs,\n",
    "                vector_size=50, # dimension of the document vector\n",
    "                window=2, # context window size\n",
    "                min_count=1, # ignore words that appear less than this\n",
    "                epochs=300,\n",
    "                dm=1, # 0: PV-DBOW, 1: PV-DM\n",
    "                )\n",
    "\n",
    "# Common hyperparameters to tune:\n",
    "# - vector_size: Higher dimensions can capture more complex relationships but need more data\n",
    "# - window: Larger windows capture broader context but increase computation\n",
    "# - dm_concat: 1 for concatenation, 0 for averaging in PV-DM\n",
    "# - negative: Number of negative samples (default: 5)\n",
    "# - alpha: Initial learning rate"
   ]
  },
  {
   "cell_type": "markdown",
   "id": "887461a1",
   "metadata": {},
   "source": [
    "This generates the model along with the word and document vectors.\n",
    "\n",
    "One of the interesting features of Doc2Vec is that it can generate an embedding for a new unseen document.\n",
    "This can be done by using the `infer_vector` method.\n",
    "\n",
    "```{tip}\n",
    "A new document vector is generated by fixing the word vectors and optimizing the document vector through gradient descent.\n",
    "The inference process:\n",
    "1. Initialize a random document vector\n",
    "2. Perform gradient updates using the pre-trained word vectors\n",
    "3. Return the optimized document vector\n",
    "See {footcite}`le2014distributed` for more details.\n",
    "```"
   ]
  },
  {
   "cell_type": "code",
   "execution_count": 5,
   "id": "b791247a",
   "metadata": {},
   "outputs": [],
   "source": [
    "# Find similar documents\n",
    "test_doc = \"AI systems use machine learning algorithms\"\n",
    "test_vector = model.infer_vector(word_tokenize(test_doc.lower()))"
   ]
  },
  {
   "cell_type": "markdown",
   "id": "4703dcd4",
   "metadata": {},
   "source": [
    "Now, let us find the most similar documents to the test document."
   ]
  },
  {
   "cell_type": "code",
   "execution_count": 6,
   "id": "e459b575",
   "metadata": {},
   "outputs": [
    {
     "name": "stdout",
     "output_type": "stream",
     "text": [
      "Similar documents to: AI systems use machine learning algorithms \n",
      "\n",
      "Document 0: Machine learning is a subset of artificial intelligence\n",
      "Similarity: 0.9842\n",
      "\n",
      "Document 2: Natural language processing deals with text and speech\n",
      "Similarity: 0.9803\n",
      "\n",
      "Document 1: Deep learning uses neural networks with multiple layers\n",
      "Similarity: 0.9698\n",
      "\n",
      "Document 3: Computer vision focuses on image and video analysis\n",
      "Similarity: 0.9667\n",
      "\n",
      "Document 4: Reinforcement learning involves agents making decisions\n",
      "Similarity: 0.9577\n",
      "\n"
     ]
    }
   ],
   "source": [
    "similar_docs = model.dv.most_similar([test_vector])\n",
    "\n",
    "print(\"Similar documents to:\", test_doc, \"\\n\")\n",
    "for doc_id, similarity in similar_docs:\n",
    "    print(f\"Document {doc_id}: {documents[int(doc_id)]}\")\n",
    "    print(f\"Similarity: {similarity:.4f}\\n\")"
   ]
  },
  {
   "cell_type": "markdown",
   "id": "ae8477c3",
   "metadata": {},
   "source": [
    "## 🔥 Exercises 🔥\n",
    "\n",
    "1. Create a search engine using Doc2Vec. This search engine takes a query document and returns the most similar documents.\n",
    "\n",
    "2. Perform topic classification based on the document vectors.\n",
    "\n",
    "3. Visualization Challenge\n",
    "   - Create t-SNE/UMAP/PCA visualization of the document vectors.\n",
    "   - Color-code by topic\n",
    "   - Analyze clustering patterns"
   ]
  },
  {
   "cell_type": "code",
   "execution_count": 7,
   "id": "f6ad7ea7",
   "metadata": {},
   "outputs": [],
   "source": [
    "sample_documents = [\n",
    "    # Technology\n",
    "    {\"text\": \"Artificial intelligence is transforming the way we interact with computers\", \"topic\": \"technology\"},\n",
    "    {\"text\": \"Machine learning algorithms can identify patterns in complex datasets\", \"topic\": \"technology\"},\n",
    "    {\"text\": \"Deep learning models have achieved human-level performance in image recognition\", \"topic\": \"technology\"},\n",
    "    {\"text\": \"Neural networks are inspired by biological brain structures\", \"topic\": \"technology\"},\n",
    "    {\"text\": \"Natural language processing enables machines to understand human text\", \"topic\": \"technology\"},\n",
    "    {\"text\": \"Computer vision systems can detect objects in real-time video streams\", \"topic\": \"technology\"},\n",
    "    {\"text\": \"Reinforcement learning agents learn through interaction with environments\", \"topic\": \"technology\"},\n",
    "    {\"text\": \"Edge computing brings AI processing closer to data sources\", \"topic\": \"technology\"},\n",
    "    {\"text\": \"Transfer learning reduces the need for large training datasets\", \"topic\": \"technology\"},\n",
    "    {\"text\": \"Automated machine learning optimizes model architecture search\", \"topic\": \"technology\"},\n",
    "    {\"text\": \"Explainable AI helps understand model decision-making processes\", \"topic\": \"technology\"},\n",
    "    {\"text\": \"Federated learning enables privacy-preserving model training\", \"topic\": \"technology\"},\n",
    "    {\"text\": \"Quantum computing promises breakthroughs in optimization problems\", \"topic\": \"technology\"},\n",
    "    {\"text\": \"Cloud platforms provide scalable computing resources\", \"topic\": \"technology\"},\n",
    "    {\"text\": \"GPUs accelerate deep learning model training significantly\", \"topic\": \"technology\"},\n",
    "\n",
    "    # Science\n",
    "    {\"text\": \"Quantum mechanics explains behavior at the atomic scale\", \"topic\": \"science\"},\n",
    "    {\"text\": \"DNA sequencing reveals genetic variations between organisms\", \"topic\": \"science\"},\n",
    "    {\"text\": \"Chemical reactions transfer energy between molecules\", \"topic\": \"science\"},\n",
    "    {\"text\": \"Gravitational waves provide insights into cosmic events\", \"topic\": \"science\"},\n",
    "    {\"text\": \"Particle accelerators probe fundamental physics laws\", \"topic\": \"science\"},\n",
    "    {\"text\": \"Cell biology studies the basic units of life\", \"topic\": \"science\"},\n",
    "    {\"text\": \"Evolutionary theory explains species adaptation\", \"topic\": \"science\"},\n",
    "    {\"text\": \"Neuroscience investigates brain structure and function\", \"topic\": \"science\"},\n",
    "    {\"text\": \"Climate models predict long-term weather patterns\", \"topic\": \"science\"},\n",
    "    {\"text\": \"Geological processes shape Earth's surface features\", \"topic\": \"science\"},\n",
    "    {\"text\": \"Conservation biology aims to protect endangered species\", \"topic\": \"science\"},\n",
    "    {\"text\": \"Astronomy studies celestial objects and phenomena\", \"topic\": \"science\"},\n",
    "    {\"text\": \"Biochemistry examines cellular metabolic processes\", \"topic\": \"science\"},\n",
    "    {\"text\": \"Physics laws describe fundamental force interactions\", \"topic\": \"science\"},\n",
    "    {\"text\": \"Scientific method tests hypotheses through experiments\", \"topic\": \"science\"},\n",
    "\n",
    "    # Business\n",
    "    {\"text\": \"Market analysis guides investment decisions\", \"topic\": \"business\"},\n",
    "    {\"text\": \"Strategic planning sets long-term company goals\", \"topic\": \"business\"},\n",
    "    {\"text\": \"Financial reports track business performance metrics\", \"topic\": \"business\"},\n",
    "    {\"text\": \"Supply chain optimization reduces operational costs\", \"topic\": \"business\"},\n",
    "    {\"text\": \"Customer relationship management builds loyalty\", \"topic\": \"business\"},\n",
    "    {\"text\": \"Digital marketing reaches targeted audiences online\", \"topic\": \"business\"},\n",
    "    {\"text\": \"Product development responds to market demands\", \"topic\": \"business\"},\n",
    "    {\"text\": \"Risk management protects business assets\", \"topic\": \"business\"},\n",
    "    {\"text\": \"Human resources develops employee talent\", \"topic\": \"business\"},\n",
    "    {\"text\": \"Sales strategies drive revenue growth\", \"topic\": \"business\"},\n",
    "    {\"text\": \"Competitive analysis identifies market opportunities\", \"topic\": \"business\"},\n",
    "    {\"text\": \"Business analytics inform decision-making processes\", \"topic\": \"business\"},\n",
    "    {\"text\": \"Brand management builds company reputation\", \"topic\": \"business\"},\n",
    "    {\"text\": \"Operations management streamlines production processes\", \"topic\": \"business\"},\n",
    "    {\"text\": \"Innovation strategy drives business transformation\", \"topic\": \"business\"}\n",
    "]"
   ]
  },
  {
   "cell_type": "markdown",
   "id": "ad0a8c1e",
   "metadata": {},
   "source": [
    "```{footbibliography}\n",
    ":style: unsrt\n",
    "```"
   ]
  }
 ],
 "metadata": {
  "jupytext": {
   "formats": "md:myst",
   "text_representation": {
    "extension": ".md",
    "format_name": "myst"
   }
  },
  "kernelspec": {
   "display_name": "Python 3",
   "language": "python",
   "name": "python3"
  },
  "language_info": {
   "codemirror_mode": {
    "name": "ipython",
    "version": 3
   },
   "file_extension": ".py",
   "mimetype": "text/x-python",
   "name": "python",
   "nbconvert_exporter": "python",
   "pygments_lexer": "ipython3",
   "version": "3.10.13"
  }
 },
 "nbformat": 4,
 "nbformat_minor": 5
}