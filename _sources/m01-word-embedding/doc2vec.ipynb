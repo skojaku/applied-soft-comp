{
 "cells": [
  {
   "cell_type": "markdown",
   "id": "bbcfbbea",
   "metadata": {},
   "source": [
    "# Doc2Vec: From Words to Documents\n",
    "\n",
    "## Doc2Vec Model\n",
    "\n",
    "\n",
    "Doc2Vec {footcite}`le2014distributed` extends word2vec by learning document vectors alongside word vectors. For a document $d$ with words $w_1, w_2, ..., w_n$, it learns:\n",
    "- Document vector $v_d \\in \\mathbb{R}^m$\n",
    "- Word vectors $v_w \\in \\mathbb{R}^m$\n",
    "\n",
    "There are two types of Doc2Vec:\n",
    "- Distributed Memory (PV-DM)\n",
    "- Distributed Bag of Words (PV-DBOW)\n",
    "\n",
    "where PV-DM corresponds to the CBOW model, and PV-DBOW corresponds to the Skip-Gram model of word2vec.\n",
    "\n",
    "```{note}\n",
    "See [the lecture note of word2vec](../m01-word-embedding/word2vec.md) for more details on CBOW and Skip-Gram.\n",
    "```\n",
    "\n",
    "### Distributed Memory (PV-DM)\n",
    "\n",
    "```{figure} https://miro.medium.com/v2/resize:fit:1400/format:webp/1*JPetbQHmG0NAbdQ08JSiMQ.png\n",
    ":name: pv-dm\n",
    ":alt: PV-DM\n",
    ":width: 500px\n",
    ":align: center\n",
    "\n",
    "PV-DM predicts the center word based on the *average* or *concatenated* vector of the context words. Image taken from https://heartbeat.comet.ml/getting-started-with-doc2vec-2645e3e9f137\n",
    "```\n",
    "\n",
    "CBOW word2vec predicts the center word based on the *average* or *concatenated* vector of the context words.\n",
    "In PV-DM, the document vector is added to the average or concatenation.\n",
    "More specifically, the probability of a word $w_i$ given the document $d$ and the context $w_{i-k},...,w_{i-1}$ is given by:\n",
    "\n",
    "$$P(w_i|w_{i-k},...,w_{i-1},d) = \\frac{\\exp(u_{w_i}^T h)}{\\sum_{w \\in V} \\exp(u_w^T h)}$$\n",
    "\n",
    "where $h$ is the context vector, which is either the average:\n",
    "\n",
    "$$\n",
    "h = \\frac{1}{k\\textcolor{red}{+1}}\\left(\\textcolor{red}{v_d} + \\sum_{j=i-k}^{i-1}v_{w_j}\\right)\n",
    "$$\n",
    "\n",
    "or the concatenation:\n",
    "\n",
    "$$\n",
    "h = \\left(v_d, \\sum_{j=i-k}^{i-1}v_{w_j}\\right) U, \\quad U \\in \\mathbb{R}^{(d+kd) \\times d}\n",
    "$$\n",
    "\n",
    "where $U$ is a matrix that maps the concatenated vector (of dimension $d+kd$) back to dimension $d$ to match the word vector space. Here, $d$ is the embedding dimension and $k$ is the context window size.\n",
    "\n",
    "```{note}\n",
    "The choice between concatenation and average affects how the document and context vectors are combined:\n",
    "- **Average**: Treats document vector and context word vectors equally by taking their mean. This is simpler but may neglect the influence of individual context words. No additional parameters needed, making it computationally efficient.\n",
    "- **Concatenation**: Keeps document and context information separate before combining through the U matrix. This preserves more distinct information but requires learning additional parameters (the U matrix). Though more computationally intensive, it allows the model to learn different weights for document and word contexts.\n",
    "The original paper used concatenation, arguing it allows the model to treat document and word vectors differently.\n",
    "\n",
    "```\n",
    "\n",
    "```{warning}\n",
    "The softmax computation over the entire vocabulary V can be computationally expensive for large vocabularies. In practice, optimization techniques like negative sampling or hierarchical softmax are commonly used to approximate this computation more efficiently.\n",
    "```\n",
    "\n",
    "### Distributed Bag of Words (PV-DBOW)\n",
    "\n",
    "```{figure} https://miro.medium.com/v2/resize:fit:1400/1*ALpuAo7uv0V8PlrVgSzMsg.png\n",
    ":name: pv-dbow\n",
    ":alt: PV-DBOW\n",
    ":width: 500px\n",
    ":align: center\n",
    "\n",
    "PV-DBOW predicts context words using only the document vector, similar to Skip-Gram predicting context words from a center word. Image taken from https://heartbeat.comet.ml/getting-started-with-doc2vec-2645e3e9f137\n",
    "\n",
    "```\n",
    "\n",
    "PV-DBOW is similar to Skip-Gram. The probability of a word $w_i$ given the document $d$ is given by:\n",
    "\n",
    "$$P(w_i|d) = \\frac{\\exp(u_{w_i}^T v_d)}{\\sum_{w \\in V} \\exp(u_w^T v_d)}$$\n",
    "\n",
    "This is analogous to the skip-gram model, where the document vector $v_d$ is used to predict the context words.\n",
    "\n",
    "\n",
    "```{note}\n",
    "Which mode, PV-DM or PV-DBOW, is better? The original paper {footcite}`le2014distributed` suggests that PV-DM is better, since it can distinguish the order of words within a document.\n",
    "Yet, {footcite}`le2016empirical` found that PV-DBOW, despite being more simple, is better overall for document similarity tasks, when properly tuned. This highlights the importance of hyperparameter optimization in practice.\n",
    "\n",
    "Key considerations for choosing between PV-DM and PV-DBOW:\n",
    "- PV-DM: Better for tasks requiring word order sensitivity\n",
    "- PV-DBOW: More efficient training, often better for similarity tasks\n",
    "- Hybrid approach: Some implementations combine both methods\n",
    "```\n",
    "\n",
    "## Hands-on Implementation\n",
    "\n",
    "Let us have a hands-on implementation of Doc2Vec using the `gensim` library.\n",
    "Our sample documents are:"
   ]
  },
  {
   "cell_type": "code",
   "execution_count": 1,
   "id": "6d41fb01",
   "metadata": {},
   "outputs": [],
   "source": [
    "# Sample documents\n",
    "documents = [\n",
    "    \"Machine learning is a subset of artificial intelligence\",\n",
    "    \"Deep learning uses neural networks with multiple layers\",\n",
    "    \"Natural language processing deals with text and speech\",\n",
    "    \"Computer vision focuses on image and video analysis\",\n",
    "    \"Reinforcement learning involves agents making decisions\"\n",
    "]"
   ]
  },
  {
   "cell_type": "markdown",
   "id": "b3fafb53",
   "metadata": {},
   "source": [
    "We will first import the necessary libraries."
   ]
  },
  {
   "cell_type": "code",
   "execution_count": 2,
   "id": "09a7a53a",
   "metadata": {},
   "outputs": [
    {
     "ename": "ImportError",
     "evalue": "cannot import name 'triu' from 'scipy.linalg' (/Users/skojaku-admin/miniforge3/envs/applsoftcomp/lib/python3.10/site-packages/scipy/linalg/__init__.py)",
     "output_type": "error",
     "traceback": [
      "\u001b[0;31m---------------------------------------------------------------------------\u001b[0m",
      "\u001b[0;31mImportError\u001b[0m                               Traceback (most recent call last)",
      "Cell \u001b[0;32mIn[2], line 1\u001b[0m\n\u001b[0;32m----> 1\u001b[0m \u001b[38;5;28;01mfrom\u001b[39;00m \u001b[38;5;21;01mgensim\u001b[39;00m\u001b[38;5;21;01m.\u001b[39;00m\u001b[38;5;21;01mmodels\u001b[39;00m\u001b[38;5;21;01m.\u001b[39;00m\u001b[38;5;21;01mdoc2vec\u001b[39;00m \u001b[38;5;28;01mimport\u001b[39;00m Doc2Vec, TaggedDocument\n\u001b[1;32m      2\u001b[0m \u001b[38;5;28;01mfrom\u001b[39;00m \u001b[38;5;21;01mnltk\u001b[39;00m\u001b[38;5;21;01m.\u001b[39;00m\u001b[38;5;21;01mtokenize\u001b[39;00m \u001b[38;5;28;01mimport\u001b[39;00m word_tokenize\n",
      "File \u001b[0;32m~/miniforge3/envs/applsoftcomp/lib/python3.10/site-packages/gensim/__init__.py:11\u001b[0m\n\u001b[1;32m      7\u001b[0m __version__ \u001b[38;5;241m=\u001b[39m \u001b[38;5;124m'\u001b[39m\u001b[38;5;124m4.3.2\u001b[39m\u001b[38;5;124m'\u001b[39m\n\u001b[1;32m      9\u001b[0m \u001b[38;5;28;01mimport\u001b[39;00m \u001b[38;5;21;01mlogging\u001b[39;00m\n\u001b[0;32m---> 11\u001b[0m \u001b[38;5;28;01mfrom\u001b[39;00m \u001b[38;5;21;01mgensim\u001b[39;00m \u001b[38;5;28;01mimport\u001b[39;00m parsing, corpora, matutils, interfaces, models, similarities, utils  \u001b[38;5;66;03m# noqa:F401\u001b[39;00m\n\u001b[1;32m     14\u001b[0m logger \u001b[38;5;241m=\u001b[39m logging\u001b[38;5;241m.\u001b[39mgetLogger(\u001b[38;5;124m'\u001b[39m\u001b[38;5;124mgensim\u001b[39m\u001b[38;5;124m'\u001b[39m)\n\u001b[1;32m     15\u001b[0m \u001b[38;5;28;01mif\u001b[39;00m \u001b[38;5;129;01mnot\u001b[39;00m logger\u001b[38;5;241m.\u001b[39mhandlers:  \u001b[38;5;66;03m# To ensure reload() doesn't add another one\u001b[39;00m\n",
      "File \u001b[0;32m~/miniforge3/envs/applsoftcomp/lib/python3.10/site-packages/gensim/corpora/__init__.py:6\u001b[0m\n\u001b[1;32m      1\u001b[0m \u001b[38;5;124;03m\"\"\"\u001b[39;00m\n\u001b[1;32m      2\u001b[0m \u001b[38;5;124;03mThis package contains implementations of various streaming corpus I/O format.\u001b[39;00m\n\u001b[1;32m      3\u001b[0m \u001b[38;5;124;03m\"\"\"\u001b[39;00m\n\u001b[1;32m      5\u001b[0m \u001b[38;5;66;03m# bring corpus classes directly into package namespace, to save some typing\u001b[39;00m\n\u001b[0;32m----> 6\u001b[0m \u001b[38;5;28;01mfrom\u001b[39;00m \u001b[38;5;21;01m.\u001b[39;00m\u001b[38;5;21;01mindexedcorpus\u001b[39;00m \u001b[38;5;28;01mimport\u001b[39;00m IndexedCorpus  \u001b[38;5;66;03m# noqa:F401 must appear before the other classes\u001b[39;00m\n\u001b[1;32m      8\u001b[0m \u001b[38;5;28;01mfrom\u001b[39;00m \u001b[38;5;21;01m.\u001b[39;00m\u001b[38;5;21;01mmmcorpus\u001b[39;00m \u001b[38;5;28;01mimport\u001b[39;00m MmCorpus  \u001b[38;5;66;03m# noqa:F401\u001b[39;00m\n\u001b[1;32m      9\u001b[0m \u001b[38;5;28;01mfrom\u001b[39;00m \u001b[38;5;21;01m.\u001b[39;00m\u001b[38;5;21;01mbleicorpus\u001b[39;00m \u001b[38;5;28;01mimport\u001b[39;00m BleiCorpus  \u001b[38;5;66;03m# noqa:F401\u001b[39;00m\n",
      "File \u001b[0;32m~/miniforge3/envs/applsoftcomp/lib/python3.10/site-packages/gensim/corpora/indexedcorpus.py:14\u001b[0m\n\u001b[1;32m     10\u001b[0m \u001b[38;5;28;01mimport\u001b[39;00m \u001b[38;5;21;01mlogging\u001b[39;00m\n\u001b[1;32m     12\u001b[0m \u001b[38;5;28;01mimport\u001b[39;00m \u001b[38;5;21;01mnumpy\u001b[39;00m\n\u001b[0;32m---> 14\u001b[0m \u001b[38;5;28;01mfrom\u001b[39;00m \u001b[38;5;21;01mgensim\u001b[39;00m \u001b[38;5;28;01mimport\u001b[39;00m interfaces, utils\n\u001b[1;32m     16\u001b[0m logger \u001b[38;5;241m=\u001b[39m logging\u001b[38;5;241m.\u001b[39mgetLogger(\u001b[38;5;18m__name__\u001b[39m)\n\u001b[1;32m     19\u001b[0m \u001b[38;5;28;01mclass\u001b[39;00m \u001b[38;5;21;01mIndexedCorpus\u001b[39;00m(interfaces\u001b[38;5;241m.\u001b[39mCorpusABC):\n",
      "File \u001b[0;32m~/miniforge3/envs/applsoftcomp/lib/python3.10/site-packages/gensim/interfaces.py:19\u001b[0m\n\u001b[1;32m      7\u001b[0m \u001b[38;5;124;03m\"\"\"Basic interfaces used across the whole Gensim package.\u001b[39;00m\n\u001b[1;32m      8\u001b[0m \n\u001b[1;32m      9\u001b[0m \u001b[38;5;124;03mThese interfaces are used for building corpora, model transformation and similarity queries.\u001b[39;00m\n\u001b[0;32m   (...)\u001b[0m\n\u001b[1;32m     14\u001b[0m \n\u001b[1;32m     15\u001b[0m \u001b[38;5;124;03m\"\"\"\u001b[39;00m\n\u001b[1;32m     17\u001b[0m \u001b[38;5;28;01mimport\u001b[39;00m \u001b[38;5;21;01mlogging\u001b[39;00m\n\u001b[0;32m---> 19\u001b[0m \u001b[38;5;28;01mfrom\u001b[39;00m \u001b[38;5;21;01mgensim\u001b[39;00m \u001b[38;5;28;01mimport\u001b[39;00m utils, matutils\n\u001b[1;32m     22\u001b[0m logger \u001b[38;5;241m=\u001b[39m logging\u001b[38;5;241m.\u001b[39mgetLogger(\u001b[38;5;18m__name__\u001b[39m)\n\u001b[1;32m     25\u001b[0m \u001b[38;5;28;01mclass\u001b[39;00m \u001b[38;5;21;01mCorpusABC\u001b[39;00m(utils\u001b[38;5;241m.\u001b[39mSaveLoad):\n",
      "File \u001b[0;32m~/miniforge3/envs/applsoftcomp/lib/python3.10/site-packages/gensim/matutils.py:20\u001b[0m\n\u001b[1;32m     18\u001b[0m \u001b[38;5;28;01mimport\u001b[39;00m \u001b[38;5;21;01mscipy\u001b[39;00m\u001b[38;5;21;01m.\u001b[39;00m\u001b[38;5;21;01msparse\u001b[39;00m\n\u001b[1;32m     19\u001b[0m \u001b[38;5;28;01mfrom\u001b[39;00m \u001b[38;5;21;01mscipy\u001b[39;00m\u001b[38;5;21;01m.\u001b[39;00m\u001b[38;5;21;01mstats\u001b[39;00m \u001b[38;5;28;01mimport\u001b[39;00m entropy\n\u001b[0;32m---> 20\u001b[0m \u001b[38;5;28;01mfrom\u001b[39;00m \u001b[38;5;21;01mscipy\u001b[39;00m\u001b[38;5;21;01m.\u001b[39;00m\u001b[38;5;21;01mlinalg\u001b[39;00m \u001b[38;5;28;01mimport\u001b[39;00m get_blas_funcs, triu\n\u001b[1;32m     21\u001b[0m \u001b[38;5;28;01mfrom\u001b[39;00m \u001b[38;5;21;01mscipy\u001b[39;00m\u001b[38;5;21;01m.\u001b[39;00m\u001b[38;5;21;01mlinalg\u001b[39;00m\u001b[38;5;21;01m.\u001b[39;00m\u001b[38;5;21;01mlapack\u001b[39;00m \u001b[38;5;28;01mimport\u001b[39;00m get_lapack_funcs\n\u001b[1;32m     22\u001b[0m \u001b[38;5;28;01mfrom\u001b[39;00m \u001b[38;5;21;01mscipy\u001b[39;00m\u001b[38;5;21;01m.\u001b[39;00m\u001b[38;5;21;01mspecial\u001b[39;00m \u001b[38;5;28;01mimport\u001b[39;00m psi  \u001b[38;5;66;03m# gamma function utils\u001b[39;00m\n",
      "\u001b[0;31mImportError\u001b[0m: cannot import name 'triu' from 'scipy.linalg' (/Users/skojaku-admin/miniforge3/envs/applsoftcomp/lib/python3.10/site-packages/scipy/linalg/__init__.py)"
     ]
    }
   ],
   "source": [
    "from gensim.models.doc2vec import Doc2Vec, TaggedDocument\n",
    "from nltk.tokenize import word_tokenize"
   ]
  },
  {
   "cell_type": "markdown",
   "id": "1850e5da",
   "metadata": {},
   "source": [
    "In gensim doc2vec, we need to prepare the documents in the form of `TaggedDocument`."
   ]
  },
  {
   "cell_type": "code",
   "execution_count": null,
   "id": "f565c3d2",
   "metadata": {},
   "outputs": [],
   "source": [
    "# Prepare documents\n",
    "tagged_docs = []\n",
    "for i, doc in enumerate(documents):\n",
    "    tagged_doc = TaggedDocument(\n",
    "        words=word_tokenize(doc.lower()), # tokenize the document\n",
    "        tags=[str(i)] # tag the document with its index\n",
    "    )\n",
    "    tagged_docs.append(tagged_doc)"
   ]
  },
  {
   "cell_type": "markdown",
   "id": "ce780664",
   "metadata": {},
   "source": [
    "We added \"tags\" along with the words. The \"tag\" is used to identify the document.\n",
    "\n",
    "```{tip}\n",
    "`word_tokenize` is a function from the `nltk` library that tokenizes the document into words.\n",
    "For example, \"Machine learning is a subset of artificial intelligence\" is tokenized into `['machine', 'learning', 'is', 'a', 'subset', 'of', 'artificial', 'intelligence']`.\n",
    "```\n",
    "\n",
    "Second, we need to train the Doc2Vec model."
   ]
  },
  {
   "cell_type": "code",
   "execution_count": null,
   "id": "e6c13789",
   "metadata": {},
   "outputs": [],
   "source": [
    "# Train Doc2Vec model\n",
    "model = Doc2Vec(tagged_docs,\n",
    "                vector_size=50, # dimension of the document vector\n",
    "                window=2, # context window size\n",
    "                min_count=1, # ignore words that appear less than this\n",
    "                epochs=300,\n",
    "                dm=1, # 0: PV-DBOW, 1: PV-DM\n",
    "                )\n",
    "\n",
    "# Common hyperparameters to tune:\n",
    "# - vector_size: Higher dimensions can capture more complex relationships but need more data\n",
    "# - window: Larger windows capture broader context but increase computation\n",
    "# - dm_concat: 1 for concatenation, 0 for averaging in PV-DM\n",
    "# - negative: Number of negative samples (default: 5)\n",
    "# - alpha: Initial learning rate"
   ]
  },
  {
   "cell_type": "markdown",
   "id": "98b85be8",
   "metadata": {},
   "source": [
    "This generates the model along with the word and document vectors.\n",
    "\n",
    "One of the interesting features of Doc2Vec is that it can generate an embedding for a new unseen document.\n",
    "This can be done by using the `infer_vector` method.\n",
    "\n",
    "```{tip}\n",
    "A new document vector is generated by fixing the word vectors and optimizing the document vector through gradient descent.\n",
    "The inference process:\n",
    "1. Initialize a random document vector\n",
    "2. Perform gradient updates using the pre-trained word vectors\n",
    "3. Return the optimized document vector\n",
    "See {footcite}`le2014distributed` for more details.\n",
    "```"
   ]
  },
  {
   "cell_type": "code",
   "execution_count": null,
   "id": "34ae643a",
   "metadata": {},
   "outputs": [],
   "source": [
    "# Find similar documents\n",
    "test_doc = \"AI systems use machine learning algorithms\"\n",
    "test_vector = model.infer_vector(word_tokenize(test_doc.lower()))"
   ]
  },
  {
   "cell_type": "markdown",
   "id": "cb8fd902",
   "metadata": {},
   "source": [
    "Now, let us find the most similar documents to the test document."
   ]
  },
  {
   "cell_type": "code",
   "execution_count": null,
   "id": "4cd69559",
   "metadata": {},
   "outputs": [],
   "source": [
    "similar_docs = model.dv.most_similar([test_vector])\n",
    "\n",
    "print(\"Similar documents to:\", test_doc, \"\\n\")\n",
    "for doc_id, similarity in similar_docs:\n",
    "    print(f\"Document {doc_id}: {documents[int(doc_id)]}\")\n",
    "    print(f\"Similarity: {similarity:.4f}\\n\")"
   ]
  },
  {
   "cell_type": "markdown",
   "id": "e75e7960",
   "metadata": {},
   "source": [
    "## 🔥 Exercises 🔥\n",
    "\n",
    "1. Create a search engine using Doc2Vec. This search engine takes a query document and returns the most similar documents.\n",
    "\n",
    "2. Perform topic classification based on the document vectors.\n",
    "\n",
    "3. Visualization Challenge\n",
    "   - Create t-SNE/UMAP/PCA visualization of the document vectors.\n",
    "   - Color-code by topic\n",
    "   - Analyze clustering patterns"
   ]
  },
  {
   "cell_type": "code",
   "execution_count": null,
   "id": "9a26228e",
   "metadata": {},
   "outputs": [],
   "source": [
    "sample_documents = [\n",
    "    # Technology\n",
    "    {\"text\": \"Artificial intelligence is transforming the way we interact with computers\", \"topic\": \"technology\"},\n",
    "    {\"text\": \"Machine learning algorithms can identify patterns in complex datasets\", \"topic\": \"technology\"},\n",
    "    {\"text\": \"Deep learning models have achieved human-level performance in image recognition\", \"topic\": \"technology\"},\n",
    "    {\"text\": \"Neural networks are inspired by biological brain structures\", \"topic\": \"technology\"},\n",
    "    {\"text\": \"Natural language processing enables machines to understand human text\", \"topic\": \"technology\"},\n",
    "    {\"text\": \"Computer vision systems can detect objects in real-time video streams\", \"topic\": \"technology\"},\n",
    "    {\"text\": \"Reinforcement learning agents learn through interaction with environments\", \"topic\": \"technology\"},\n",
    "    {\"text\": \"Edge computing brings AI processing closer to data sources\", \"topic\": \"technology\"},\n",
    "    {\"text\": \"Transfer learning reduces the need for large training datasets\", \"topic\": \"technology\"},\n",
    "    {\"text\": \"Automated machine learning optimizes model architecture search\", \"topic\": \"technology\"},\n",
    "    {\"text\": \"Explainable AI helps understand model decision-making processes\", \"topic\": \"technology\"},\n",
    "    {\"text\": \"Federated learning enables privacy-preserving model training\", \"topic\": \"technology\"},\n",
    "    {\"text\": \"Quantum computing promises breakthroughs in optimization problems\", \"topic\": \"technology\"},\n",
    "    {\"text\": \"Cloud platforms provide scalable computing resources\", \"topic\": \"technology\"},\n",
    "    {\"text\": \"GPUs accelerate deep learning model training significantly\", \"topic\": \"technology\"},\n",
    "\n",
    "    # Science\n",
    "    {\"text\": \"Quantum mechanics explains behavior at the atomic scale\", \"topic\": \"science\"},\n",
    "    {\"text\": \"DNA sequencing reveals genetic variations between organisms\", \"topic\": \"science\"},\n",
    "    {\"text\": \"Chemical reactions transfer energy between molecules\", \"topic\": \"science\"},\n",
    "    {\"text\": \"Gravitational waves provide insights into cosmic events\", \"topic\": \"science\"},\n",
    "    {\"text\": \"Particle accelerators probe fundamental physics laws\", \"topic\": \"science\"},\n",
    "    {\"text\": \"Cell biology studies the basic units of life\", \"topic\": \"science\"},\n",
    "    {\"text\": \"Evolutionary theory explains species adaptation\", \"topic\": \"science\"},\n",
    "    {\"text\": \"Neuroscience investigates brain structure and function\", \"topic\": \"science\"},\n",
    "    {\"text\": \"Climate models predict long-term weather patterns\", \"topic\": \"science\"},\n",
    "    {\"text\": \"Geological processes shape Earth's surface features\", \"topic\": \"science\"},\n",
    "    {\"text\": \"Conservation biology aims to protect endangered species\", \"topic\": \"science\"},\n",
    "    {\"text\": \"Astronomy studies celestial objects and phenomena\", \"topic\": \"science\"},\n",
    "    {\"text\": \"Biochemistry examines cellular metabolic processes\", \"topic\": \"science\"},\n",
    "    {\"text\": \"Physics laws describe fundamental force interactions\", \"topic\": \"science\"},\n",
    "    {\"text\": \"Scientific method tests hypotheses through experiments\", \"topic\": \"science\"},\n",
    "\n",
    "    # Business\n",
    "    {\"text\": \"Market analysis guides investment decisions\", \"topic\": \"business\"},\n",
    "    {\"text\": \"Strategic planning sets long-term company goals\", \"topic\": \"business\"},\n",
    "    {\"text\": \"Financial reports track business performance metrics\", \"topic\": \"business\"},\n",
    "    {\"text\": \"Supply chain optimization reduces operational costs\", \"topic\": \"business\"},\n",
    "    {\"text\": \"Customer relationship management builds loyalty\", \"topic\": \"business\"},\n",
    "    {\"text\": \"Digital marketing reaches targeted audiences online\", \"topic\": \"business\"},\n",
    "    {\"text\": \"Product development responds to market demands\", \"topic\": \"business\"},\n",
    "    {\"text\": \"Risk management protects business assets\", \"topic\": \"business\"},\n",
    "    {\"text\": \"Human resources develops employee talent\", \"topic\": \"business\"},\n",
    "    {\"text\": \"Sales strategies drive revenue growth\", \"topic\": \"business\"},\n",
    "    {\"text\": \"Competitive analysis identifies market opportunities\", \"topic\": \"business\"},\n",
    "    {\"text\": \"Business analytics inform decision-making processes\", \"topic\": \"business\"},\n",
    "    {\"text\": \"Brand management builds company reputation\", \"topic\": \"business\"},\n",
    "    {\"text\": \"Operations management streamlines production processes\", \"topic\": \"business\"},\n",
    "    {\"text\": \"Innovation strategy drives business transformation\", \"topic\": \"business\"}\n",
    "]"
   ]
  },
  {
   "cell_type": "markdown",
   "id": "2616754b",
   "metadata": {},
   "source": [
    "```{footbibliography}\n",
    ":style: unsrt\n",
    "```"
   ]
  }
 ],
 "metadata": {
  "jupytext": {
   "formats": "md:myst",
   "text_representation": {
    "extension": ".md",
    "format_name": "myst"
   }
  },
  "kernelspec": {
   "display_name": "Python 3",
   "language": "python",
   "name": "python3"
  },
  "language_info": {
   "codemirror_mode": {
    "name": "ipython",
    "version": 3
   },
   "file_extension": ".py",
   "mimetype": "text/x-python",
   "name": "python",
   "nbconvert_exporter": "python",
   "pygments_lexer": "ipython3",
   "version": "3.10.9"
  }
 },
 "nbformat": 4,
 "nbformat_minor": 5
}